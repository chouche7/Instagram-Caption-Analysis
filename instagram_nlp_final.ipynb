{
 "cells": [
  {
   "cell_type": "markdown",
   "id": "325b4885",
   "metadata": {},
   "source": [
    "# Background\n"
   ]
  },
  {
   "cell_type": "markdown",
   "id": "4260136c",
   "metadata": {},
   "source": [
    "\n",
    "Technology has democratized advertising in our society, with influencer marketing emerging as a mainstream form of online marketing. Brands collaborate with popular online influencers to market products or services in order to improve brand recognition among target audiences. Unlike celebrities, influencers in social media can be anyone who has built a reputation for their knowledge and expertise on a specific topic. They are influential due to their large followings on the web which brands take advantage of because they can create trends and encourage their followers to buy products they promote. Influencers have the potential to affect the purchasing decisions of others because of their authority, knowledge, position, or relationship with their audience. \n",
    "\n",
    "Despite the results that can be gained through influencer marketing, researching and finding the right influencers is not an easy process. To achieve results and effectively engage the right audience, brands need to identify individuals who can act as genuine brand ambassadors and bring consumers on board with the products and services. Selecting an influencer that fits the brand can help to achieve the engagement and traffic desired. Simply looking at online profiles with the most followers might not satisfy a particular niche for the brands which is why they often spend considerable time finding the right influencers to achieve a good engagement rate with a targeted audience. Determining how different influencers generate traction and engagement rate is important, so that brands can allocate their budget more effectively when looking to sponsor. Thus, the main objective for this project is to examine how information on Instagram posts (captions, comments, sponsorship) and the influencer (category, bio, followers, followees) can be used to determine how popular a post will be. In particular, I also believe that the content of captions accompanying Instagram posts provide important context and are thus important in eliciting likes and shares.\n"
   ]
  },
  {
   "cell_type": "markdown",
   "id": "6b816360",
   "metadata": {},
   "source": [
    "# Dataset Source"
   ]
  },
  {
   "cell_type": "markdown",
   "id": "a2d56a77",
   "metadata": {},
   "source": [
    "The data we are using is collected from Instagram by Seungbae Kim, an assistant professor at University of South Florida for research purposes and was obtained with his consent (Kim et al., 2021):\n",
    "https://sites.google.com/site/sbkimcv/dataset\n",
    "\n",
    "This dataset contains information about influencer posts that have association with different brands. There are approximately 1.6 million Instagram posts, 26,910 brand names, and 38,113 different unique influencers in our dataset (Kim et al., 2021). The posts are specifically split into two types of categories: sponsored brand mentions and non-sponsored brand mentions. A sponsored post is one where the influencer gets paid for advertising and mentioning the name of the brand. "
   ]
  },
  {
   "cell_type": "markdown",
   "id": "7f09c793",
   "metadata": {},
   "source": [
    "# Text Preprocessing"
   ]
  },
  {
   "cell_type": "markdown",
   "id": "83504a88",
   "metadata": {},
   "source": [
    "The original raw data files given to us by Professor Kim comprise multiple JSON and text files. Due to the size of the data, we had to manually extract the information from each file in order to clean, process and merge it all into one big dataset for analysis.\n",
    "\n",
    "There are approximately 12 GB (3 GB when in zipped format) worth of JSON files containing specific profile and post information. The 1,601,074 JSON files are structured such that each file contains information on 1 profile. Since the number of fields available in each JSON file is not consistent, we extracted relevant fields from the approximately 1.6 million files and compiled them into a single dataset. During this process of compiling the JSON files, we also unpacked the objects within the JSON files and cleaned the dataset. \n",
    "\n",
    "For instance, the captions and comments were packed into dictionaries and required unpacking. Notably, the text in the captions or comments were not analyzed in the original paper by the author (Kim et al., 2021). However, the nature of the content can possibly add a useful dimension to the dataset. Thus, we decided to take up the challenge of doing NLP processing of this huge Instagram dataset.\n",
    "\n",
    "Because we were interested in predicting popular influencers and not the content of comments elicited and also because of the constraint of resources and time, we decided to use only the captions as a feature to predict popularity. Caption content is relevant because it adds to the information of a post’s picture and can elicit strong responses, sharing by viewers and lend context to the post. In addition, only a subset of the JSON posts had comments, thus we decided to focus on the captions.\n"
   ]
  },
  {
   "cell_type": "code",
   "execution_count": 344,
   "id": "85545f61",
   "metadata": {},
   "outputs": [],
   "source": [
    "# import necessary libraries\n",
    "import nltk\n",
    "from nltk.corpus import stopwords\n",
    "import os\n",
    "import string\n",
    "import pandas as pd\n",
    "import numpy as np\n",
    "import zipfile\n",
    "import io\n",
    "import re\n",
    "from textblob import Word\n",
    "import math\n",
    "import json\n",
    "#from textblob import TextBlob\n",
    "#from langdetect import detect\n",
    "import matplotlib.pyplot as plt\n",
    "import langid\n",
    "from sklearn.feature_extraction.text import CountVectorizer\n",
    "from sklearn.feature_extraction.text import TfidfTransformer\n",
    "from sklearn.feature_extraction.text import TfidfVectorizer\n",
    "from sklearn.linear_model import LinearRegression, LassoCV, ElasticNetCV\n",
    "from sklearn.preprocessing import OneHotEncoder\n",
    "from sklearn.model_selection import train_test_split\n",
    "from sklearn.model_selection import KFold\n",
    "from sklearn.model_selection import cross_val_score\n",
    "from sklearn.metrics import r2_score, mean_squared_error, mean_absolute_percentage_error\n",
    "from sklearn import tree\n",
    "from sklearn.model_selection import GridSearchCV\n",
    "from nltk.stem import *\n",
    "import statsmodels.api as sm\n",
    "import scipy.stats as stats\n",
    "from sklearn.ensemble import AdaBoostRegressor"
   ]
  },
  {
   "cell_type": "code",
   "execution_count": 345,
   "id": "8e327224",
   "metadata": {},
   "outputs": [
    {
     "name": "stderr",
     "output_type": "stream",
     "text": [
      "[nltk_data] Downloading package stopwords to\n",
      "[nltk_data]     /Users/chouche7/nltk_data...\n",
      "[nltk_data]   Package stopwords is already up-to-date!\n",
      "[nltk_data] Downloading package wordnet to\n",
      "[nltk_data]     /Users/chouche7/nltk_data...\n",
      "[nltk_data]   Package wordnet is already up-to-date!\n",
      "[nltk_data] Downloading package words to /Users/chouche7/nltk_data...\n",
      "[nltk_data]   Package words is already up-to-date!\n",
      "[nltk_data] Downloading package omw-1.4 to\n",
      "[nltk_data]     /Users/chouche7/nltk_data...\n",
      "[nltk_data]   Package omw-1.4 is already up-to-date!\n"
     ]
    },
    {
     "data": {
      "text/plain": [
       "True"
      ]
     },
     "execution_count": 345,
     "metadata": {},
     "output_type": "execute_result"
    }
   ],
   "source": [
    "#download stopwords for text analysis later on\n",
    "nltk.download('stopwords')\n",
    "nltk.download('wordnet')\n",
    "nltk.download('words')\n",
    "nltk.download('omw-1.4')"
   ]
  },
  {
   "cell_type": "markdown",
   "id": "c4429cb1",
   "metadata": {},
   "source": [
    "### Functions for cleaning text"
   ]
  },
  {
   "cell_type": "code",
   "execution_count": 346,
   "id": "fc966bd5",
   "metadata": {},
   "outputs": [],
   "source": [
    "# create function for punctuation removal:\n",
    "def remove_punctuations(text):\n",
    "    for char in string.punctuation:\n",
    "        text = text.replace(char, '')\n",
    "    return text\n",
    "\n",
    "# create function for contraction removal:\n",
    "def contractions(s):\n",
    "    s = re.sub(r\"won’t\", \"will not\",s)\n",
    "    s = re.sub(r\"would’t\", \"would not\",s)\n",
    "    s = re.sub(r\"could’t\", \"could not\",s)\n",
    "    s = re.sub(r\"\\’d\", \" would\",s)\n",
    "    s = re.sub(r\"can\\’t\", \"can not\",s)\n",
    "    s = re.sub(r\"n\\’t\", \" not\", s)\n",
    "    s = re.sub(r\"\\’re\", \" are\", s)\n",
    "    s = re.sub(r\"\\’s\", \" is\", s)\n",
    "    s = re.sub(r\"\\’ll\", \" will\", s)\n",
    "    s = re.sub(r\"\\’t\", \" not\", s)\n",
    "    s = re.sub(r\"\\’ve\", \" have\", s)\n",
    "    s = re.sub(r\"\\’m\", \" am\", s)\n",
    "    return s"
   ]
  },
  {
   "cell_type": "markdown",
   "id": "47ceca6d",
   "metadata": {},
   "source": [
    "### Load influencer profile data from multiple sources"
   ]
  },
  {
   "cell_type": "code",
   "execution_count": 347,
   "id": "20e26ba8",
   "metadata": {},
   "outputs": [],
   "source": [
    "#read our data on instagram posts\n",
    "with open('project_data/post_info.txt') as f:\n",
    "    lines = f.readlines()"
   ]
  },
  {
   "cell_type": "code",
   "execution_count": 348,
   "id": "20d599da",
   "metadata": {},
   "outputs": [
    {
     "data": {
      "text/html": [
       "<div>\n",
       "<style scoped>\n",
       "    .dataframe tbody tr th:only-of-type {\n",
       "        vertical-align: middle;\n",
       "    }\n",
       "\n",
       "    .dataframe tbody tr th {\n",
       "        vertical-align: top;\n",
       "    }\n",
       "\n",
       "    .dataframe thead th {\n",
       "        text-align: right;\n",
       "    }\n",
       "</style>\n",
       "<table border=\"1\" class=\"dataframe\">\n",
       "  <thead>\n",
       "    <tr style=\"text-align: right;\">\n",
       "      <th></th>\n",
       "      <th>post_id</th>\n",
       "      <th>username</th>\n",
       "      <th>sponsored</th>\n",
       "      <th>json_id</th>\n",
       "    </tr>\n",
       "  </thead>\n",
       "  <tbody>\n",
       "    <tr>\n",
       "      <th>0</th>\n",
       "      <td>0</td>\n",
       "      <td>alisasia</td>\n",
       "      <td>1</td>\n",
       "      <td>1309041812857818435</td>\n",
       "    </tr>\n",
       "    <tr>\n",
       "      <th>1</th>\n",
       "      <td>1</td>\n",
       "      <td>alisasia</td>\n",
       "      <td>0</td>\n",
       "      <td>1311846669234786866</td>\n",
       "    </tr>\n",
       "    <tr>\n",
       "      <th>2</th>\n",
       "      <td>2</td>\n",
       "      <td>alisasia</td>\n",
       "      <td>0</td>\n",
       "      <td>1315560311952470229</td>\n",
       "    </tr>\n",
       "    <tr>\n",
       "      <th>3</th>\n",
       "      <td>3</td>\n",
       "      <td>alisasia</td>\n",
       "      <td>0</td>\n",
       "      <td>1318531733175899446</td>\n",
       "    </tr>\n",
       "    <tr>\n",
       "      <th>4</th>\n",
       "      <td>4</td>\n",
       "      <td>alisasia</td>\n",
       "      <td>0</td>\n",
       "      <td>1343280729400051114</td>\n",
       "    </tr>\n",
       "  </tbody>\n",
       "</table>\n",
       "</div>"
      ],
      "text/plain": [
       "  post_id  username sponsored              json_id\n",
       "0       0  alisasia         1  1309041812857818435\n",
       "1       1  alisasia         0  1311846669234786866\n",
       "2       2  alisasia         0  1315560311952470229\n",
       "3       3  alisasia         0  1318531733175899446\n",
       "4       4  alisasia         0  1343280729400051114"
      ]
     },
     "execution_count": 348,
     "metadata": {},
     "output_type": "execute_result"
    }
   ],
   "source": [
    "data  = [x.split(\"\\t\") for x in lines]\n",
    "\n",
    "post_df = pd.DataFrame(data, columns = [\"post_id\", \"username\", \"sponsored\", \"json_id\", \"jpg_file\"])\n",
    "post_df = post_df[[\"post_id\", \"username\", \"sponsored\", \"json_id\"]]\n",
    "\n",
    "post_df[\"json_id\"] = post_df[\"json_id\"].replace(r'.json','', regex=True) \n",
    "post_df.head()"
   ]
  },
  {
   "cell_type": "code",
   "execution_count": 349,
   "id": "c2ef047b",
   "metadata": {},
   "outputs": [],
   "source": [
    "#read our data on influencers in a zip file\n",
    "myzipfile= zipfile.ZipFile('project_data/profiles_influencers.zip')\n",
    "influ_files = myzipfile.namelist()[1:]"
   ]
  },
  {
   "cell_type": "code",
   "execution_count": 350,
   "id": "cfdb2e36",
   "metadata": {},
   "outputs": [
    {
     "data": {
      "text/html": [
       "<div>\n",
       "<style scoped>\n",
       "    .dataframe tbody tr th:only-of-type {\n",
       "        vertical-align: middle;\n",
       "    }\n",
       "\n",
       "    .dataframe tbody tr th {\n",
       "        vertical-align: top;\n",
       "    }\n",
       "\n",
       "    .dataframe thead th {\n",
       "        text-align: right;\n",
       "    }\n",
       "</style>\n",
       "<table border=\"1\" class=\"dataframe\">\n",
       "  <thead>\n",
       "    <tr style=\"text-align: right;\">\n",
       "      <th></th>\n",
       "      <th>username</th>\n",
       "      <th>name</th>\n",
       "      <th>followers</th>\n",
       "      <th>followees</th>\n",
       "      <th>posts</th>\n",
       "      <th>url</th>\n",
       "      <th>category</th>\n",
       "      <th>bio</th>\n",
       "    </tr>\n",
       "  </thead>\n",
       "  <tbody>\n",
       "    <tr>\n",
       "      <th>0</th>\n",
       "      <td>fodmap_friendly_eating</td>\n",
       "      <td>FODMAP Friendly Eating</td>\n",
       "      <td>11299</td>\n",
       "      <td>2609</td>\n",
       "      <td>549</td>\n",
       "      <td>https://fodmapfriendlyeating.wordpress.com/</td>\n",
       "      <td>Creators &amp; Celebrities</td>\n",
       "      <td>Delicious FODMAP Friendly recipes from @antoni...</td>\n",
       "    </tr>\n",
       "    <tr>\n",
       "      <th>1</th>\n",
       "      <td>paileaa</td>\n",
       "      <td>paige leanne</td>\n",
       "      <td>12615</td>\n",
       "      <td>1207</td>\n",
       "      <td>1386</td>\n",
       "      <td>https://paileaa.com/2018/10/08/that-last-bit-o...</td>\n",
       "      <td>Creators &amp; Celebrities</td>\n",
       "      <td>London | positive vibes &amp; good times  p.goodes...</td>\n",
       "    </tr>\n",
       "    <tr>\n",
       "      <th>2</th>\n",
       "      <td>a12team</td>\n",
       "      <td>A12 Team</td>\n",
       "      <td>1319</td>\n",
       "      <td>861</td>\n",
       "      <td>405</td>\n",
       "      <td>http://www.a12.com.pl/</td>\n",
       "      <td>Food &amp; Personal Goods</td>\n",
       "      <td>Photography &amp; Production services  📩 info@a12....</td>\n",
       "    </tr>\n",
       "    <tr>\n",
       "      <th>3</th>\n",
       "      <td>ilbulgaro89</td>\n",
       "      <td>Andrea Paesetti</td>\n",
       "      <td>1547</td>\n",
       "      <td>909</td>\n",
       "      <td>1250</td>\n",
       "      <td>http://youtube.com/c/SpazioiTechItalia</td>\n",
       "      <td>Creators &amp; Celebrities</td>\n",
       "      <td>Italian -- #Technology addicted -- Editor &amp; Re...</td>\n",
       "    </tr>\n",
       "    <tr>\n",
       "      <th>4</th>\n",
       "      <td>joililikoi</td>\n",
       "      <td>Joie Lee Ruggiero</td>\n",
       "      <td>7427</td>\n",
       "      <td>1836</td>\n",
       "      <td>908</td>\n",
       "      <td>http://wearehaumea.com/retreats</td>\n",
       "      <td>NULL</td>\n",
       "      <td>HI / LA  |  I seek to inspire and be inspired ...</td>\n",
       "    </tr>\n",
       "  </tbody>\n",
       "</table>\n",
       "</div>"
      ],
      "text/plain": [
       "                 username                    name followers followees posts  \\\n",
       "0  fodmap_friendly_eating  FODMAP Friendly Eating     11299      2609   549   \n",
       "1                 paileaa            paige leanne     12615      1207  1386   \n",
       "2                 a12team                A12 Team      1319       861   405   \n",
       "3             ilbulgaro89         Andrea Paesetti      1547       909  1250   \n",
       "4              joililikoi       Joie Lee Ruggiero      7427      1836   908   \n",
       "\n",
       "                                                 url                category  \\\n",
       "0        https://fodmapfriendlyeating.wordpress.com/  Creators & Celebrities   \n",
       "1  https://paileaa.com/2018/10/08/that-last-bit-o...  Creators & Celebrities   \n",
       "2                             http://www.a12.com.pl/   Food & Personal Goods   \n",
       "3             http://youtube.com/c/SpazioiTechItalia  Creators & Celebrities   \n",
       "4                    http://wearehaumea.com/retreats                    NULL   \n",
       "\n",
       "                                                 bio  \n",
       "0  Delicious FODMAP Friendly recipes from @antoni...  \n",
       "1  London | positive vibes & good times  p.goodes...  \n",
       "2  Photography & Production services  📩 info@a12....  \n",
       "3  Italian -- #Technology addicted -- Editor & Re...  \n",
       "4  HI / LA  |  I seek to inspire and be inspired ...  "
      ]
     },
     "execution_count": 350,
     "metadata": {},
     "output_type": "execute_result"
    }
   ],
   "source": [
    "profile_df = []\n",
    "with zipfile.ZipFile('project_data/profiles_influencers.zip', 'r') as zip:\n",
    "    for file in influ_files:\n",
    "        username = file.split(\"/\")[1]\n",
    "        data = zip.read(file)\n",
    "        data = io.StringIO(data.decode())\n",
    "        data  = [x.split(\"\\t\") for x in data]\n",
    "        data = [col for sublist in data for col in sublist if col != \"\\n\"]\n",
    "        data.insert(0, username)\n",
    "        profile_df.append(pd.DataFrame([data], columns = [\"username\", \"name\", \"followers\", \"followees\", \"posts\", \"url\", \"t/f\", \"category\", \"bio\", \"email\", \"phone\", \"profile_pic\"]))\n",
    "\n",
    "profile_df = pd.concat(profile_df, ignore_index = True)\n",
    "profile_df = profile_df[[\"username\", \"name\", \"followers\", \"followees\", \"posts\", \"url\", \"category\", \"bio\"]]\n",
    "profile_df.head()"
   ]
  },
  {
   "cell_type": "code",
   "execution_count": 351,
   "id": "bca5e9c1",
   "metadata": {},
   "outputs": [
    {
     "data": {
      "text/html": [
       "<div>\n",
       "<style scoped>\n",
       "    .dataframe tbody tr th:only-of-type {\n",
       "        vertical-align: middle;\n",
       "    }\n",
       "\n",
       "    .dataframe tbody tr th {\n",
       "        vertical-align: top;\n",
       "    }\n",
       "\n",
       "    .dataframe thead th {\n",
       "        text-align: right;\n",
       "    }\n",
       "</style>\n",
       "<table border=\"1\" class=\"dataframe\">\n",
       "  <thead>\n",
       "    <tr style=\"text-align: right;\">\n",
       "      <th></th>\n",
       "      <th>sponsored</th>\n",
       "      <th>json_id</th>\n",
       "      <th>followers</th>\n",
       "      <th>followees</th>\n",
       "      <th>category</th>\n",
       "    </tr>\n",
       "  </thead>\n",
       "  <tbody>\n",
       "    <tr>\n",
       "      <th>0</th>\n",
       "      <td>1</td>\n",
       "      <td>1309041812857818435</td>\n",
       "      <td>41099</td>\n",
       "      <td>320</td>\n",
       "      <td>Creators &amp; Celebrities</td>\n",
       "    </tr>\n",
       "    <tr>\n",
       "      <th>1</th>\n",
       "      <td>0</td>\n",
       "      <td>1311846669234786866</td>\n",
       "      <td>41099</td>\n",
       "      <td>320</td>\n",
       "      <td>Creators &amp; Celebrities</td>\n",
       "    </tr>\n",
       "    <tr>\n",
       "      <th>2</th>\n",
       "      <td>0</td>\n",
       "      <td>1315560311952470229</td>\n",
       "      <td>41099</td>\n",
       "      <td>320</td>\n",
       "      <td>Creators &amp; Celebrities</td>\n",
       "    </tr>\n",
       "    <tr>\n",
       "      <th>3</th>\n",
       "      <td>0</td>\n",
       "      <td>1318531733175899446</td>\n",
       "      <td>41099</td>\n",
       "      <td>320</td>\n",
       "      <td>Creators &amp; Celebrities</td>\n",
       "    </tr>\n",
       "    <tr>\n",
       "      <th>4</th>\n",
       "      <td>0</td>\n",
       "      <td>1343280729400051114</td>\n",
       "      <td>41099</td>\n",
       "      <td>320</td>\n",
       "      <td>Creators &amp; Celebrities</td>\n",
       "    </tr>\n",
       "  </tbody>\n",
       "</table>\n",
       "</div>"
      ],
      "text/plain": [
       "  sponsored              json_id followers followees                category\n",
       "0         1  1309041812857818435     41099       320  Creators & Celebrities\n",
       "1         0  1311846669234786866     41099       320  Creators & Celebrities\n",
       "2         0  1315560311952470229     41099       320  Creators & Celebrities\n",
       "3         0  1318531733175899446     41099       320  Creators & Celebrities\n",
       "4         0  1343280729400051114     41099       320  Creators & Celebrities"
      ]
     },
     "execution_count": 351,
     "metadata": {},
     "output_type": "execute_result"
    }
   ],
   "source": [
    "#merge data on post and influencer into one\n",
    "posts_influ_df = pd.merge(post_df, profile_df, on=\"username\")\n",
    "\n",
    "#drop unnecessary columns that won't be used in the model\n",
    "posts_influ_df = posts_influ_df.filter(items=['sponsored', 'json_id', 'followers', \"followees\", 'category'])\n",
    "posts_influ_df.drop_duplicates(subset=['json_id'], inplace = True)\n",
    "posts_influ_df['json_id']=posts_influ_df['json_id'].astype(int)\n",
    "posts_influ_df.head()"
   ]
  },
  {
   "cell_type": "code",
   "execution_count": 352,
   "id": "a603342f",
   "metadata": {},
   "outputs": [
    {
     "data": {
      "text/html": [
       "<div>\n",
       "<style scoped>\n",
       "    .dataframe tbody tr th:only-of-type {\n",
       "        vertical-align: middle;\n",
       "    }\n",
       "\n",
       "    .dataframe tbody tr th {\n",
       "        vertical-align: top;\n",
       "    }\n",
       "\n",
       "    .dataframe thead th {\n",
       "        text-align: right;\n",
       "    }\n",
       "</style>\n",
       "<table border=\"1\" class=\"dataframe\">\n",
       "  <thead>\n",
       "    <tr style=\"text-align: right;\">\n",
       "      <th></th>\n",
       "      <th>sponsored</th>\n",
       "      <th>json_id</th>\n",
       "      <th>followers</th>\n",
       "      <th>followees</th>\n",
       "      <th>category_Auto Dealers</th>\n",
       "      <th>category_Business &amp; Utility Services</th>\n",
       "      <th>category_Content &amp; Apps</th>\n",
       "      <th>category_Creators &amp; Celebrities</th>\n",
       "      <th>category_Entities</th>\n",
       "      <th>category_Food &amp; Personal Goods</th>\n",
       "      <th>...</th>\n",
       "      <th>category_Home Goods Stores</th>\n",
       "      <th>category_Home Services</th>\n",
       "      <th>category_Lifestyle Services</th>\n",
       "      <th>category_Local Events</th>\n",
       "      <th>category_Non-Profits &amp; Religious Organizations</th>\n",
       "      <th>category_Personal Goods &amp; General Merchandise Stores</th>\n",
       "      <th>category_Professional Services</th>\n",
       "      <th>category_Publishers</th>\n",
       "      <th>category_Restaurants</th>\n",
       "      <th>category_Transportation &amp; Accomodation Services</th>\n",
       "    </tr>\n",
       "  </thead>\n",
       "  <tbody>\n",
       "    <tr>\n",
       "      <th>0</th>\n",
       "      <td>1</td>\n",
       "      <td>1309041812857818435</td>\n",
       "      <td>41099</td>\n",
       "      <td>320</td>\n",
       "      <td>0.0</td>\n",
       "      <td>0.0</td>\n",
       "      <td>0.0</td>\n",
       "      <td>1.0</td>\n",
       "      <td>0.0</td>\n",
       "      <td>0.0</td>\n",
       "      <td>...</td>\n",
       "      <td>0.0</td>\n",
       "      <td>0.0</td>\n",
       "      <td>0.0</td>\n",
       "      <td>0.0</td>\n",
       "      <td>0.0</td>\n",
       "      <td>0.0</td>\n",
       "      <td>0.0</td>\n",
       "      <td>0.0</td>\n",
       "      <td>0.0</td>\n",
       "      <td>0.0</td>\n",
       "    </tr>\n",
       "    <tr>\n",
       "      <th>1</th>\n",
       "      <td>0</td>\n",
       "      <td>1311846669234786866</td>\n",
       "      <td>41099</td>\n",
       "      <td>320</td>\n",
       "      <td>0.0</td>\n",
       "      <td>0.0</td>\n",
       "      <td>0.0</td>\n",
       "      <td>1.0</td>\n",
       "      <td>0.0</td>\n",
       "      <td>0.0</td>\n",
       "      <td>...</td>\n",
       "      <td>0.0</td>\n",
       "      <td>0.0</td>\n",
       "      <td>0.0</td>\n",
       "      <td>0.0</td>\n",
       "      <td>0.0</td>\n",
       "      <td>0.0</td>\n",
       "      <td>0.0</td>\n",
       "      <td>0.0</td>\n",
       "      <td>0.0</td>\n",
       "      <td>0.0</td>\n",
       "    </tr>\n",
       "    <tr>\n",
       "      <th>2</th>\n",
       "      <td>0</td>\n",
       "      <td>1315560311952470229</td>\n",
       "      <td>41099</td>\n",
       "      <td>320</td>\n",
       "      <td>0.0</td>\n",
       "      <td>0.0</td>\n",
       "      <td>0.0</td>\n",
       "      <td>1.0</td>\n",
       "      <td>0.0</td>\n",
       "      <td>0.0</td>\n",
       "      <td>...</td>\n",
       "      <td>0.0</td>\n",
       "      <td>0.0</td>\n",
       "      <td>0.0</td>\n",
       "      <td>0.0</td>\n",
       "      <td>0.0</td>\n",
       "      <td>0.0</td>\n",
       "      <td>0.0</td>\n",
       "      <td>0.0</td>\n",
       "      <td>0.0</td>\n",
       "      <td>0.0</td>\n",
       "    </tr>\n",
       "    <tr>\n",
       "      <th>3</th>\n",
       "      <td>0</td>\n",
       "      <td>1318531733175899446</td>\n",
       "      <td>41099</td>\n",
       "      <td>320</td>\n",
       "      <td>0.0</td>\n",
       "      <td>0.0</td>\n",
       "      <td>0.0</td>\n",
       "      <td>1.0</td>\n",
       "      <td>0.0</td>\n",
       "      <td>0.0</td>\n",
       "      <td>...</td>\n",
       "      <td>0.0</td>\n",
       "      <td>0.0</td>\n",
       "      <td>0.0</td>\n",
       "      <td>0.0</td>\n",
       "      <td>0.0</td>\n",
       "      <td>0.0</td>\n",
       "      <td>0.0</td>\n",
       "      <td>0.0</td>\n",
       "      <td>0.0</td>\n",
       "      <td>0.0</td>\n",
       "    </tr>\n",
       "    <tr>\n",
       "      <th>4</th>\n",
       "      <td>0</td>\n",
       "      <td>1343280729400051114</td>\n",
       "      <td>41099</td>\n",
       "      <td>320</td>\n",
       "      <td>0.0</td>\n",
       "      <td>0.0</td>\n",
       "      <td>0.0</td>\n",
       "      <td>1.0</td>\n",
       "      <td>0.0</td>\n",
       "      <td>0.0</td>\n",
       "      <td>...</td>\n",
       "      <td>0.0</td>\n",
       "      <td>0.0</td>\n",
       "      <td>0.0</td>\n",
       "      <td>0.0</td>\n",
       "      <td>0.0</td>\n",
       "      <td>0.0</td>\n",
       "      <td>0.0</td>\n",
       "      <td>0.0</td>\n",
       "      <td>0.0</td>\n",
       "      <td>0.0</td>\n",
       "    </tr>\n",
       "  </tbody>\n",
       "</table>\n",
       "<p>5 rows × 25 columns</p>\n",
       "</div>"
      ],
      "text/plain": [
       "  sponsored              json_id followers followees  category_Auto Dealers  \\\n",
       "0         1  1309041812857818435     41099       320                    0.0   \n",
       "1         0  1311846669234786866     41099       320                    0.0   \n",
       "2         0  1315560311952470229     41099       320                    0.0   \n",
       "3         0  1318531733175899446     41099       320                    0.0   \n",
       "4         0  1343280729400051114     41099       320                    0.0   \n",
       "\n",
       "   category_Business & Utility Services  category_Content & Apps  \\\n",
       "0                                   0.0                      0.0   \n",
       "1                                   0.0                      0.0   \n",
       "2                                   0.0                      0.0   \n",
       "3                                   0.0                      0.0   \n",
       "4                                   0.0                      0.0   \n",
       "\n",
       "   category_Creators & Celebrities  category_Entities  \\\n",
       "0                              1.0                0.0   \n",
       "1                              1.0                0.0   \n",
       "2                              1.0                0.0   \n",
       "3                              1.0                0.0   \n",
       "4                              1.0                0.0   \n",
       "\n",
       "   category_Food & Personal Goods  ...  category_Home Goods Stores  \\\n",
       "0                             0.0  ...                         0.0   \n",
       "1                             0.0  ...                         0.0   \n",
       "2                             0.0  ...                         0.0   \n",
       "3                             0.0  ...                         0.0   \n",
       "4                             0.0  ...                         0.0   \n",
       "\n",
       "   category_Home Services  category_Lifestyle Services  category_Local Events  \\\n",
       "0                     0.0                          0.0                    0.0   \n",
       "1                     0.0                          0.0                    0.0   \n",
       "2                     0.0                          0.0                    0.0   \n",
       "3                     0.0                          0.0                    0.0   \n",
       "4                     0.0                          0.0                    0.0   \n",
       "\n",
       "   category_Non-Profits & Religious Organizations  \\\n",
       "0                                             0.0   \n",
       "1                                             0.0   \n",
       "2                                             0.0   \n",
       "3                                             0.0   \n",
       "4                                             0.0   \n",
       "\n",
       "   category_Personal Goods & General Merchandise Stores  \\\n",
       "0                                                0.0      \n",
       "1                                                0.0      \n",
       "2                                                0.0      \n",
       "3                                                0.0      \n",
       "4                                                0.0      \n",
       "\n",
       "   category_Professional Services  category_Publishers  category_Restaurants  \\\n",
       "0                             0.0                  0.0                   0.0   \n",
       "1                             0.0                  0.0                   0.0   \n",
       "2                             0.0                  0.0                   0.0   \n",
       "3                             0.0                  0.0                   0.0   \n",
       "4                             0.0                  0.0                   0.0   \n",
       "\n",
       "   category_Transportation & Accomodation Services  \n",
       "0                                              0.0  \n",
       "1                                              0.0  \n",
       "2                                              0.0  \n",
       "3                                              0.0  \n",
       "4                                              0.0  \n",
       "\n",
       "[5 rows x 25 columns]"
      ]
     },
     "execution_count": 352,
     "metadata": {},
     "output_type": "execute_result"
    }
   ],
   "source": [
    "# define data\n",
    "posts_influ_df = posts_influ_df.loc[posts_influ_df[\"category\"] != \"NULL\"]\n",
    "categorical = posts_influ_df[[\"category\"]]\n",
    "for col in categorical:    \n",
    "    # define one hot encoding\n",
    "    encoder = OneHotEncoder(sparse=False)\n",
    "    # transform data\n",
    "    cat = np.array(categorical[col]).reshape(-1, 1)\n",
    "    onehot = encoder.fit_transform(cat)\n",
    "    onehot = pd.DataFrame(onehot)\n",
    "    onehot.columns = col + \"_\" + encoder.get_feature_names_out()\n",
    "    onehot.columns = [x.replace(r'_x0','') for x in onehot.columns]\n",
    "    posts_influ_df = pd.concat([posts_influ_df, onehot], axis=1, join='inner')\n",
    "    posts_influ_df = posts_influ_df.loc[:, posts_influ_df.columns != col]\n",
    "posts_influ_df.head()"
   ]
  },
  {
   "cell_type": "markdown",
   "id": "48ded84f",
   "metadata": {},
   "source": [
    "### Load information about posts"
   ]
  },
  {
   "cell_type": "code",
   "execution_count": 353,
   "id": "e0649f5e",
   "metadata": {},
   "outputs": [
    {
     "name": "stderr",
     "output_type": "stream",
     "text": [
      "/var/folders/b3/2c5nrf8s3k3f2z_yxv6vpz340000gn/T/ipykernel_64776/1567730900.py:1: DtypeWarning: Columns (8,9,10,11,12,13,14,15,16,17,18,19,20,21) have mixed types. Specify dtype option on import or set low_memory=False.\n",
      "  first = pd.read_csv(\"project_data/compiled_jsons_0_400000_trimmed.csv\")\n",
      "/var/folders/b3/2c5nrf8s3k3f2z_yxv6vpz340000gn/T/ipykernel_64776/1567730900.py:4: DtypeWarning: Columns (22,23,24,25) have mixed types. Specify dtype option on import or set low_memory=False.\n",
      "  fourth = pd.read_csv(\"project_data/compiled_jsons_1200001_1601074_trimmed.csv\")\n"
     ]
    },
    {
     "data": {
      "text/html": [
       "<div>\n",
       "<style scoped>\n",
       "    .dataframe tbody tr th:only-of-type {\n",
       "        vertical-align: middle;\n",
       "    }\n",
       "\n",
       "    .dataframe tbody tr th {\n",
       "        vertical-align: top;\n",
       "    }\n",
       "\n",
       "    .dataframe thead th {\n",
       "        text-align: right;\n",
       "    }\n",
       "</style>\n",
       "<table border=\"1\" class=\"dataframe\">\n",
       "  <thead>\n",
       "    <tr style=\"text-align: right;\">\n",
       "      <th></th>\n",
       "      <th>Unnamed: 0</th>\n",
       "      <th>id</th>\n",
       "      <th>is_video</th>\n",
       "      <th>taken_at_timestamp</th>\n",
       "      <th>edge_media_preview_like_count</th>\n",
       "      <th>edge_media_to_caption_edges</th>\n",
       "      <th>edge_media_to_comment_count</th>\n",
       "      <th>owner_id</th>\n",
       "      <th>is_ad</th>\n",
       "      <th>viewer_can_reshare</th>\n",
       "      <th>...</th>\n",
       "      <th>viewer_has_saved_to_collection</th>\n",
       "      <th>viewer_in_photo_of_you</th>\n",
       "      <th>edge_media_preview_like_edges</th>\n",
       "      <th>edge_media_to_comment_edges</th>\n",
       "      <th>edge_media_to_comment_page_info_end_cursor</th>\n",
       "      <th>edge_media_to_comment_page_info_has_next_page</th>\n",
       "      <th>edge_media_to_sponsor_user_edges</th>\n",
       "      <th>edge_media_to_tagged_user_edges</th>\n",
       "      <th>edge_web_media_to_related_media_edges</th>\n",
       "      <th>owner_username</th>\n",
       "    </tr>\n",
       "  </thead>\n",
       "  <tbody>\n",
       "    <tr>\n",
       "      <th>0</th>\n",
       "      <td>0</td>\n",
       "      <td>1000013365102810365</td>\n",
       "      <td>False</td>\n",
       "      <td>1433430904</td>\n",
       "      <td>3390</td>\n",
       "      <td>[{'node': {'text': '#Regram from @lucavezil: \"...</td>\n",
       "      <td>26</td>\n",
       "      <td>222106572</td>\n",
       "      <td>NaN</td>\n",
       "      <td>NaN</td>\n",
       "      <td>...</td>\n",
       "      <td>NaN</td>\n",
       "      <td>NaN</td>\n",
       "      <td>NaN</td>\n",
       "      <td>NaN</td>\n",
       "      <td>NaN</td>\n",
       "      <td>NaN</td>\n",
       "      <td>NaN</td>\n",
       "      <td>NaN</td>\n",
       "      <td>NaN</td>\n",
       "      <td>NaN</td>\n",
       "    </tr>\n",
       "    <tr>\n",
       "      <th>1</th>\n",
       "      <td>1</td>\n",
       "      <td>1000043359370989848</td>\n",
       "      <td>False</td>\n",
       "      <td>1433434480</td>\n",
       "      <td>125</td>\n",
       "      <td>[{'node': {'text': 'Our society today is so de...</td>\n",
       "      <td>5</td>\n",
       "      <td>237634851</td>\n",
       "      <td>NaN</td>\n",
       "      <td>NaN</td>\n",
       "      <td>...</td>\n",
       "      <td>NaN</td>\n",
       "      <td>NaN</td>\n",
       "      <td>NaN</td>\n",
       "      <td>NaN</td>\n",
       "      <td>NaN</td>\n",
       "      <td>NaN</td>\n",
       "      <td>NaN</td>\n",
       "      <td>NaN</td>\n",
       "      <td>NaN</td>\n",
       "      <td>NaN</td>\n",
       "    </tr>\n",
       "    <tr>\n",
       "      <th>2</th>\n",
       "      <td>2</td>\n",
       "      <td>1000055615134224232</td>\n",
       "      <td>False</td>\n",
       "      <td>1433435941</td>\n",
       "      <td>22652</td>\n",
       "      <td>[{'node': {'text': 'brought out my cute lil @b...</td>\n",
       "      <td>62</td>\n",
       "      <td>19538442</td>\n",
       "      <td>NaN</td>\n",
       "      <td>NaN</td>\n",
       "      <td>...</td>\n",
       "      <td>NaN</td>\n",
       "      <td>NaN</td>\n",
       "      <td>NaN</td>\n",
       "      <td>NaN</td>\n",
       "      <td>NaN</td>\n",
       "      <td>NaN</td>\n",
       "      <td>NaN</td>\n",
       "      <td>NaN</td>\n",
       "      <td>NaN</td>\n",
       "      <td>NaN</td>\n",
       "    </tr>\n",
       "    <tr>\n",
       "      <th>3</th>\n",
       "      <td>3</td>\n",
       "      <td>1000084729422320243</td>\n",
       "      <td>False</td>\n",
       "      <td>1433439411</td>\n",
       "      <td>272</td>\n",
       "      <td>[{'node': {'text': 'How about Sweet Potato Pea...</td>\n",
       "      <td>28</td>\n",
       "      <td>1431250163</td>\n",
       "      <td>NaN</td>\n",
       "      <td>NaN</td>\n",
       "      <td>...</td>\n",
       "      <td>NaN</td>\n",
       "      <td>NaN</td>\n",
       "      <td>NaN</td>\n",
       "      <td>NaN</td>\n",
       "      <td>NaN</td>\n",
       "      <td>NaN</td>\n",
       "      <td>NaN</td>\n",
       "      <td>NaN</td>\n",
       "      <td>NaN</td>\n",
       "      <td>NaN</td>\n",
       "    </tr>\n",
       "    <tr>\n",
       "      <th>4</th>\n",
       "      <td>4</td>\n",
       "      <td>1000147795992383306</td>\n",
       "      <td>False</td>\n",
       "      <td>1433446929</td>\n",
       "      <td>7407</td>\n",
       "      <td>[{'node': {'text': \"In the end, we only regret...</td>\n",
       "      <td>33</td>\n",
       "      <td>258280258</td>\n",
       "      <td>NaN</td>\n",
       "      <td>NaN</td>\n",
       "      <td>...</td>\n",
       "      <td>NaN</td>\n",
       "      <td>NaN</td>\n",
       "      <td>NaN</td>\n",
       "      <td>NaN</td>\n",
       "      <td>NaN</td>\n",
       "      <td>NaN</td>\n",
       "      <td>NaN</td>\n",
       "      <td>NaN</td>\n",
       "      <td>NaN</td>\n",
       "      <td>NaN</td>\n",
       "    </tr>\n",
       "  </tbody>\n",
       "</table>\n",
       "<p>5 rows × 22 columns</p>\n",
       "</div>"
      ],
      "text/plain": [
       "   Unnamed: 0                   id  is_video  taken_at_timestamp  \\\n",
       "0           0  1000013365102810365     False          1433430904   \n",
       "1           1  1000043359370989848     False          1433434480   \n",
       "2           2  1000055615134224232     False          1433435941   \n",
       "3           3  1000084729422320243     False          1433439411   \n",
       "4           4  1000147795992383306     False          1433446929   \n",
       "\n",
       "   edge_media_preview_like_count  \\\n",
       "0                           3390   \n",
       "1                            125   \n",
       "2                          22652   \n",
       "3                            272   \n",
       "4                           7407   \n",
       "\n",
       "                         edge_media_to_caption_edges  \\\n",
       "0  [{'node': {'text': '#Regram from @lucavezil: \"...   \n",
       "1  [{'node': {'text': 'Our society today is so de...   \n",
       "2  [{'node': {'text': 'brought out my cute lil @b...   \n",
       "3  [{'node': {'text': 'How about Sweet Potato Pea...   \n",
       "4  [{'node': {'text': \"In the end, we only regret...   \n",
       "\n",
       "   edge_media_to_comment_count    owner_id is_ad viewer_can_reshare  ...  \\\n",
       "0                           26   222106572   NaN                NaN  ...   \n",
       "1                            5   237634851   NaN                NaN  ...   \n",
       "2                           62    19538442   NaN                NaN  ...   \n",
       "3                           28  1431250163   NaN                NaN  ...   \n",
       "4                           33   258280258   NaN                NaN  ...   \n",
       "\n",
       "  viewer_has_saved_to_collection viewer_in_photo_of_you  \\\n",
       "0                            NaN                    NaN   \n",
       "1                            NaN                    NaN   \n",
       "2                            NaN                    NaN   \n",
       "3                            NaN                    NaN   \n",
       "4                            NaN                    NaN   \n",
       "\n",
       "  edge_media_preview_like_edges edge_media_to_comment_edges  \\\n",
       "0                           NaN                         NaN   \n",
       "1                           NaN                         NaN   \n",
       "2                           NaN                         NaN   \n",
       "3                           NaN                         NaN   \n",
       "4                           NaN                         NaN   \n",
       "\n",
       "  edge_media_to_comment_page_info_end_cursor  \\\n",
       "0                                        NaN   \n",
       "1                                        NaN   \n",
       "2                                        NaN   \n",
       "3                                        NaN   \n",
       "4                                        NaN   \n",
       "\n",
       "  edge_media_to_comment_page_info_has_next_page  \\\n",
       "0                                           NaN   \n",
       "1                                           NaN   \n",
       "2                                           NaN   \n",
       "3                                           NaN   \n",
       "4                                           NaN   \n",
       "\n",
       "  edge_media_to_sponsor_user_edges edge_media_to_tagged_user_edges  \\\n",
       "0                              NaN                             NaN   \n",
       "1                              NaN                             NaN   \n",
       "2                              NaN                             NaN   \n",
       "3                              NaN                             NaN   \n",
       "4                              NaN                             NaN   \n",
       "\n",
       "  edge_web_media_to_related_media_edges owner_username  \n",
       "0                                   NaN            NaN  \n",
       "1                                   NaN            NaN  \n",
       "2                                   NaN            NaN  \n",
       "3                                   NaN            NaN  \n",
       "4                                   NaN            NaN  \n",
       "\n",
       "[5 rows x 22 columns]"
      ]
     },
     "execution_count": 353,
     "metadata": {},
     "output_type": "execute_result"
    }
   ],
   "source": [
    "first = pd.read_csv(\"project_data/compiled_jsons_0_400000_trimmed.csv\")\n",
    "second = pd.read_csv(\"project_data/compiled_jsons_400000_800000_trimmed.csv\")\n",
    "third = pd.read_csv(\"project_data/compiled_jsons_800000_1200000_trimmed.csv\")\n",
    "fourth = pd.read_csv(\"project_data/compiled_jsons_1200001_1601074_trimmed.csv\")\n",
    "first.head()"
   ]
  },
  {
   "cell_type": "code",
   "execution_count": 354,
   "id": "6d6d2c43",
   "metadata": {},
   "outputs": [],
   "source": [
    "first = first[[\"id\", \"edge_media_preview_like_count\", \"edge_media_to_caption_edges\"]]\n",
    "second = second[[\"id\", \"edge_media_preview_like_count\", \"edge_media_to_caption_edges\"]]\n",
    "third = third[[\"id\", \"edge_media_preview_like_count\", \"edge_media_to_caption_edges\"]]\n",
    "fourth = fourth[[\"id\", \"edge_media_preview_like_count\", \"edge_media_to_caption_edges\"]]\n",
    "\n",
    "df1 = pd.concat([first, second, third, fourth], axis = 0)\n",
    "df1[\"edge_media_to_caption_edges\"] = [cap.split(\"text':\")[1] if cap != '[]' else \"\" for cap in df1[\"edge_media_to_caption_edges\"]]\n",
    "df1 = df1.rename(columns={\"id\": \"json_id\", \"edge_media_preview_like_count\": \"likes_per_follower\", \n",
    "                              \"edge_media_to_caption_edges\": \"caption\"})"
   ]
  },
  {
   "cell_type": "code",
   "execution_count": 355,
   "id": "b5f6ccf9",
   "metadata": {},
   "outputs": [
    {
     "data": {
      "text/plain": [
       "(160107, 3)"
      ]
     },
     "execution_count": 355,
     "metadata": {},
     "output_type": "execute_result"
    }
   ],
   "source": [
    "# dataset is too big and long to run, so we are going to sample 10% of it at random\n",
    "df1_sampled = df1.sample(math.floor(df1.shape[0] * 0.1), random_state = 0)\n",
    "df1_sampled.drop_duplicates(subset=['json_id'], inplace = True)\n",
    "df1_sampled.shape"
   ]
  },
  {
   "cell_type": "code",
   "execution_count": 356,
   "id": "5327cd73",
   "metadata": {},
   "outputs": [
    {
     "data": {
      "text/html": [
       "<div>\n",
       "<style scoped>\n",
       "    .dataframe tbody tr th:only-of-type {\n",
       "        vertical-align: middle;\n",
       "    }\n",
       "\n",
       "    .dataframe tbody tr th {\n",
       "        vertical-align: top;\n",
       "    }\n",
       "\n",
       "    .dataframe thead th {\n",
       "        text-align: right;\n",
       "    }\n",
       "</style>\n",
       "<table border=\"1\" class=\"dataframe\">\n",
       "  <thead>\n",
       "    <tr style=\"text-align: right;\">\n",
       "      <th></th>\n",
       "      <th>json_id</th>\n",
       "      <th>likes_per_follower</th>\n",
       "      <th>caption</th>\n",
       "    </tr>\n",
       "  </thead>\n",
       "  <tbody>\n",
       "    <tr>\n",
       "      <th>14849</th>\n",
       "      <td>1845819969957040871</td>\n",
       "      <td>2861</td>\n",
       "      <td>'#ad Of course the first week that my new whi...</td>\n",
       "    </tr>\n",
       "    <tr>\n",
       "      <th>326085</th>\n",
       "      <td>1700130069736603012</td>\n",
       "      <td>2353</td>\n",
       "      <td>'The guest room is looking like a modge podge...</td>\n",
       "    </tr>\n",
       "    <tr>\n",
       "      <th>221727</th>\n",
       "      <td>1888646704637258222</td>\n",
       "      <td>1466</td>\n",
       "      <td>'Weekend mode 🤘🏽 @nblifestyle #x90'}}]</td>\n",
       "    </tr>\n",
       "    <tr>\n",
       "      <th>323065</th>\n",
       "      <td>1698719781907498047</td>\n",
       "      <td>211</td>\n",
       "      <td>'Ragazze vi ricordo di nuovo della promozione...</td>\n",
       "    </tr>\n",
       "    <tr>\n",
       "      <th>69096</th>\n",
       "      <td>1857639984522215438</td>\n",
       "      <td>444</td>\n",
       "      <td>'#ad If you’ve met me you know I am a pizza o...</td>\n",
       "    </tr>\n",
       "    <tr>\n",
       "      <th>...</th>\n",
       "      <td>...</td>\n",
       "      <td>...</td>\n",
       "      <td>...</td>\n",
       "    </tr>\n",
       "    <tr>\n",
       "      <th>208579</th>\n",
       "      <td>1629315589330543564</td>\n",
       "      <td>306</td>\n",
       "      <td>'Alguém aí me dá um espelhão de presente!? 😅 ...</td>\n",
       "    </tr>\n",
       "    <tr>\n",
       "      <th>315582</th>\n",
       "      <td>1694622502637852288</td>\n",
       "      <td>5133</td>\n",
       "      <td>'When road tripping in brazil 🖖🏼 @movidaalugu...</td>\n",
       "    </tr>\n",
       "    <tr>\n",
       "      <th>383701</th>\n",
       "      <td>2023658532024824986</td>\n",
       "      <td>1282</td>\n",
       "      <td>'My basics this season!  Clear bag, pearl hai...</td>\n",
       "    </tr>\n",
       "    <tr>\n",
       "      <th>312219</th>\n",
       "      <td>1907261909552837402</td>\n",
       "      <td>1067</td>\n",
       "      <td>\"I'm loving the NEW Tic Tac Gum! The all-new ...</td>\n",
       "    </tr>\n",
       "    <tr>\n",
       "      <th>205982</th>\n",
       "      <td>1795195966928802298</td>\n",
       "      <td>2853</td>\n",
       "      <td>'St Sophia 🕌\\n#MGalleryMoments #storiesfromIs...</td>\n",
       "    </tr>\n",
       "  </tbody>\n",
       "</table>\n",
       "<p>160107 rows × 3 columns</p>\n",
       "</div>"
      ],
      "text/plain": [
       "                    json_id  likes_per_follower  \\\n",
       "14849   1845819969957040871                2861   \n",
       "326085  1700130069736603012                2353   \n",
       "221727  1888646704637258222                1466   \n",
       "323065  1698719781907498047                 211   \n",
       "69096   1857639984522215438                 444   \n",
       "...                     ...                 ...   \n",
       "208579  1629315589330543564                 306   \n",
       "315582  1694622502637852288                5133   \n",
       "383701  2023658532024824986                1282   \n",
       "312219  1907261909552837402                1067   \n",
       "205982  1795195966928802298                2853   \n",
       "\n",
       "                                                  caption  \n",
       "14849    '#ad Of course the first week that my new whi...  \n",
       "326085   'The guest room is looking like a modge podge...  \n",
       "221727             'Weekend mode 🤘🏽 @nblifestyle #x90'}}]  \n",
       "323065   'Ragazze vi ricordo di nuovo della promozione...  \n",
       "69096    '#ad If you’ve met me you know I am a pizza o...  \n",
       "...                                                   ...  \n",
       "208579   'Alguém aí me dá um espelhão de presente!? 😅 ...  \n",
       "315582   'When road tripping in brazil 🖖🏼 @movidaalugu...  \n",
       "383701   'My basics this season!  Clear bag, pearl hai...  \n",
       "312219   \"I'm loving the NEW Tic Tac Gum! The all-new ...  \n",
       "205982   'St Sophia 🕌\\n#MGalleryMoments #storiesfromIs...  \n",
       "\n",
       "[160107 rows x 3 columns]"
      ]
     },
     "execution_count": 356,
     "metadata": {},
     "output_type": "execute_result"
    }
   ],
   "source": [
    "df1_sampled"
   ]
  },
  {
   "cell_type": "code",
   "execution_count": 357,
   "id": "b6ecc02d",
   "metadata": {},
   "outputs": [],
   "source": [
    "df1_sampled = df1_sampled.loc[df1_sampled[\"caption\"].isnull() != True ]\n",
    "df1_sampled = df1_sampled.loc[df1_sampled[\"caption\"] != None]"
   ]
  },
  {
   "cell_type": "markdown",
   "id": "d5d7c72b",
   "metadata": {},
   "source": [
    "### Clean captions (stemming, lemmatization, stop words removal) for NLP analysis using TF-IDF"
   ]
  },
  {
   "cell_type": "markdown",
   "id": "2a3d1368",
   "metadata": {},
   "source": [
    "\n",
    "Bag-of-words model was used as a tool of feature generation for the captions. After transforming the text of captions into a bag-of-words, we performed the calculation of term frequency, which refers to the number of times a term appears in the text. Term frequency (TF) might not be the best representation of the text because the common words like ‘the’,’a’,’is’ are most likely to be the highest frequency terms. Thus, to address this problem, the term frequency was converted into term frequency-inverse document frequency (TF-IDF). The reason we need IDF is to minimize the weighting of common terms while making infrequent terms have a higher impact. Putting both together, the TF-IDF score tells how important and relevant a term is. \n",
    "\n",
    "Then, we performed sentiment analysis on the text of comments to tag the comments as “positive”, “neutral” and “negative”. This will add a useful feature of popularity in addition to the number of likes and comments a post garners. While we initially planned to create our own sentiment analysis model using the TF-IDF results and compare with some pre-trained models, the sheer volume of the data meant that we were unable to complete some steps because of the limitations of our systems’ computing power. \n"
   ]
  },
  {
   "cell_type": "code",
   "execution_count": 358,
   "id": "8c8a4392",
   "metadata": {},
   "outputs": [],
   "source": [
    "#clean the captions by removing punctuations, lower casing, and removing stop words\n",
    "df1_sampled[\"caption\"] = df1_sampled[\"caption\"].str.lower()\n",
    "df1_sampled[\"caption\"] = df1_sampled[\"caption\"].apply(lambda x: re.sub(r'@\\w+', \"\", x))\n",
    "df1_sampled[\"caption\"] = df1_sampled[\"caption\"].apply(remove_punctuations)\n",
    "\n",
    "stop = stopwords.words('english')\n",
    "df1_sampled[\"caption\"] = df1_sampled[\"caption\"].apply(lambda x: ' '.join([word for word in x.split() if word not in stop]))\n",
    "#df1[\"caption\"] = df1[\"caption\"].apply(lambda x: x.encode('ascii', 'ignore').decode('ascii'))"
   ]
  },
  {
   "cell_type": "code",
   "execution_count": 359,
   "id": "2400c9ab",
   "metadata": {},
   "outputs": [],
   "source": [
    "\n",
    "df1_sampled[\"caption\"]=df1_sampled[\"caption\"].apply(lambda x:contractions(x))\n",
    "df1_sampled[\"caption\"]=df1_sampled[\"caption\"].apply(lambda x: re.sub(' +', ' ', x))\n"
   ]
  },
  {
   "cell_type": "code",
   "execution_count": 360,
   "id": "90969fff",
   "metadata": {},
   "outputs": [],
   "source": [
    "#utilize the textblob package to edit wrong words\n",
    "#df1[\"caption\"] = df1[\"caption\"].apply(lambda x: TextBlob(x).correct())"
   ]
  },
  {
   "cell_type": "code",
   "execution_count": 361,
   "id": "662990f8",
   "metadata": {},
   "outputs": [],
   "source": [
    "df1_sampled = df1_sampled.loc[df1_sampled[\"caption\"].isnull() != True ]\n",
    "df1_sampled = df1_sampled.loc[df1_sampled[\"caption\"] != None]"
   ]
  },
  {
   "cell_type": "code",
   "execution_count": 362,
   "id": "7d91b863",
   "metadata": {},
   "outputs": [
    {
     "data": {
      "text/plain": [
       "14849     ad course first week new white outdoor furnitu...\n",
       "326085    guest room looking like modge podge it is walk...\n",
       "221727                                  weekend mode 🤘🏽 x90\n",
       "323065    ragazze vi ricordo di nuovo della promozione s...\n",
       "69096     ad you have met know pizza obsessed girl 🍕🍕🍕 r...\n",
       "Name: caption, dtype: object"
      ]
     },
     "execution_count": 362,
     "metadata": {},
     "output_type": "execute_result"
    }
   ],
   "source": [
    "#keep only the stem of every word\n",
    "lemmatizer = WordNetLemmatizer()\n",
    "df1_sampled[\"caption\"] = df1_sampled[\"caption\"].apply(lambda x: ' '.join([lemmatizer.lemmatize(word) for word in x.split()]))\n",
    "df1_sampled[\"caption\"].head()"
   ]
  },
  {
   "cell_type": "code",
   "execution_count": 363,
   "id": "b100f63e",
   "metadata": {},
   "outputs": [
    {
     "data": {
      "text/plain": [
       "14849     ad course first week new white outdoor furnitu...\n",
       "326085    guest room looking like podge it is walkable y...\n",
       "221727                                         weekend mode\n",
       "323065    di di di la neon che di e sulla e link story n...\n",
       "69096     ad you have met know pizza girl really really ...\n",
       "Name: caption, dtype: object"
      ]
     },
     "execution_count": 363,
     "metadata": {},
     "output_type": "execute_result"
    }
   ],
   "source": [
    "#remove non english words\n",
    "words = set(nltk.corpus.words.words())\n",
    "\n",
    "df1_sampled[\"caption\"] = df1_sampled[\"caption\"].apply(lambda x: \" \".join([word for word in x.split() \\\n",
    "         if word in words]))\n",
    "\n",
    "#df1[\"caption\"] = df1[\"caption\"].apply(lambda x: \" \".join(x.split()))\n",
    "    \n",
    "df1_sampled[\"caption\"].head()"
   ]
  },
  {
   "cell_type": "code",
   "execution_count": 364,
   "id": "94a437fd",
   "metadata": {},
   "outputs": [],
   "source": [
    "# analyze what language each caption is\n",
    "df1_sampled[\"lang\"] = df1_sampled[\"caption\"].apply(lambda x: langid.classify(x)[0])\n"
   ]
  },
  {
   "cell_type": "code",
   "execution_count": 365,
   "id": "dacb6e34",
   "metadata": {},
   "outputs": [
    {
     "data": {
      "text/html": [
       "<div>\n",
       "<style scoped>\n",
       "    .dataframe tbody tr th:only-of-type {\n",
       "        vertical-align: middle;\n",
       "    }\n",
       "\n",
       "    .dataframe tbody tr th {\n",
       "        vertical-align: top;\n",
       "    }\n",
       "\n",
       "    .dataframe thead th {\n",
       "        text-align: right;\n",
       "    }\n",
       "</style>\n",
       "<table border=\"1\" class=\"dataframe\">\n",
       "  <thead>\n",
       "    <tr style=\"text-align: right;\">\n",
       "      <th></th>\n",
       "      <th>json_id</th>\n",
       "      <th>likes_per_follower</th>\n",
       "      <th>caption</th>\n",
       "      <th>lang</th>\n",
       "    </tr>\n",
       "  </thead>\n",
       "  <tbody>\n",
       "    <tr>\n",
       "      <th>14849</th>\n",
       "      <td>1845819969957040871</td>\n",
       "      <td>2861</td>\n",
       "      <td>ad course first week new white outdoor furnitu...</td>\n",
       "      <td>en</td>\n",
       "    </tr>\n",
       "    <tr>\n",
       "      <th>326085</th>\n",
       "      <td>1700130069736603012</td>\n",
       "      <td>2353</td>\n",
       "      <td>guest room looking like podge it is walkable y...</td>\n",
       "      <td>en</td>\n",
       "    </tr>\n",
       "    <tr>\n",
       "      <th>69096</th>\n",
       "      <td>1857639984522215438</td>\n",
       "      <td>444</td>\n",
       "      <td>ad you have met know pizza girl really really ...</td>\n",
       "      <td>en</td>\n",
       "    </tr>\n",
       "    <tr>\n",
       "      <th>67335</th>\n",
       "      <td>1755629379831914897</td>\n",
       "      <td>926</td>\n",
       "      <td>messy house busy schedule two event next four ...</td>\n",
       "      <td>en</td>\n",
       "    </tr>\n",
       "    <tr>\n",
       "      <th>18884</th>\n",
       "      <td>1846626533457043079</td>\n",
       "      <td>440</td>\n",
       "      <td>what is harder hold hot potato wet baby shower...</td>\n",
       "      <td>en</td>\n",
       "    </tr>\n",
       "  </tbody>\n",
       "</table>\n",
       "</div>"
      ],
      "text/plain": [
       "                    json_id  likes_per_follower  \\\n",
       "14849   1845819969957040871                2861   \n",
       "326085  1700130069736603012                2353   \n",
       "69096   1857639984522215438                 444   \n",
       "67335   1755629379831914897                 926   \n",
       "18884   1846626533457043079                 440   \n",
       "\n",
       "                                                  caption lang  \n",
       "14849   ad course first week new white outdoor furnitu...   en  \n",
       "326085  guest room looking like podge it is walkable y...   en  \n",
       "69096   ad you have met know pizza girl really really ...   en  \n",
       "67335   messy house busy schedule two event next four ...   en  \n",
       "18884   what is harder hold hot potato wet baby shower...   en  "
      ]
     },
     "execution_count": 365,
     "metadata": {},
     "output_type": "execute_result"
    }
   ],
   "source": [
    "#remove captions that aren't english\n",
    "df1_sampled = df1_sampled.loc[df1_sampled[\"lang\"] == \"en\"]\n",
    "df1_sampled.head()"
   ]
  },
  {
   "cell_type": "code",
   "execution_count": 366,
   "id": "be82392b",
   "metadata": {},
   "outputs": [
    {
     "name": "stdout",
     "output_type": "stream",
     "text": [
      "(126911, 500)\n"
     ]
    },
    {
     "data": {
      "text/html": [
       "<div>\n",
       "<style scoped>\n",
       "    .dataframe tbody tr th:only-of-type {\n",
       "        vertical-align: middle;\n",
       "    }\n",
       "\n",
       "    .dataframe tbody tr th {\n",
       "        vertical-align: top;\n",
       "    }\n",
       "\n",
       "    .dataframe thead th {\n",
       "        text-align: right;\n",
       "    }\n",
       "</style>\n",
       "<table border=\"1\" class=\"dataframe\">\n",
       "  <thead>\n",
       "    <tr style=\"text-align: right;\">\n",
       "      <th></th>\n",
       "      <th>tfidf</th>\n",
       "    </tr>\n",
       "  </thead>\n",
       "  <tbody>\n",
       "    <tr>\n",
       "      <th>save</th>\n",
       "      <td>0.536792</td>\n",
       "    </tr>\n",
       "    <tr>\n",
       "      <th>looking</th>\n",
       "      <td>0.472099</td>\n",
       "    </tr>\n",
       "    <tr>\n",
       "      <th>like</th>\n",
       "      <td>0.311254</td>\n",
       "    </tr>\n",
       "    <tr>\n",
       "      <th>room</th>\n",
       "      <td>0.269867</td>\n",
       "    </tr>\n",
       "    <tr>\n",
       "      <th>water</th>\n",
       "      <td>0.261647</td>\n",
       "    </tr>\n",
       "    <tr>\n",
       "      <th>...</th>\n",
       "      <td>...</td>\n",
       "    </tr>\n",
       "    <tr>\n",
       "      <th>flavor</th>\n",
       "      <td>0.000000</td>\n",
       "    </tr>\n",
       "    <tr>\n",
       "      <th>fitness</th>\n",
       "      <td>0.000000</td>\n",
       "    </tr>\n",
       "    <tr>\n",
       "      <th>fit</th>\n",
       "      <td>0.000000</td>\n",
       "    </tr>\n",
       "    <tr>\n",
       "      <th>first</th>\n",
       "      <td>0.000000</td>\n",
       "    </tr>\n",
       "    <tr>\n",
       "      <th>yet</th>\n",
       "      <td>0.000000</td>\n",
       "    </tr>\n",
       "  </tbody>\n",
       "</table>\n",
       "<p>500 rows × 1 columns</p>\n",
       "</div>"
      ],
      "text/plain": [
       "            tfidf\n",
       "save     0.536792\n",
       "looking  0.472099\n",
       "like     0.311254\n",
       "room     0.269867\n",
       "water    0.261647\n",
       "...           ...\n",
       "flavor   0.000000\n",
       "fitness  0.000000\n",
       "fit      0.000000\n",
       "first    0.000000\n",
       "yet      0.000000\n",
       "\n",
       "[500 rows x 1 columns]"
      ]
     },
     "execution_count": 366,
     "metadata": {},
     "output_type": "execute_result"
    }
   ],
   "source": [
    "# TF-IDF\n",
    "\n",
    "#Convert a collection of text documents to a matrix of token counts (for each word)\n",
    "tfidfconverter = TfidfVectorizer(max_features = 500, min_df= 100, max_df=0.7, stop_words=stopwords.words('english'))  \n",
    "tf_idf_vector = tfidfconverter.fit_transform(df1_sampled[\"caption\"]).toarray()\n",
    "feature_names = tfidfconverter.get_feature_names_out()\n",
    "\n",
    "print(tf_idf_vector.shape)\n",
    "#show an example of the first document tf_idf breakdown\n",
    "first_document_vector=tf_idf_vector[1]\n",
    "df_tfifd= pd.DataFrame(first_document_vector, index=feature_names, columns=[\"tfidf\"])\n",
    "df_tfifd.sort_values(by=[\"tfidf\"],ascending=False)\n"
   ]
  },
  {
   "cell_type": "code",
   "execution_count": 367,
   "id": "f4713644",
   "metadata": {},
   "outputs": [],
   "source": [
    "#tf_idf = TfidfVectorizer()\n",
    "#word_vectors = tf_idf.fit_transform(df1_sampled[\"caption\"])\n",
    "df1_sampled.reset_index(drop=True, inplace=True)\n",
    "word_vectors = pd.DataFrame(tf_idf_vector, columns = feature_names)\n",
    "df1_sampled = pd.concat([df1_sampled[[\"json_id\", \"likes_per_follower\"]]\n",
    "                        , word_vectors], axis=1)"
   ]
  },
  {
   "cell_type": "code",
   "execution_count": 368,
   "id": "f454703a",
   "metadata": {},
   "outputs": [],
   "source": [
    "df1_sampled = df1_sampled.merge(posts_influ_df, how ='inner', on = \"json_id\")"
   ]
  },
  {
   "cell_type": "code",
   "execution_count": 369,
   "id": "13c69d77",
   "metadata": {},
   "outputs": [
    {
     "data": {
      "text/plain": [
       "(99781, 526)"
      ]
     },
     "execution_count": 369,
     "metadata": {},
     "output_type": "execute_result"
    }
   ],
   "source": [
    "df1_sampled.shape"
   ]
  },
  {
   "cell_type": "code",
   "execution_count": 370,
   "id": "6c2d59d9",
   "metadata": {},
   "outputs": [
    {
     "data": {
      "text/html": [
       "<div>\n",
       "<style scoped>\n",
       "    .dataframe tbody tr th:only-of-type {\n",
       "        vertical-align: middle;\n",
       "    }\n",
       "\n",
       "    .dataframe tbody tr th {\n",
       "        vertical-align: top;\n",
       "    }\n",
       "\n",
       "    .dataframe thead th {\n",
       "        text-align: right;\n",
       "    }\n",
       "</style>\n",
       "<table border=\"1\" class=\"dataframe\">\n",
       "  <thead>\n",
       "    <tr style=\"text-align: right;\">\n",
       "      <th></th>\n",
       "      <th>json_id</th>\n",
       "      <th>likes_per_follower</th>\n",
       "      <th>able</th>\n",
       "      <th>absolutely</th>\n",
       "      <th>actually</th>\n",
       "      <th>ad</th>\n",
       "      <th>add</th>\n",
       "      <th>added</th>\n",
       "      <th>adventure</th>\n",
       "      <th>ago</th>\n",
       "      <th>...</th>\n",
       "      <th>category_Home Goods Stores</th>\n",
       "      <th>category_Home Services</th>\n",
       "      <th>category_Lifestyle Services</th>\n",
       "      <th>category_Local Events</th>\n",
       "      <th>category_Non-Profits &amp; Religious Organizations</th>\n",
       "      <th>category_Personal Goods &amp; General Merchandise Stores</th>\n",
       "      <th>category_Professional Services</th>\n",
       "      <th>category_Publishers</th>\n",
       "      <th>category_Restaurants</th>\n",
       "      <th>category_Transportation &amp; Accomodation Services</th>\n",
       "    </tr>\n",
       "  </thead>\n",
       "  <tbody>\n",
       "    <tr>\n",
       "      <th>0</th>\n",
       "      <td>1845819969957040871</td>\n",
       "      <td>0.009462</td>\n",
       "      <td>0.0</td>\n",
       "      <td>0.0</td>\n",
       "      <td>0.0</td>\n",
       "      <td>0.143341</td>\n",
       "      <td>0.0</td>\n",
       "      <td>0.0</td>\n",
       "      <td>0.0</td>\n",
       "      <td>0.0</td>\n",
       "      <td>...</td>\n",
       "      <td>0.0</td>\n",
       "      <td>0.0</td>\n",
       "      <td>0.0</td>\n",
       "      <td>0.0</td>\n",
       "      <td>0.0</td>\n",
       "      <td>0.0</td>\n",
       "      <td>0.0</td>\n",
       "      <td>0.0</td>\n",
       "      <td>0.0</td>\n",
       "      <td>0.0</td>\n",
       "    </tr>\n",
       "    <tr>\n",
       "      <th>1</th>\n",
       "      <td>1700130069736603012</td>\n",
       "      <td>0.046147</td>\n",
       "      <td>0.0</td>\n",
       "      <td>0.0</td>\n",
       "      <td>0.0</td>\n",
       "      <td>0.000000</td>\n",
       "      <td>0.0</td>\n",
       "      <td>0.0</td>\n",
       "      <td>0.0</td>\n",
       "      <td>0.0</td>\n",
       "      <td>...</td>\n",
       "      <td>0.0</td>\n",
       "      <td>0.0</td>\n",
       "      <td>0.0</td>\n",
       "      <td>0.0</td>\n",
       "      <td>0.0</td>\n",
       "      <td>0.0</td>\n",
       "      <td>0.0</td>\n",
       "      <td>0.0</td>\n",
       "      <td>0.0</td>\n",
       "      <td>0.0</td>\n",
       "    </tr>\n",
       "    <tr>\n",
       "      <th>2</th>\n",
       "      <td>1755629379831914897</td>\n",
       "      <td>0.018495</td>\n",
       "      <td>0.0</td>\n",
       "      <td>0.0</td>\n",
       "      <td>0.0</td>\n",
       "      <td>0.000000</td>\n",
       "      <td>0.0</td>\n",
       "      <td>0.0</td>\n",
       "      <td>0.0</td>\n",
       "      <td>0.0</td>\n",
       "      <td>...</td>\n",
       "      <td>0.0</td>\n",
       "      <td>0.0</td>\n",
       "      <td>0.0</td>\n",
       "      <td>0.0</td>\n",
       "      <td>0.0</td>\n",
       "      <td>0.0</td>\n",
       "      <td>0.0</td>\n",
       "      <td>0.0</td>\n",
       "      <td>0.0</td>\n",
       "      <td>0.0</td>\n",
       "    </tr>\n",
       "    <tr>\n",
       "      <th>3</th>\n",
       "      <td>1846626533457043079</td>\n",
       "      <td>0.040249</td>\n",
       "      <td>0.0</td>\n",
       "      <td>0.0</td>\n",
       "      <td>0.0</td>\n",
       "      <td>0.168138</td>\n",
       "      <td>0.0</td>\n",
       "      <td>0.0</td>\n",
       "      <td>0.0</td>\n",
       "      <td>0.0</td>\n",
       "      <td>...</td>\n",
       "      <td>0.0</td>\n",
       "      <td>0.0</td>\n",
       "      <td>0.0</td>\n",
       "      <td>0.0</td>\n",
       "      <td>0.0</td>\n",
       "      <td>0.0</td>\n",
       "      <td>0.0</td>\n",
       "      <td>0.0</td>\n",
       "      <td>0.0</td>\n",
       "      <td>0.0</td>\n",
       "    </tr>\n",
       "    <tr>\n",
       "      <th>4</th>\n",
       "      <td>1517839551120552138</td>\n",
       "      <td>0.008871</td>\n",
       "      <td>0.0</td>\n",
       "      <td>0.0</td>\n",
       "      <td>0.0</td>\n",
       "      <td>0.000000</td>\n",
       "      <td>0.0</td>\n",
       "      <td>0.0</td>\n",
       "      <td>0.0</td>\n",
       "      <td>0.0</td>\n",
       "      <td>...</td>\n",
       "      <td>0.0</td>\n",
       "      <td>0.0</td>\n",
       "      <td>0.0</td>\n",
       "      <td>0.0</td>\n",
       "      <td>0.0</td>\n",
       "      <td>0.0</td>\n",
       "      <td>0.0</td>\n",
       "      <td>0.0</td>\n",
       "      <td>0.0</td>\n",
       "      <td>0.0</td>\n",
       "    </tr>\n",
       "  </tbody>\n",
       "</table>\n",
       "<p>5 rows × 526 columns</p>\n",
       "</div>"
      ],
      "text/plain": [
       "               json_id  likes_per_follower  able  absolutely  actually  \\\n",
       "0  1845819969957040871            0.009462   0.0         0.0       0.0   \n",
       "1  1700130069736603012            0.046147   0.0         0.0       0.0   \n",
       "2  1755629379831914897            0.018495   0.0         0.0       0.0   \n",
       "3  1846626533457043079            0.040249   0.0         0.0       0.0   \n",
       "4  1517839551120552138            0.008871   0.0         0.0       0.0   \n",
       "\n",
       "         ad  add  added  adventure  ago  ...  category_Home Goods Stores  \\\n",
       "0  0.143341  0.0    0.0        0.0  0.0  ...                         0.0   \n",
       "1  0.000000  0.0    0.0        0.0  0.0  ...                         0.0   \n",
       "2  0.000000  0.0    0.0        0.0  0.0  ...                         0.0   \n",
       "3  0.168138  0.0    0.0        0.0  0.0  ...                         0.0   \n",
       "4  0.000000  0.0    0.0        0.0  0.0  ...                         0.0   \n",
       "\n",
       "   category_Home Services  category_Lifestyle Services  category_Local Events  \\\n",
       "0                     0.0                          0.0                    0.0   \n",
       "1                     0.0                          0.0                    0.0   \n",
       "2                     0.0                          0.0                    0.0   \n",
       "3                     0.0                          0.0                    0.0   \n",
       "4                     0.0                          0.0                    0.0   \n",
       "\n",
       "   category_Non-Profits & Religious Organizations  \\\n",
       "0                                             0.0   \n",
       "1                                             0.0   \n",
       "2                                             0.0   \n",
       "3                                             0.0   \n",
       "4                                             0.0   \n",
       "\n",
       "   category_Personal Goods & General Merchandise Stores  \\\n",
       "0                                                0.0      \n",
       "1                                                0.0      \n",
       "2                                                0.0      \n",
       "3                                                0.0      \n",
       "4                                                0.0      \n",
       "\n",
       "   category_Professional Services  category_Publishers  category_Restaurants  \\\n",
       "0                             0.0                  0.0                   0.0   \n",
       "1                             0.0                  0.0                   0.0   \n",
       "2                             0.0                  0.0                   0.0   \n",
       "3                             0.0                  0.0                   0.0   \n",
       "4                             0.0                  0.0                   0.0   \n",
       "\n",
       "   category_Transportation & Accomodation Services  \n",
       "0                                              0.0  \n",
       "1                                              0.0  \n",
       "2                                              0.0  \n",
       "3                                              0.0  \n",
       "4                                              0.0  \n",
       "\n",
       "[5 rows x 526 columns]"
      ]
     },
     "execution_count": 370,
     "metadata": {},
     "output_type": "execute_result"
    }
   ],
   "source": [
    "#final_data = final_data.merge(likes, how = \"left\", on= \"json_id\")\n",
    "df1_sampled[\"followers\"] = df1_sampled[\"followers\"].astype(int)\n",
    "df1_sampled[\"likes_per_follower\"] = df1_sampled[\"likes_per_follower\"]/df1_sampled[\"followers\"]\n",
    "df1_sampled.head()"
   ]
  },
  {
   "cell_type": "code",
   "execution_count": 371,
   "id": "ba7c3871",
   "metadata": {},
   "outputs": [
    {
     "data": {
      "text/plain": [
       "[<matplotlib.lines.Line2D at 0x7f8f04032be0>]"
      ]
     },
     "execution_count": 371,
     "metadata": {},
     "output_type": "execute_result"
    },
    {
     "data": {
      "image/png": "[encoded data removed]",
      "text/plain": [
       "<Figure size 432x288 with 1 Axes>"
      ]
     },
     "metadata": {
      "needs_background": "light"
     },
     "output_type": "display_data"
    }
   ],
   "source": [
    "plt.plot(df1_sampled[\"likes_per_follower\"])"
   ]
  },
  {
   "cell_type": "code",
   "execution_count": 372,
   "id": "f943c338",
   "metadata": {},
   "outputs": [],
   "source": [
    "final_data = df1_sampled.drop([\"json_id\",\"followers\", \"followees\"], axis = 1)"
   ]
  },
  {
   "cell_type": "code",
   "execution_count": 373,
   "id": "13a7c360",
   "metadata": {},
   "outputs": [
    {
     "data": {
      "text/plain": [
       "0.041920480935993765"
      ]
     },
     "execution_count": 373,
     "metadata": {},
     "output_type": "execute_result"
    }
   ],
   "source": [
    "np.mean(final_data[\"likes_per_follower\"])"
   ]
  },
  {
   "cell_type": "code",
   "execution_count": 374,
   "id": "c0a72b26",
   "metadata": {},
   "outputs": [
    {
     "data": {
      "text/plain": [
       "0.05055948069767976"
      ]
     },
     "execution_count": 374,
     "metadata": {},
     "output_type": "execute_result"
    }
   ],
   "source": [
    "np.std(final_data[\"likes_per_follower\"])"
   ]
  },
  {
   "cell_type": "markdown",
   "id": "00f5ad3a",
   "metadata": {},
   "source": [
    "# Model Building"
   ]
  },
  {
   "cell_type": "markdown",
   "id": "3d117191",
   "metadata": {},
   "source": [
    "### Linear Regression"
   ]
  },
  {
   "cell_type": "code",
   "execution_count": 375,
   "id": "0bc90333",
   "metadata": {},
   "outputs": [
    {
     "data": {
      "text/plain": [
       "0.024381076558064763"
      ]
     },
     "execution_count": 375,
     "metadata": {},
     "output_type": "execute_result"
    }
   ],
   "source": [
    "X = final_data.loc[:, final_data.columns != \"likes_per_follower\"]\n",
    "Y = final_data[\"likes_per_follower\"]\n",
    "\n",
    "indices = np.arange(X.shape[0])\n",
    "X_train, X_test, Y_train, Y_test, X_index, Y_index = train_test_split(X, Y, indices, test_size = .30, random_state = 0)\n",
    "\n",
    "cv = KFold(n_splits=5, random_state=0, shuffle=True)\n",
    "\n",
    "reg = LinearRegression().fit(X_train, Y_train)\n",
    "reg.score(X_train, Y_train)"
   ]
  },
  {
   "cell_type": "code",
   "execution_count": 376,
   "id": "12b1daea",
   "metadata": {},
   "outputs": [],
   "source": [
    "y_pred=reg.predict(X_train)"
   ]
  },
  {
   "cell_type": "code",
   "execution_count": 377,
   "id": "81c84b81",
   "metadata": {},
   "outputs": [
    {
     "name": "stdout",
     "output_type": "stream",
     "text": [
      "Training RMSE of the model is 0.0492\n"
     ]
    }
   ],
   "source": [
    "rmse = math.sqrt(mean_squared_error(Y_train, y_pred))\n",
    "print(\"Training RMSE of the model is %.4f\" %rmse)"
   ]
  },
  {
   "cell_type": "code",
   "execution_count": 378,
   "id": "6c36c633",
   "metadata": {},
   "outputs": [
    {
     "name": "stdout",
     "output_type": "stream",
     "text": [
      "Validation RMSE of the model is 8572317.3908\n"
     ]
    }
   ],
   "source": [
    "scores = cross_val_score(reg, X_train, Y_train, scoring='neg_root_mean_squared_error',\n",
    "                         cv=cv, n_jobs=-1)\n",
    "\n",
    "print(\"Validation RMSE of the model is %.4f\" %np.mean(np.absolute(scores)))"
   ]
  },
  {
   "cell_type": "code",
   "execution_count": 379,
   "id": "455a48ba",
   "metadata": {},
   "outputs": [
    {
     "name": "stdout",
     "output_type": "stream",
     "text": [
      "[1.72645645e-06 1.09976987e-08 6.01175884e-05 ... 2.49091237e-05\n",
      " 1.25516442e-05 5.19787452e-06]\n"
     ]
    }
   ],
   "source": [
    "#add constant to predictor variables\n",
    "x = sm.add_constant(X_train)\n",
    "\n",
    "#fit linear regression model\n",
    "model = sm.OLS(np.asarray(Y_train, dtype=float), np.asarray(x, dtype=float)).fit() \n",
    "\n",
    "#create instance of influence\n",
    "influence = model.get_influence()\n",
    "\n",
    "#obtain Cook's distance for each observation\n",
    "cooks = influence.cooks_distance[0]\n",
    "\n",
    "#display Cook's distances\n",
    "print(cooks)"
   ]
  },
  {
   "cell_type": "code",
   "execution_count": 380,
   "id": "667cdb74",
   "metadata": {},
   "outputs": [],
   "source": [
    "X_train_cooks = X_train.loc[cooks < (4/len(cooks))]\n",
    "y_train_cooks = Y_train.loc[cooks < (4/len(cooks))]"
   ]
  },
  {
   "cell_type": "code",
   "execution_count": 381,
   "id": "98f9872a",
   "metadata": {},
   "outputs": [
    {
     "data": {
      "text/plain": [
       "0.04077430159028017"
      ]
     },
     "execution_count": 381,
     "metadata": {},
     "output_type": "execute_result"
    }
   ],
   "source": [
    "reg = LinearRegression().fit(X_train_cooks, y_train_cooks)\n",
    "reg.score(X_train_cooks, y_train_cooks)"
   ]
  },
  {
   "cell_type": "code",
   "execution_count": 382,
   "id": "e06ace14",
   "metadata": {},
   "outputs": [],
   "source": [
    "y_pred=reg.predict(X_train_cooks)"
   ]
  },
  {
   "cell_type": "code",
   "execution_count": 383,
   "id": "4b0de8a9",
   "metadata": {},
   "outputs": [
    {
     "name": "stdout",
     "output_type": "stream",
     "text": [
      "Training RMSE of the model is 0.0289\n"
     ]
    }
   ],
   "source": [
    "rmse = math.sqrt(mean_squared_error(y_train_cooks, y_pred))\n",
    "print(\"Training RMSE of the model is %.4f\" %rmse)"
   ]
  },
  {
   "cell_type": "code",
   "execution_count": 384,
   "id": "6a1fe2ab",
   "metadata": {},
   "outputs": [
    {
     "name": "stdout",
     "output_type": "stream",
     "text": [
      "Validation RMSE of the model is 0.0291\n"
     ]
    }
   ],
   "source": [
    "scores = cross_val_score(reg, X_train_cooks, y_train_cooks, scoring='neg_root_mean_squared_error',\n",
    "                         cv=cv, n_jobs=-1)\n",
    "\n",
    "#view RMSE (validation error)\n",
    "print(\"Validation RMSE of the model is %.4f\" %np.mean(np.absolute(scores)))"
   ]
  },
  {
   "cell_type": "markdown",
   "id": "24dce35c",
   "metadata": {},
   "source": [
    "### LASSO"
   ]
  },
  {
   "cell_type": "markdown",
   "id": "b7d11923",
   "metadata": {},
   "source": [
    "The LASSO penalization model is used because we have over 100 predictors (due to the TF-IDF creating new features for each word) and LASSO is known to penalize the model for unnecessary features which will help us narrow down the important factors. Not only does it control model complexity and variable selection, it also encourages sparsity in solution.\n"
   ]
  },
  {
   "cell_type": "code",
   "execution_count": 385,
   "id": "bbdea5f0",
   "metadata": {},
   "outputs": [
    {
     "name": "stderr",
     "output_type": "stream",
     "text": [
      "/Users/chouche7/opt/anaconda3/lib/python3.9/site-packages/sklearn/linear_model/_coordinate_descent.py:633: ConvergenceWarning: Objective did not converge. You might want to increase the number of iterations. Duality gap: 0.012613991191251728, tolerance: 0.004793561289913987\n",
      "  model = cd_fast.enet_coordinate_descent_gram(\n",
      "/Users/chouche7/opt/anaconda3/lib/python3.9/site-packages/sklearn/linear_model/_coordinate_descent.py:633: ConvergenceWarning: Objective did not converge. You might want to increase the number of iterations. Duality gap: 0.006128265053746418, tolerance: 0.004742163291024567\n",
      "  model = cd_fast.enet_coordinate_descent_gram(\n",
      "/Users/chouche7/opt/anaconda3/lib/python3.9/site-packages/sklearn/linear_model/_coordinate_descent.py:633: ConvergenceWarning: Objective did not converge. You might want to increase the number of iterations. Duality gap: 0.034932879477864276, tolerance: 0.004742163291024567\n",
      "  model = cd_fast.enet_coordinate_descent_gram(\n"
     ]
    }
   ],
   "source": [
    "lasso = LassoCV(cv=5, random_state=0).fit(X_train_cooks, y_train_cooks)"
   ]
  },
  {
   "cell_type": "code",
   "execution_count": 386,
   "id": "a4fa6b39",
   "metadata": {},
   "outputs": [],
   "source": [
    "lasso_features = lasso.feature_names_in_[lasso.coef_ != 0]"
   ]
  },
  {
   "cell_type": "code",
   "execution_count": 387,
   "id": "f3616bf2",
   "metadata": {},
   "outputs": [
    {
     "data": {
      "text/plain": [
       "(406,)"
      ]
     },
     "execution_count": 387,
     "metadata": {},
     "output_type": "execute_result"
    }
   ],
   "source": [
    "lasso_features.shape"
   ]
  },
  {
   "cell_type": "code",
   "execution_count": 388,
   "id": "8d2f19f5",
   "metadata": {},
   "outputs": [
    {
     "data": {
      "text/plain": [
       "0.04054671711627744"
      ]
     },
     "execution_count": 388,
     "metadata": {},
     "output_type": "execute_result"
    }
   ],
   "source": [
    "X = X_train_cooks.loc[:, X_train_cooks.columns.isin(lasso_features)]\n",
    "#Y = final_data[\"likes_per_follower\"]\n",
    "\n",
    "\n",
    "#X_train, X_test, Y_train, Y_test = train_test_split(X, Y, test_size = .30, random_state = 0)\n",
    "lasso = LinearRegression().fit(X, y_train_cooks)\n",
    "lasso.score(X, y_train_cooks)"
   ]
  },
  {
   "cell_type": "code",
   "execution_count": 389,
   "id": "9bdd7314",
   "metadata": {},
   "outputs": [
    {
     "name": "stdout",
     "output_type": "stream",
     "text": [
      "Training RMSE of the model is 0.0289\n"
     ]
    }
   ],
   "source": [
    "y_pred=lasso.predict(X)\n",
    "\n",
    "rmse = math.sqrt(mean_squared_error(y_train_cooks, y_pred))\n",
    "print(\"Training RMSE of the model is %.4f\" %rmse)"
   ]
  },
  {
   "cell_type": "code",
   "execution_count": 390,
   "id": "8a40a82c",
   "metadata": {},
   "outputs": [
    {
     "name": "stdout",
     "output_type": "stream",
     "text": [
      "Validation RMSE of the model is 0.0291\n"
     ]
    }
   ],
   "source": [
    "scores = cross_val_score(lasso, X, y_train_cooks, scoring='neg_root_mean_squared_error',\n",
    "                         cv=cv, n_jobs=-1)\n",
    "\n",
    "print(\"Validation RMSE of the model is %.4f\" %np.mean(np.absolute(scores)))"
   ]
  },
  {
   "cell_type": "markdown",
   "id": "a8c3dd34",
   "metadata": {},
   "source": [
    "### AdaBoost"
   ]
  },
  {
   "cell_type": "markdown",
   "id": "2d042e45",
   "metadata": {},
   "source": [
    "The AdaBoost model builds on top of the previous models’ error in order to create one effective model. Boosting is generally better than bagging (random forest) when the classifier is stable and simple (high bias) whereas bagging is better when there is high variance (overfitting).\n",
    "\n",
    "One thing to note is that boosting algorithms are extremely sensitive to outliers. This is because every classifier works off of the errors of its predecessors, so every model is forced to learn even the “bad” data. To prevent this from occurring, we made our best attempt in removing outliers by applying Cook’s Distance first to a multiple linear regression model. Cook’s Distance is measured by the difference in fitted values when the specific datum point is removed from the model; hence, data that shift our output values greatly will have a large distance (to be removed). Usually, this method only applies to the least-squares method, but due to time constraints, we used it to look for highly influential points for both the LASSO and AdaBoost models."
   ]
  },
  {
   "cell_type": "code",
   "execution_count": 391,
   "id": "721ef62b",
   "metadata": {},
   "outputs": [
    {
     "name": "stdout",
     "output_type": "stream",
     "text": [
      "3 0.02942968573976506\n",
      "4 0.029424359561097662\n",
      "5 0.02942964175005545\n",
      "6 0.029452221622661874\n",
      "7 0.029467597921085296\n",
      "8 0.02949038964962264\n",
      "9 0.029529334150927723\n"
     ]
    }
   ],
   "source": [
    "for depth in range (3,10):\n",
    "    tree_classifier=tree.DecisionTreeRegressor(max_depth=depth,random_state=0)\n",
    "    tree_classifier.fit(X, y_train_cooks)\n",
    "    score=np.mean(np.absolute(cross_val_score(tree_classifier,X, y_train_cooks,scoring='neg_root_mean_squared_error', cv=cv, n_jobs=-1)))\n",
    "    print(depth, score)"
   ]
  },
  {
   "cell_type": "code",
   "execution_count": 392,
   "id": "0e2de5c4",
   "metadata": {},
   "outputs": [],
   "source": [
    "#HYPER-PARAMETER TUNING for number of trees and learning rate\n",
    "#this takes a couple hours to run\n",
    "#don't run this unless the data has changed\n",
    "\n",
    "#ada=AdaBoostRegressor(base_estimator=tree.DecisionTreeRegressor(max_depth=3,random_state=0))\n",
    "#search_grid={'n_estimators':[50,75,100,150],'learning_rate':[.01,0.1,1]}\n",
    "#ada_clf=GridSearchCV(estimator=ada,param_grid=search_grid,scoring='neg_root_mean_squared_error', cv=cv, return_train_score = True)\n",
    "#ada_clf.fit(X, y_train_cooks)\n",
    "#ada_clf.best_params_\n",
    "\n",
    "#best_param is 100, 0.01"
   ]
  },
  {
   "cell_type": "code",
   "execution_count": 394,
   "id": "f6977ff5",
   "metadata": {},
   "outputs": [
    {
     "name": "stdout",
     "output_type": "stream",
     "text": [
      "Training RMSE of the model is 0.0294\n"
     ]
    }
   ],
   "source": [
    "ada_clf=AdaBoostRegressor(base_estimator=tree.DecisionTreeRegressor(max_depth=4,random_state=0), n_estimators = 100, learning_rate = 0.01, random_state=0)\n",
    "ada_clf.fit(X, y_train_cooks)\n",
    "\n",
    "y_pred=ada_clf.predict(X)\n",
    "\n",
    "rmse = math.sqrt(mean_squared_error(y_train_cooks, y_pred))\n",
    "print(\"Training RMSE of the model is %.4f\" %rmse)"
   ]
  },
  {
   "cell_type": "code",
   "execution_count": 395,
   "id": "02a63f92",
   "metadata": {},
   "outputs": [
    {
     "name": "stdout",
     "output_type": "stream",
     "text": [
      "Validation RMSE of the model is 0.0294\n"
     ]
    }
   ],
   "source": [
    "#print(\"Validation RMSE of the model is %.4f\" %np.mean(np.absolute(ada_clf.best_score_)))\n",
    "scores = cross_val_score(ada_clf, X, y_train_cooks, scoring='neg_root_mean_squared_error',\n",
    "                         cv=cv, n_jobs=-1)\n",
    "\n",
    "print(\"Validation RMSE of the model is %.4f\" %np.mean(np.absolute(scores)))"
   ]
  },
  {
   "cell_type": "markdown",
   "id": "61f3522a",
   "metadata": {},
   "source": [
    "# Model Valuation on Testing Data (based on the lowest validation error)"
   ]
  },
  {
   "cell_type": "code",
   "execution_count": 396,
   "id": "664f6441",
   "metadata": {},
   "outputs": [],
   "source": [
    "X_test_reduced = X_test.loc[:, X_test.columns.isin(lasso_features)]"
   ]
  },
  {
   "cell_type": "code",
   "execution_count": 397,
   "id": "79864051",
   "metadata": {},
   "outputs": [
    {
     "name": "stdout",
     "output_type": "stream",
     "text": [
      "Test RMSE of the LASSO model is 0.052347\n"
     ]
    }
   ],
   "source": [
    "y_pred = lasso.predict(X_test_reduced)\n",
    "\n",
    "rmse = np.sqrt(mean_squared_error(Y_test,y_pred))\n",
    "print(\"Test RMSE of the LASSO model is %.6f\" %rmse)\n"
   ]
  },
  {
   "cell_type": "code",
   "execution_count": 398,
   "id": "8242028d",
   "metadata": {},
   "outputs": [
    {
     "name": "stdout",
     "output_type": "stream",
     "text": [
      "Test MAPE of the LASSO model is 155556.998250\n"
     ]
    }
   ],
   "source": [
    "lasso_pred = lasso.predict(X_test_reduced)\n",
    "\n",
    "mape = np.sqrt(mean_absolute_percentage_error(Y_test,lasso_pred))\n",
    "print(\"Test MAPE of the LASSO model is %.6f\" %mape)\n"
   ]
  },
  {
   "cell_type": "code",
   "execution_count": 399,
   "id": "b3f2ec82",
   "metadata": {},
   "outputs": [
    {
     "name": "stdout",
     "output_type": "stream",
     "text": [
      "Test RMSE of the AdaBoost model is 0.052428\n"
     ]
    }
   ],
   "source": [
    "ada_pred = ada_clf.predict(X_test_reduced)\n",
    "\n",
    "rmse = np.sqrt(mean_squared_error(Y_test,ada_pred))\n",
    "print(\"Test RMSE of the AdaBoost model is %.6f\" %rmse)\n"
   ]
  },
  {
   "cell_type": "code",
   "execution_count": 400,
   "id": "29ae8d7d",
   "metadata": {},
   "outputs": [
    {
     "name": "stdout",
     "output_type": "stream",
     "text": [
      "Test MAPE of the AdaBoost model is 154250.154759\n"
     ]
    }
   ],
   "source": [
    "y_pred = ada_clf.predict(X_test_reduced)\n",
    "\n",
    "mape = np.sqrt(mean_absolute_percentage_error(Y_test,y_pred))\n",
    "print(\"Test MAPE of the AdaBoost model is %.6f\" %mape)\n"
   ]
  },
  {
   "cell_type": "markdown",
   "id": "849fbebe",
   "metadata": {},
   "source": [
    "***NOTE:*** The high mean absolute percentage error (MAPE) indicates that maybe the tf-idf score is not a good indicator for predicting likes/popularity. This can occur when y_true is small or when abs(y_true - y_pred) is large (which is common in regression). We should try out other natural language processing metrics and models to help us with this problem in the future. However, there is still information we can take away from this analysis."
   ]
  },
  {
   "cell_type": "code",
   "execution_count": 401,
   "id": "6a23393a",
   "metadata": {},
   "outputs": [
    {
     "data": {
      "text/plain": [
       "array(['code', 'gifted', 'outfit', 'guy', 'use', 'photography', 'case',\n",
       "       'sweater', 'two', 'took'], dtype=object)"
      ]
     },
     "execution_count": 401,
     "metadata": {},
     "output_type": "execute_result"
    }
   ],
   "source": [
    "# show only the words that have a positive impacts on likes\n",
    "lasso.feature_names_in_[np.argsort(lasso.coef_)[::-1]][:10]"
   ]
  },
  {
   "cell_type": "code",
   "execution_count": 402,
   "id": "2bb751d1",
   "metadata": {},
   "outputs": [
    {
     "data": {
      "text/plain": [
       "array([0.01556893, 0.01349436, 0.01250042, 0.01213317, 0.01203552,\n",
       "       0.01086657, 0.01080067, 0.0102316 , 0.01011844, 0.00985242])"
      ]
     },
     "execution_count": 402,
     "metadata": {},
     "output_type": "execute_result"
    }
   ],
   "source": [
    "# their coefficients\n",
    "lasso.coef_[np.argsort(lasso.coef_)[::-1]][:10]"
   ]
  },
  {
   "cell_type": "code",
   "execution_count": 403,
   "id": "6c9d1422",
   "metadata": {},
   "outputs": [
    {
     "data": {
      "text/plain": [
       "\" 'Makeup details; Bobbi brown stick foundation, Mac mineralize concealer @stila dark bronzer @eldorafalseeyelashes H160 @urbandecaycosmetics Naked palette, brow kit @urbandecaycosmetics in cappuccino  #makeup #vegas_nay #urbandecay #bb #maccosmetics #mua #motd #sunkissed #bronzed #lookamillion #zukreat #hudabeauty'}}]\""
      ]
     },
     "execution_count": 403,
     "metadata": {},
     "output_type": "execute_result"
    }
   ],
   "source": [
    "contour = df1[\"caption\"].loc[df1[\"caption\"].str.contains(\" concealer \") & ~df1[\"caption\"].isnull()]\n",
    "contour.iloc[0]"
   ]
  },
  {
   "cell_type": "code",
   "execution_count": 404,
   "id": "a514a4bf",
   "metadata": {
    "scrolled": true
   },
   "outputs": [
    {
     "data": {
      "text/plain": [
       "\" 'Benvenuto Ottobre 🍂 ora per me scatta la fissa labbra scure! 👄💄\\\\nOggi ho utilizzato:\\\\nVISO:\\\\nCorrettore Radiand Creamy concealer @narsissist \\\\nBB Cream Magic Girl @baviphat\\\\nFissato il tutto con il Naked Skin @urbandecaycosmetics \\\\nBlush: Belle @mulaccosmetics \\\\nOCCHI:\\\\nRoyal @mulac Cosmetics\\\\nMascara super curler 24H @rimmellondonuk Matita All nighter Eyeliner @urbandecay\\\\n\\\\nLABBRA:\\\\nRossetto No-transfer 04 @sephoraitalia \\\\nLuxe Velvet Lip @muacosmetics'}}]\""
      ]
     },
     "execution_count": 404,
     "metadata": {},
     "output_type": "execute_result"
    }
   ],
   "source": [
    "contour.iloc[3]"
   ]
  },
  {
   "cell_type": "code",
   "execution_count": 405,
   "id": "bbe3fa59",
   "metadata": {},
   "outputs": [],
   "source": [
    "index = np.where(ada_clf.feature_importances_ != 0)"
   ]
  },
  {
   "cell_type": "code",
   "execution_count": 406,
   "id": "f3c3b3ce",
   "metadata": {
    "scrolled": true
   },
   "outputs": [
    {
     "data": {
      "image/png": "[encoded data removed]",
      "text/plain": [
       "<Figure size 432x288 with 1 Axes>"
      ]
     },
     "metadata": {
      "needs_background": "light"
     },
     "output_type": "display_data"
    }
   ],
   "source": [
    "# The higher, the more important the feature. \n",
    "# The importance of a feature is computed as the (normalized) \n",
    "# total reduction of the criterion (squared error) brought by that feature. \n",
    "mse_decrease = ada_clf.feature_importances_[index][np.argsort(ada_clf.feature_importances_[index])[::-1]][:10]\n",
    "forest_importances = pd.Series(mse_decrease, index=ada_clf.feature_names_in_[index][np.argsort(ada_clf.feature_importances_[index])[::-1]][:10])\n",
    "\n",
    "fig, ax = plt.subplots()\n",
    "forest_importances.plot.bar(ax=ax)\n",
    "ax.set_title(\"Feature importances in AdaBoost\")\n",
    "ax.set_ylabel(\"Mean decrease in squared error\")\n",
    "fig.tight_layout()\n"
   ]
  },
  {
   "cell_type": "markdown",
   "id": "354e40ba",
   "metadata": {},
   "source": [
    "Feature importance is calculated in regression trees based on the total reduction of a criterion (squared error) brought by that feature. It does not imply that a particular feature is positively or negatively correlated with the dependent variable, but only the significance it has on producing meaningful results. It is also hard to infer anything statistically significant from the LASSO coefficients because of the high MAPE, but we can still learn about certain words by comparing the two models.  \n",
    "\n",
    "Through the LASSO coefficients and AdaBoost feature importance, a couple words standout in particular such as \"code\", \"link\", \"gifted\", and \"ad\". These are all common terms that influencers use when they want to capture the attention of the audience by either selling them discounted products with their affiliate code or giveaway free items if the user satisfies certain conditions that are set by the influencer (usually includes liking and sharing the post which helps the influencer gain more traction). These tend to work well with the instagram audience which is why sponsors are always looking for new influencers to help them promote their products via this method. Even the word \"profile\" is often commonly used in captions to have the audience click on a specific link to purchase something, or look at a specific information in the bio such as their unique discount code. \n",
    "\n",
    "If we can compare the words between LASSO and AdaBoost, we see that the two overlapping words are \"code\", \"use\" and \"outfit\" which clearly shows the importance of discounts when promoting items for brands. These affiliate codes and links seem to draw people into whatever content the influencer is posting especially topics related to fashion, makeup, or dressing up. "
   ]
  },
  {
   "cell_type": "code",
   "execution_count": 419,
   "id": "ac445123",
   "metadata": {},
   "outputs": [],
   "source": [
    "#look at some captions with the top words\n",
    "codes = df1[\"caption\"].loc[df1[\"caption\"].str.contains(\" code \") & ~df1[\"caption\"].isnull()]\n",
    "repost = df1[\"caption\"].loc[df1[\"caption\"].str.contains(\" repost \") & ~df1[\"caption\"].isnull()]\n",
    "outfit = df1[\"caption\"].loc[df1[\"caption\"].str.contains(\" outfit \") & ~df1[\"caption\"].isnull()]"
   ]
  },
  {
   "cell_type": "code",
   "execution_count": 420,
   "id": "9e4465ac",
   "metadata": {},
   "outputs": [
    {
     "data": {
      "text/plain": [
       "\" 'incredibly excited to announce my partnership with @rocksbox this summer! start your summer off right and use promo code gracearagonxoxo to get 1 month free and enjoy your own beautiful, designer jewelry! #RBItGirl #Rocksbox'}}]\""
      ]
     },
     "execution_count": 420,
     "metadata": {},
     "output_type": "execute_result"
    }
   ],
   "source": [
    "codes.iloc[0]"
   ]
  },
  {
   "cell_type": "code",
   "execution_count": 421,
   "id": "9676d8b6",
   "metadata": {},
   "outputs": [
    {
     "data": {
      "text/plain": [
       "' \"If you are looking for baby food storage trays, you must check out the silicone baby food freezer trays by @kiddofeedo.\\\\n\\\\nHere are just some of the highlights: -------------------------------------\\\\nEach cube holds 2.6oz which is more than double than a regular ice cube tray.  That means that one full Freezer Tray can hold over 20oz of food! -------------------------------------\\\\nThe lid is also made of silicone with 8 little flaps that wrap around the edge of the tray. It being made of silicone means the lid is easy to clip-on and remove but the coolest part is that you can label the lid with food and dates with any ball point pen and it will easily wash off! ---------------------------------------------Most importantly, the trays are BPA, Phthalates and toxins free so it is super safe for baby.\\\\n\\\\nKiddo Feedo has created a promo code especially for @babyprepsundays followers which means you can now get 10% off when you purchase any color Kiddo Feedo Freezer Tray on Amazon.com. Use promo code ISGRAM10 at checkout - but hurry up, it\\'s only good through June 12th!\\\\n\\\\nAlso if you’re in Europe, you’re in luck as Kiddo Feedo have just launched on Amazon U.K and Germany and is currently running a promo there as well giving their followers 20% off any color Freezer Tray. Promo Code for Amazon UK and Germany is EUROPE20. Also good through June 12th!\"}}]'"
      ]
     },
     "execution_count": 421,
     "metadata": {},
     "output_type": "execute_result"
    }
   ],
   "source": [
    "codes.iloc[1]"
   ]
  },
  {
   "cell_type": "code",
   "execution_count": 422,
   "id": "fd84d3ad",
   "metadata": {},
   "outputs": [
    {
     "data": {
      "text/plain": [
       "\" 'I was running through the six with my woes.\\\\n\\\\nThe lovely ladies of Nike+NYC || repost from @nikenyc\\\\n\\\\n#NikeNYC #WeRunNYC #WeRunTO #BetterForIt #NikeToronto #NRC'}}]\""
      ]
     },
     "execution_count": 422,
     "metadata": {},
     "output_type": "execute_result"
    }
   ],
   "source": [
    "repost.iloc[0]"
   ]
  },
  {
   "cell_type": "code",
   "execution_count": 423,
   "id": "db80cb97",
   "metadata": {},
   "outputs": [
    {
     "data": {
      "text/plain": [
       "\" 'Need 2 Akshay Kumar die hard fans for singh is bling special episode on my show the battle of the fan clubs to be shot on Wednesday in mumbai ...comment or dm me ..akki fans u May get a surprise if u get selected :) @livyourfame @akshaykumar @akshaykumarfb @akshaykumarfc @akshaykumarint @akshaykumarofficials @akshaykumarworld @akshaykumarteam @akshaykumar_fc repost \\\\n#akshaykumar #fans #akki #khiladi #kumar #singhisbling #sib #fame #livyourfame #fame #show #host #deepakkalra #bollywood #actor #anchor #superstar #famespecial #singh #bling #week'}}]\""
      ]
     },
     "execution_count": 423,
     "metadata": {},
     "output_type": "execute_result"
    }
   ],
   "source": [
    "repost.iloc[1]"
   ]
  },
  {
   "cell_type": "code",
   "execution_count": 424,
   "id": "0baa5715",
   "metadata": {},
   "outputs": [
    {
     "data": {
      "text/plain": [
       "\" 'Nice outfit for festival season created by me ! Crop top from @motelrocks , skirt from @topshop , shoes from @simplybeuk , bag from @chloe & sunglasses from @thehut_com #copyright #summer #look #fashion #skirt #topshop #sunglasses #gladiator #shoes #festivals #season #spring #hippie #style #loveit #byme'}}]\""
      ]
     },
     "execution_count": 424,
     "metadata": {},
     "output_type": "execute_result"
    }
   ],
   "source": [
    "outfit.iloc[0]"
   ]
  },
  {
   "cell_type": "code",
   "execution_count": 425,
   "id": "96044258",
   "metadata": {},
   "outputs": [
    {
     "data": {
      "text/plain": [
       "\" 'Looking for the right outfit for sunny days and long summer nights? Check out why Maxi Skirts and Lace Up Sandals are my favorite summer pieces. ➡️ herpistolgo.com 📷 @dannylavega // @zerouv #herpistolgo #zerouv #sunnies #sunglasses #maxiskirt #croptop #laceup #sandals #laceupsandals #leathersandals #summer #outfit #summeroutfit #streetstyle #fashionblogger #fashionblogger_at #austrianblogger #blogger #igersvienna #bjorg #jewellery #thomassabo #fossil'}}]\""
      ]
     },
     "execution_count": 425,
     "metadata": {},
     "output_type": "execute_result"
    }
   ],
   "source": [
    "outfit.iloc[1]"
   ]
  },
  {
   "cell_type": "markdown",
   "id": "5a6e12a1",
   "metadata": {},
   "source": [
    "# Error Inspection"
   ]
  },
  {
   "cell_type": "markdown",
   "id": "9006f3b2",
   "metadata": {},
   "source": [
    "It seems like there are a lot of captions that don't contain the popular terms in our model, but still has lots of likes. We may need some other NLP models to help us in the future. "
   ]
  },
  {
   "cell_type": "code",
   "execution_count": 411,
   "id": "068f0552",
   "metadata": {},
   "outputs": [
    {
     "data": {
      "text/plain": [
       "\" 'So this may not have been the best idea🤔😳🤣\\\\n.\\\\nAaron and I recently found this adorable mini upholstered rocking chair (so similar to mommy’s @potterybarn rocking chair in GanMan’s room) for a screamin’ deal we just couldn’t pass up! We got it for Gannon thinking “this can be one of his birthday gifts,” but of course that turned into “eh let’s just give it to him now.” And well, he LOVES it.... for all the wrong reasons.\\\\n.\\\\nHe’s become a professional at using his chair to climb up onto the couch. And once he reaches his destination— he’s a tornado!🌪 Joyfully bouncing from couch cushion to couch cushion chewing on mom’s breast pump tubes and stealing the remote to push every. single. button. Dumping each pile of folded laundry in his path🧦👚👖👕 He’s pure destruction, and totally giddy about it.\\\\n.\\\\nSo of course I move his chair away from the couch in hopes to eliminate the problem. But did we eliminate the problem? More like traded that problem for another. Gannon decided it could be equally as fun to stand on the chair and aggressively rock as if he’s riding a bucking bronco in the rodeo🏇🏼🤦🏻\\\\u200d♀️ #ICantWin #MomsLittleTornado #BoyMomLife #BoysWillBeBoys\\\\n.\\\\n.\\\\n.\\\\n.\\\\n#GannonBeau #10MonthsOld #MamasBoy #BoyMom #MomLife #MyTinyMoments #TheHappyNow #MotherhoodIsDarling #ThatsDarling #MotherhoodRising #MotherhoodUnplugged #IG_Motherhood #CandidChildhood #ChildhoodUnplugged #DailyParenting #MyNameIsMama #BestOfMom #CameraMama #MomsWithCameras #MomsOfInstagram #HonestMotherhood #LetThemBeLittle #LittleAndBrave #WatchGannonBeauGrow'}}]\""
      ]
     },
     "execution_count": 411,
     "metadata": {},
     "output_type": "execute_result"
    }
   ],
   "source": [
    "#find the y predictions that have the largest errors\n",
    "large_error = np.argsort(np.absolute(lasso_pred - Y_test))\n",
    "original_data = Y_index[large_error]\n",
    "jsons = pd.DataFrame(df1_sampled[\"json_id\"][original_data])\n",
    "\n",
    "#below are the captions of some of the highest prediction error\n",
    "captions = jsons.merge(df1[[\"json_id\", \"caption\"]], how = \"inner\")[\"caption\"]\n",
    "captions.iloc[0]"
   ]
  },
  {
   "cell_type": "code",
   "execution_count": 412,
   "id": "1dc860f1",
   "metadata": {},
   "outputs": [
    {
     "data": {
      "text/plain": [
       "\" 'Look back at it 🍑 Watch my stories for a full cheek check in my @fabletics  leggings. \\\\nLink in bio to try them out for yourself for 2 for $24 ✌🏼#myfabletics #fableticsambassador'}}]\""
      ]
     },
     "execution_count": 412,
     "metadata": {},
     "output_type": "execute_result"
    }
   ],
   "source": [
    "captions.iloc[1]"
   ]
  },
  {
   "cell_type": "code",
   "execution_count": 413,
   "id": "a06593f1",
   "metadata": {},
   "outputs": [
    {
     "data": {
      "text/plain": [
       "\" '♋️\\\\nLips/labial @jouercosmetics – Tawny Rose\\\\nHighlight/iluminador @beccacosmetics – opal\\\\nLashes/Pestanas @ardellbeauty 814 Fauxmink\\\\nEyeliner/Delineador - @rimmellondon  exagerate liner\\\\nBrows/Cejas @anastasiabeverlyhills brow definer medium brown\\\\nConcealer/corrector @maccosmetics prolongerwear NC25\\\\nBlush/rubor @bareminerals peachy keen\\\\nPalette/paleta @peronsacosmetics #identitypalette\\\\nFoundation/base @esteelauder #doublewear cashew\\\\n___________________________________________________\\\\n#maccosmetics #jouercosmetics #beccacosmetics #beccahighlighter #anastasiabeverlyhills #abh #anastasiabrows #ardellbeauty #bareminerals #personacosmetics #wakeupandmakeup #fashionblogger #makeup #motd #ootd #f21xme #fauxfur #bellamihair #bellami #gobare #makeupjunkie #teambellami #bellamihairproi #jouer #esteestories #esteelauder #esteelauderdoublewear #abhbrows'}}]\""
      ]
     },
     "execution_count": 413,
     "metadata": {},
     "output_type": "execute_result"
    }
   ],
   "source": [
    "captions.iloc[2]"
   ]
  },
  {
   "cell_type": "code",
   "execution_count": 414,
   "id": "165dc7b0",
   "metadata": {},
   "outputs": [
    {
     "data": {
      "text/plain": [
       "\" 'Finally got around to doing a massive overhaul on one of my family’s very favorite recipes.\\\\n. \\\\nThis Spicy Turkey Three-Bean Chili has a great blend of spices that is guaranteed to warm you up on a cold day like today.\\\\n. \\\\nI’ve revamped the post with tips for what types of beans to use, different types of meat that work well if you aren’t feeling like turkey, and our favorite tasty toppings. . \\\\nIf you don’t like your chili really fiery, no worries! I have tips for making a milder chili in there as well. . \\\\nBonus points if you love dipping cornbread in your chili like I do!\\\\n.\\\\nGet my recipe for Spicy Turkey Three-Bean Chili by clicking the link in my profile or heading to: https://bigflavorstinykitchen.com/spicy-turkey-three-bean-chili/\\\\n.\\\\n#chili #comfortfood #spicyfood #turkey #spicy\\\\n.\\\\n.\\\\n.\\\\n.\\\\n.\\\\n#beautifulcuisines #buzzfeast #cooking #devourpower #droolclub #eastcoastfoodie #eatingfortheinsta #f52grams #feedfeed @thefeedfeed #foodblogfeed #foodblogger #foodgasm #foodiechats #foodphotography #foodstagram #tailgating #huffposttaste #gloobyfood #recipeoftheday #instayum #satisfeed #tastemade #tastespotting #thedailybite #TODAYfood'}}]\""
      ]
     },
     "execution_count": 414,
     "metadata": {},
     "output_type": "execute_result"
    }
   ],
   "source": [
    "captions.iloc[3]"
   ]
  },
  {
   "cell_type": "code",
   "execution_count": 415,
   "id": "1008f70b",
   "metadata": {},
   "outputs": [
    {
     "data": {
      "text/plain": [
       "\" 'Mood alpino 🐿🎀 @asos @zara .\\\\n.\\\\n.\\\\n.\\\\n.\\\\n.\\\\n.\\\\n.\\\\n.\\\\n.\\\\n.\\\\n.\\\\n.\\\\n.\\\\n#alpedisiusi #seiseralm #asos #zara #rayban #trentinoaltoadige #trentino #trentinodavivere #hotel'}}]\""
      ]
     },
     "execution_count": 415,
     "metadata": {},
     "output_type": "execute_result"
    }
   ],
   "source": [
    "captions.iloc[4]"
   ]
  },
  {
   "cell_type": "markdown",
   "id": "13e5e6a1",
   "metadata": {},
   "source": [
    "# Conclusion"
   ]
  },
  {
   "cell_type": "markdown",
   "id": "c35be926",
   "metadata": {},
   "source": [
    "In summary, we have used NLP analysis of a huge dataset of captions as a feature in predicting popularity of influencers. Certain words increase the popularity of the post and provide more traction to the influencer while other contents could prove to be detrimental. \n",
    "\n",
    "For future work and given more resources for processing huge datasets, it will be insightful to also analyze the contents of comments elicited as a possible predictor (or indicator) of popularity. The TF-IDF scores on the captions have shown to be somewhat lackluster in terms of prediction strength due to the small number of text in each document. It seems that even though certain words are more powerful than others, it doesn't translate directly into more or less likes. However, it has helped explain some of the most prominent words used on Instagram. More NLP models should be considered in the future especially those that can provide semantic understanding of text.\n",
    "\n",
    "Given the scarcity of Instagram-trained models for captions or comments, I also believe that it will be helpful to contribute to the field by creating our own instagram-trained model and compare to other existing Twitter or general purpose models, so that more businesses and social media users can benefit from our research.\n"
   ]
  }
 ],
 "metadata": {
  "kernelspec": {
   "display_name": "Python 3 (ipykernel)",
   "language": "python",
   "name": "python3"
  },
  "language_info": {
   "codemirror_mode": {
    "name": "ipython",
    "version": 3
   },
   "file_extension": ".py",
   "mimetype": "text/x-python",
   "name": "python",
   "nbconvert_exporter": "python",
   "pygments_lexer": "ipython3",
   "version": "3.9.12"
  }
 },
 "nbformat": 4,
 "nbformat_minor": 5
}
