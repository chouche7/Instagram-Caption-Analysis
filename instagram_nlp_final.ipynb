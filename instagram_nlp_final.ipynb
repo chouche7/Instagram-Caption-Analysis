{
 "cells": [
  {
   "cell_type": "markdown",
   "id": "325b4885",
   "metadata": {},
   "source": [
    "# Background\n"
   ]
  },
  {
   "cell_type": "markdown",
   "id": "4260136c",
   "metadata": {},
   "source": [
    "\n",
    "Technology has democratized advertising in our society, with influencer marketing emerging as a mainstream form of online marketing. Brands collaborate with popular online influencers to market products or services in order to improve brand recognition among target audiences. Unlike celebrities, influencers in social media can be anyone who has built a reputation for their knowledge and expertise on a specific topic. They are influential due to their large followings on the web which brands take advantage of because they can create trends and encourage their followers to buy products they promote. Influencers have the potential to affect the purchasing decisions of others because of their authority, knowledge, position, or relationship with their audience. \n",
    "\n",
    "Despite the results that can be gained through influencer marketing, researching and finding the right influencers is not an easy process. To achieve results and effectively engage the right audience, brands need to identify individuals who can act as genuine brand ambassadors and bring consumers on board with the products and services. Selecting an influencer that fits the brand can help to achieve the engagement and traffic desired. Simply looking at online profiles with the most followers might not satisfy a particular niche for the brands which is why they often spend considerable time finding the right influencers to achieve a good engagement rate with a targeted audience. Determining how different influencers generate traction and engagement rate is important, so that brands can allocate their budget more effectively when looking to sponsor. Thus, the main objective for this project is to examine how information on Instagram posts (captions, comments, sponsorship) and the influencer (category, bio, followers, followees) can be used to determine how popular a post will be. In particular, I also believe that the content of captions accompanying Instagram posts provide important context and are thus important in eliciting likes and shares.\n"
   ]
  },
  {
   "cell_type": "markdown",
   "id": "6b816360",
   "metadata": {},
   "source": [
    "# Dataset Source"
   ]
  },
  {
   "cell_type": "markdown",
   "id": "a2d56a77",
   "metadata": {},
   "source": [
    "The data we are using is collected from Instagram by Seungbae Kim, an assistant professor at University of South Florida for research purposes and was obtained with his consent (Kim et al., 2021):\n",
    "https://sites.google.com/site/sbkimcv/dataset\n",
    "\n",
    "This dataset contains information about influencer posts that have association with different brands. There are approximately 1.6 million Instagram posts, 26,910 brand names, and 38,113 different unique influencers in our dataset (Kim et al., 2021). The posts are specifically split into two types of categories: sponsored brand mentions and non-sponsored brand mentions. A sponsored post is one where the influencer gets paid for advertising and mentioning the name of the brand. "
   ]
  },
  {
   "cell_type": "markdown",
   "id": "7f09c793",
   "metadata": {},
   "source": [
    "# Text Preprocessing"
   ]
  },
  {
   "cell_type": "markdown",
   "id": "83504a88",
   "metadata": {},
   "source": [
    "The original raw data files given to us by Professor Kim comprise multiple JSON and text files. Due to the size of the data, we had to manually extract the information from each file in order to clean, process and merge it all into one big dataset for analysis.\n",
    "\n",
    "There are approximately 12 GB (3 GB when in zipped format) worth of JSON files containing specific profile and post information. The 1,601,074 JSON files are structured such that each file contains information on 1 profile. Since the number of fields available in each JSON file is not consistent, we extracted relevant fields from the approximately 1.6 million files and compiled them into a single dataset. During this process of compiling the JSON files, we also unpacked the objects within the JSON files and cleaned the dataset. \n",
    "\n",
    "For instance, the captions and comments were packed into dictionaries and required unpacking. Notably, the text in the captions or comments were not analyzed in the original paper by the author (Kim et al., 2021). However, the nature of the content can possibly add a useful dimension to the dataset. Thus, we decided to take up the challenge of doing NLP processing of this huge Instagram dataset.\n",
    "\n",
    "Because we were interested in predicting popular influencers and not the content of comments elicited and also because of the constraint of resources and time, we decided to use only the captions as a feature to predict popularity. Caption content is relevant because it adds to the information of a post’s picture and can elicit strong responses, sharing by viewers and lend context to the post. In addition, only a subset of the JSON posts had comments, thus we decided to focus on the captions.\n"
   ]
  },
  {
   "cell_type": "code",
   "execution_count": 1,
   "id": "85545f61",
   "metadata": {},
   "outputs": [],
   "source": [
    "# import necessary libraries\n",
    "import nltk\n",
    "from nltk.corpus import stopwords\n",
    "import os\n",
    "import string\n",
    "import pandas as pd\n",
    "import numpy as np\n",
    "import zipfile\n",
    "import io\n",
    "import re\n",
    "from textblob import Word\n",
    "import math\n",
    "#from textblob import TextBlob\n",
    "#from langdetect import detect\n",
    "import matplotlib.pyplot as plt\n",
    "import langid\n",
    "from sklearn.feature_extraction.text import CountVectorizer\n",
    "from sklearn.feature_extraction.text import TfidfTransformer\n",
    "from sklearn.feature_extraction.text import TfidfVectorizer\n",
    "from sklearn.linear_model import LinearRegression, LassoCV, ElasticNetCV\n",
    "from sklearn.preprocessing import OneHotEncoder\n",
    "from sklearn.model_selection import train_test_split\n",
    "from sklearn.model_selection import KFold\n",
    "from sklearn.model_selection import cross_val_score\n",
    "from sklearn.metrics import r2_score, mean_squared_error\n",
    "from sklearn import tree\n",
    "from sklearn.model_selection import GridSearchCV\n",
    "from nltk.stem import *\n",
    "import statsmodels.api as sm\n",
    "import scipy.stats as stats\n",
    "from sklearn.ensemble import AdaBoostRegressor"
   ]
  },
  {
   "cell_type": "code",
   "execution_count": 2,
   "id": "8e327224",
   "metadata": {},
   "outputs": [
    {
     "name": "stderr",
     "output_type": "stream",
     "text": [
      "[nltk_data] Downloading package stopwords to\n",
      "[nltk_data]     /Users/chouche7/nltk_data...\n",
      "[nltk_data]   Package stopwords is already up-to-date!\n",
      "[nltk_data] Downloading package wordnet to\n",
      "[nltk_data]     /Users/chouche7/nltk_data...\n",
      "[nltk_data]   Package wordnet is already up-to-date!\n",
      "[nltk_data] Downloading package words to /Users/chouche7/nltk_data...\n",
      "[nltk_data]   Package words is already up-to-date!\n",
      "[nltk_data] Downloading package omw-1.4 to\n",
      "[nltk_data]     /Users/chouche7/nltk_data...\n",
      "[nltk_data]   Package omw-1.4 is already up-to-date!\n"
     ]
    },
    {
     "data": {
      "text/plain": [
       "True"
      ]
     },
     "execution_count": 2,
     "metadata": {},
     "output_type": "execute_result"
    }
   ],
   "source": [
    "#download stopwords for text analysis later on\n",
    "nltk.download('stopwords')\n",
    "nltk.download('wordnet')\n",
    "nltk.download('words')\n",
    "nltk.download('omw-1.4')"
   ]
  },
  {
   "cell_type": "markdown",
   "id": "c4429cb1",
   "metadata": {},
   "source": [
    "### Functions for cleaning text"
   ]
  },
  {
   "cell_type": "code",
   "execution_count": 3,
   "id": "fc966bd5",
   "metadata": {},
   "outputs": [],
   "source": [
    "# create function for punctuation removal:\n",
    "def remove_punctuations(text):\n",
    "    for char in string.punctuation:\n",
    "        text = text.replace(char, '')\n",
    "    return text\n",
    "\n",
    "# create function for contraction removal:\n",
    "def contractions(s):\n",
    "    s = re.sub(r\"won’t\", \"will not\",s)\n",
    "    s = re.sub(r\"would’t\", \"would not\",s)\n",
    "    s = re.sub(r\"could’t\", \"could not\",s)\n",
    "    s = re.sub(r\"\\’d\", \" would\",s)\n",
    "    s = re.sub(r\"can\\’t\", \"can not\",s)\n",
    "    s = re.sub(r\"n\\’t\", \" not\", s)\n",
    "    s = re.sub(r\"\\’re\", \" are\", s)\n",
    "    s = re.sub(r\"\\’s\", \" is\", s)\n",
    "    s = re.sub(r\"\\’ll\", \" will\", s)\n",
    "    s = re.sub(r\"\\’t\", \" not\", s)\n",
    "    s = re.sub(r\"\\’ve\", \" have\", s)\n",
    "    s = re.sub(r\"\\’m\", \" am\", s)\n",
    "    return s"
   ]
  },
  {
   "cell_type": "markdown",
   "id": "47ceca6d",
   "metadata": {},
   "source": [
    "### Load influencer profile data from multiple sources"
   ]
  },
  {
   "cell_type": "code",
   "execution_count": 4,
   "id": "20e26ba8",
   "metadata": {},
   "outputs": [],
   "source": [
    "#read our data on instagram posts\n",
    "with open('project_data/post_info.txt') as f:\n",
    "    lines = f.readlines()"
   ]
  },
  {
   "cell_type": "code",
   "execution_count": 5,
   "id": "20d599da",
   "metadata": {},
   "outputs": [
    {
     "data": {
      "text/html": [
       "<div>\n",
       "<style scoped>\n",
       "    .dataframe tbody tr th:only-of-type {\n",
       "        vertical-align: middle;\n",
       "    }\n",
       "\n",
       "    .dataframe tbody tr th {\n",
       "        vertical-align: top;\n",
       "    }\n",
       "\n",
       "    .dataframe thead th {\n",
       "        text-align: right;\n",
       "    }\n",
       "</style>\n",
       "<table border=\"1\" class=\"dataframe\">\n",
       "  <thead>\n",
       "    <tr style=\"text-align: right;\">\n",
       "      <th></th>\n",
       "      <th>post_id</th>\n",
       "      <th>username</th>\n",
       "      <th>sponsored</th>\n",
       "      <th>json_id</th>\n",
       "    </tr>\n",
       "  </thead>\n",
       "  <tbody>\n",
       "    <tr>\n",
       "      <th>0</th>\n",
       "      <td>0</td>\n",
       "      <td>alisasia</td>\n",
       "      <td>1</td>\n",
       "      <td>1309041812857818435</td>\n",
       "    </tr>\n",
       "    <tr>\n",
       "      <th>1</th>\n",
       "      <td>1</td>\n",
       "      <td>alisasia</td>\n",
       "      <td>0</td>\n",
       "      <td>1311846669234786866</td>\n",
       "    </tr>\n",
       "    <tr>\n",
       "      <th>2</th>\n",
       "      <td>2</td>\n",
       "      <td>alisasia</td>\n",
       "      <td>0</td>\n",
       "      <td>1315560311952470229</td>\n",
       "    </tr>\n",
       "    <tr>\n",
       "      <th>3</th>\n",
       "      <td>3</td>\n",
       "      <td>alisasia</td>\n",
       "      <td>0</td>\n",
       "      <td>1318531733175899446</td>\n",
       "    </tr>\n",
       "    <tr>\n",
       "      <th>4</th>\n",
       "      <td>4</td>\n",
       "      <td>alisasia</td>\n",
       "      <td>0</td>\n",
       "      <td>1343280729400051114</td>\n",
       "    </tr>\n",
       "  </tbody>\n",
       "</table>\n",
       "</div>"
      ],
      "text/plain": [
       "  post_id  username sponsored              json_id\n",
       "0       0  alisasia         1  1309041812857818435\n",
       "1       1  alisasia         0  1311846669234786866\n",
       "2       2  alisasia         0  1315560311952470229\n",
       "3       3  alisasia         0  1318531733175899446\n",
       "4       4  alisasia         0  1343280729400051114"
      ]
     },
     "execution_count": 5,
     "metadata": {},
     "output_type": "execute_result"
    }
   ],
   "source": [
    "data  = [x.split(\"\\t\") for x in lines]\n",
    "\n",
    "post_df = pd.DataFrame(data, columns = [\"post_id\", \"username\", \"sponsored\", \"json_id\", \"jpg_file\"])\n",
    "post_df = post_df[[\"post_id\", \"username\", \"sponsored\", \"json_id\"]]\n",
    "\n",
    "post_df[\"json_id\"] = post_df[\"json_id\"].replace(r'.json','', regex=True) \n",
    "post_df.head()"
   ]
  },
  {
   "cell_type": "code",
   "execution_count": 6,
   "id": "c2ef047b",
   "metadata": {},
   "outputs": [],
   "source": [
    "#read our data on influencers in a zip file\n",
    "myzipfile= zipfile.ZipFile('project_data/profiles_influencers.zip')\n",
    "influ_files = myzipfile.namelist()[1:]"
   ]
  },
  {
   "cell_type": "code",
   "execution_count": 7,
   "id": "cfdb2e36",
   "metadata": {},
   "outputs": [
    {
     "data": {
      "text/html": [
       "<div>\n",
       "<style scoped>\n",
       "    .dataframe tbody tr th:only-of-type {\n",
       "        vertical-align: middle;\n",
       "    }\n",
       "\n",
       "    .dataframe tbody tr th {\n",
       "        vertical-align: top;\n",
       "    }\n",
       "\n",
       "    .dataframe thead th {\n",
       "        text-align: right;\n",
       "    }\n",
       "</style>\n",
       "<table border=\"1\" class=\"dataframe\">\n",
       "  <thead>\n",
       "    <tr style=\"text-align: right;\">\n",
       "      <th></th>\n",
       "      <th>username</th>\n",
       "      <th>name</th>\n",
       "      <th>followers</th>\n",
       "      <th>followees</th>\n",
       "      <th>posts</th>\n",
       "      <th>url</th>\n",
       "      <th>category</th>\n",
       "      <th>bio</th>\n",
       "    </tr>\n",
       "  </thead>\n",
       "  <tbody>\n",
       "    <tr>\n",
       "      <th>0</th>\n",
       "      <td>fodmap_friendly_eating</td>\n",
       "      <td>FODMAP Friendly Eating</td>\n",
       "      <td>11299</td>\n",
       "      <td>2609</td>\n",
       "      <td>549</td>\n",
       "      <td>https://fodmapfriendlyeating.wordpress.com/</td>\n",
       "      <td>Creators &amp; Celebrities</td>\n",
       "      <td>Delicious FODMAP Friendly recipes from @antoni...</td>\n",
       "    </tr>\n",
       "    <tr>\n",
       "      <th>1</th>\n",
       "      <td>paileaa</td>\n",
       "      <td>paige leanne</td>\n",
       "      <td>12615</td>\n",
       "      <td>1207</td>\n",
       "      <td>1386</td>\n",
       "      <td>https://paileaa.com/2018/10/08/that-last-bit-o...</td>\n",
       "      <td>Creators &amp; Celebrities</td>\n",
       "      <td>London | positive vibes &amp; good times  p.goodes...</td>\n",
       "    </tr>\n",
       "    <tr>\n",
       "      <th>2</th>\n",
       "      <td>a12team</td>\n",
       "      <td>A12 Team</td>\n",
       "      <td>1319</td>\n",
       "      <td>861</td>\n",
       "      <td>405</td>\n",
       "      <td>http://www.a12.com.pl/</td>\n",
       "      <td>Food &amp; Personal Goods</td>\n",
       "      <td>Photography &amp; Production services  📩 info@a12....</td>\n",
       "    </tr>\n",
       "    <tr>\n",
       "      <th>3</th>\n",
       "      <td>ilbulgaro89</td>\n",
       "      <td>Andrea Paesetti</td>\n",
       "      <td>1547</td>\n",
       "      <td>909</td>\n",
       "      <td>1250</td>\n",
       "      <td>http://youtube.com/c/SpazioiTechItalia</td>\n",
       "      <td>Creators &amp; Celebrities</td>\n",
       "      <td>Italian -- #Technology addicted -- Editor &amp; Re...</td>\n",
       "    </tr>\n",
       "    <tr>\n",
       "      <th>4</th>\n",
       "      <td>joililikoi</td>\n",
       "      <td>Joie Lee Ruggiero</td>\n",
       "      <td>7427</td>\n",
       "      <td>1836</td>\n",
       "      <td>908</td>\n",
       "      <td>http://wearehaumea.com/retreats</td>\n",
       "      <td>NULL</td>\n",
       "      <td>HI / LA  |  I seek to inspire and be inspired ...</td>\n",
       "    </tr>\n",
       "  </tbody>\n",
       "</table>\n",
       "</div>"
      ],
      "text/plain": [
       "                 username                    name followers followees posts  \\\n",
       "0  fodmap_friendly_eating  FODMAP Friendly Eating     11299      2609   549   \n",
       "1                 paileaa            paige leanne     12615      1207  1386   \n",
       "2                 a12team                A12 Team      1319       861   405   \n",
       "3             ilbulgaro89         Andrea Paesetti      1547       909  1250   \n",
       "4              joililikoi       Joie Lee Ruggiero      7427      1836   908   \n",
       "\n",
       "                                                 url                category  \\\n",
       "0        https://fodmapfriendlyeating.wordpress.com/  Creators & Celebrities   \n",
       "1  https://paileaa.com/2018/10/08/that-last-bit-o...  Creators & Celebrities   \n",
       "2                             http://www.a12.com.pl/   Food & Personal Goods   \n",
       "3             http://youtube.com/c/SpazioiTechItalia  Creators & Celebrities   \n",
       "4                    http://wearehaumea.com/retreats                    NULL   \n",
       "\n",
       "                                                 bio  \n",
       "0  Delicious FODMAP Friendly recipes from @antoni...  \n",
       "1  London | positive vibes & good times  p.goodes...  \n",
       "2  Photography & Production services  📩 info@a12....  \n",
       "3  Italian -- #Technology addicted -- Editor & Re...  \n",
       "4  HI / LA  |  I seek to inspire and be inspired ...  "
      ]
     },
     "execution_count": 7,
     "metadata": {},
     "output_type": "execute_result"
    }
   ],
   "source": [
    "profile_df = []\n",
    "with zipfile.ZipFile('project_data/profiles_influencers.zip', 'r') as zip:\n",
    "    for file in influ_files:\n",
    "        username = file.split(\"/\")[1]\n",
    "        data = zip.read(file)\n",
    "        data = io.StringIO(data.decode())\n",
    "        data  = [x.split(\"\\t\") for x in data]\n",
    "        data = [col for sublist in data for col in sublist if col != \"\\n\"]\n",
    "        data.insert(0, username)\n",
    "        profile_df.append(pd.DataFrame([data], columns = [\"username\", \"name\", \"followers\", \"followees\", \"posts\", \"url\", \"t/f\", \"category\", \"bio\", \"email\", \"phone\", \"profile_pic\"]))\n",
    "\n",
    "profile_df = pd.concat(profile_df, ignore_index = True)\n",
    "profile_df = profile_df[[\"username\", \"name\", \"followers\", \"followees\", \"posts\", \"url\", \"category\", \"bio\"]]\n",
    "profile_df.head()"
   ]
  },
  {
   "cell_type": "code",
   "execution_count": 8,
   "id": "bca5e9c1",
   "metadata": {},
   "outputs": [
    {
     "data": {
      "text/html": [
       "<div>\n",
       "<style scoped>\n",
       "    .dataframe tbody tr th:only-of-type {\n",
       "        vertical-align: middle;\n",
       "    }\n",
       "\n",
       "    .dataframe tbody tr th {\n",
       "        vertical-align: top;\n",
       "    }\n",
       "\n",
       "    .dataframe thead th {\n",
       "        text-align: right;\n",
       "    }\n",
       "</style>\n",
       "<table border=\"1\" class=\"dataframe\">\n",
       "  <thead>\n",
       "    <tr style=\"text-align: right;\">\n",
       "      <th></th>\n",
       "      <th>sponsored</th>\n",
       "      <th>json_id</th>\n",
       "      <th>followers</th>\n",
       "      <th>followees</th>\n",
       "      <th>category</th>\n",
       "    </tr>\n",
       "  </thead>\n",
       "  <tbody>\n",
       "    <tr>\n",
       "      <th>0</th>\n",
       "      <td>1</td>\n",
       "      <td>1309041812857818435</td>\n",
       "      <td>41099</td>\n",
       "      <td>320</td>\n",
       "      <td>Creators &amp; Celebrities</td>\n",
       "    </tr>\n",
       "    <tr>\n",
       "      <th>1</th>\n",
       "      <td>0</td>\n",
       "      <td>1311846669234786866</td>\n",
       "      <td>41099</td>\n",
       "      <td>320</td>\n",
       "      <td>Creators &amp; Celebrities</td>\n",
       "    </tr>\n",
       "    <tr>\n",
       "      <th>2</th>\n",
       "      <td>0</td>\n",
       "      <td>1315560311952470229</td>\n",
       "      <td>41099</td>\n",
       "      <td>320</td>\n",
       "      <td>Creators &amp; Celebrities</td>\n",
       "    </tr>\n",
       "    <tr>\n",
       "      <th>3</th>\n",
       "      <td>0</td>\n",
       "      <td>1318531733175899446</td>\n",
       "      <td>41099</td>\n",
       "      <td>320</td>\n",
       "      <td>Creators &amp; Celebrities</td>\n",
       "    </tr>\n",
       "    <tr>\n",
       "      <th>4</th>\n",
       "      <td>0</td>\n",
       "      <td>1343280729400051114</td>\n",
       "      <td>41099</td>\n",
       "      <td>320</td>\n",
       "      <td>Creators &amp; Celebrities</td>\n",
       "    </tr>\n",
       "  </tbody>\n",
       "</table>\n",
       "</div>"
      ],
      "text/plain": [
       "  sponsored              json_id followers followees                category\n",
       "0         1  1309041812857818435     41099       320  Creators & Celebrities\n",
       "1         0  1311846669234786866     41099       320  Creators & Celebrities\n",
       "2         0  1315560311952470229     41099       320  Creators & Celebrities\n",
       "3         0  1318531733175899446     41099       320  Creators & Celebrities\n",
       "4         0  1343280729400051114     41099       320  Creators & Celebrities"
      ]
     },
     "execution_count": 8,
     "metadata": {},
     "output_type": "execute_result"
    }
   ],
   "source": [
    "#merge data on post and influencer into one\n",
    "posts_influ_df = pd.merge(post_df, profile_df, on=\"username\")\n",
    "\n",
    "#drop unnecessary columns that won't be used in the model\n",
    "posts_influ_df = posts_influ_df.filter(items=['sponsored', 'json_id', 'followers', \"followees\", 'category'])\n",
    "posts_influ_df.drop_duplicates(subset=['json_id'], inplace = True)\n",
    "posts_influ_df['json_id']=posts_influ_df['json_id'].astype(int)\n",
    "posts_influ_df.head()"
   ]
  },
  {
   "cell_type": "code",
   "execution_count": 9,
   "id": "a603342f",
   "metadata": {},
   "outputs": [
    {
     "data": {
      "text/html": [
       "<div>\n",
       "<style scoped>\n",
       "    .dataframe tbody tr th:only-of-type {\n",
       "        vertical-align: middle;\n",
       "    }\n",
       "\n",
       "    .dataframe tbody tr th {\n",
       "        vertical-align: top;\n",
       "    }\n",
       "\n",
       "    .dataframe thead th {\n",
       "        text-align: right;\n",
       "    }\n",
       "</style>\n",
       "<table border=\"1\" class=\"dataframe\">\n",
       "  <thead>\n",
       "    <tr style=\"text-align: right;\">\n",
       "      <th></th>\n",
       "      <th>sponsored</th>\n",
       "      <th>json_id</th>\n",
       "      <th>followers</th>\n",
       "      <th>followees</th>\n",
       "      <th>category_Auto Dealers</th>\n",
       "      <th>category_Business &amp; Utility Services</th>\n",
       "      <th>category_Content &amp; Apps</th>\n",
       "      <th>category_Creators &amp; Celebrities</th>\n",
       "      <th>category_Entities</th>\n",
       "      <th>category_Food &amp; Personal Goods</th>\n",
       "      <th>...</th>\n",
       "      <th>category_Home Goods Stores</th>\n",
       "      <th>category_Home Services</th>\n",
       "      <th>category_Lifestyle Services</th>\n",
       "      <th>category_Local Events</th>\n",
       "      <th>category_Non-Profits &amp; Religious Organizations</th>\n",
       "      <th>category_Personal Goods &amp; General Merchandise Stores</th>\n",
       "      <th>category_Professional Services</th>\n",
       "      <th>category_Publishers</th>\n",
       "      <th>category_Restaurants</th>\n",
       "      <th>category_Transportation &amp; Accomodation Services</th>\n",
       "    </tr>\n",
       "  </thead>\n",
       "  <tbody>\n",
       "    <tr>\n",
       "      <th>0</th>\n",
       "      <td>1</td>\n",
       "      <td>1309041812857818435</td>\n",
       "      <td>41099</td>\n",
       "      <td>320</td>\n",
       "      <td>0.0</td>\n",
       "      <td>0.0</td>\n",
       "      <td>0.0</td>\n",
       "      <td>1.0</td>\n",
       "      <td>0.0</td>\n",
       "      <td>0.0</td>\n",
       "      <td>...</td>\n",
       "      <td>0.0</td>\n",
       "      <td>0.0</td>\n",
       "      <td>0.0</td>\n",
       "      <td>0.0</td>\n",
       "      <td>0.0</td>\n",
       "      <td>0.0</td>\n",
       "      <td>0.0</td>\n",
       "      <td>0.0</td>\n",
       "      <td>0.0</td>\n",
       "      <td>0.0</td>\n",
       "    </tr>\n",
       "    <tr>\n",
       "      <th>1</th>\n",
       "      <td>0</td>\n",
       "      <td>1311846669234786866</td>\n",
       "      <td>41099</td>\n",
       "      <td>320</td>\n",
       "      <td>0.0</td>\n",
       "      <td>0.0</td>\n",
       "      <td>0.0</td>\n",
       "      <td>1.0</td>\n",
       "      <td>0.0</td>\n",
       "      <td>0.0</td>\n",
       "      <td>...</td>\n",
       "      <td>0.0</td>\n",
       "      <td>0.0</td>\n",
       "      <td>0.0</td>\n",
       "      <td>0.0</td>\n",
       "      <td>0.0</td>\n",
       "      <td>0.0</td>\n",
       "      <td>0.0</td>\n",
       "      <td>0.0</td>\n",
       "      <td>0.0</td>\n",
       "      <td>0.0</td>\n",
       "    </tr>\n",
       "    <tr>\n",
       "      <th>2</th>\n",
       "      <td>0</td>\n",
       "      <td>1315560311952470229</td>\n",
       "      <td>41099</td>\n",
       "      <td>320</td>\n",
       "      <td>0.0</td>\n",
       "      <td>0.0</td>\n",
       "      <td>0.0</td>\n",
       "      <td>1.0</td>\n",
       "      <td>0.0</td>\n",
       "      <td>0.0</td>\n",
       "      <td>...</td>\n",
       "      <td>0.0</td>\n",
       "      <td>0.0</td>\n",
       "      <td>0.0</td>\n",
       "      <td>0.0</td>\n",
       "      <td>0.0</td>\n",
       "      <td>0.0</td>\n",
       "      <td>0.0</td>\n",
       "      <td>0.0</td>\n",
       "      <td>0.0</td>\n",
       "      <td>0.0</td>\n",
       "    </tr>\n",
       "    <tr>\n",
       "      <th>3</th>\n",
       "      <td>0</td>\n",
       "      <td>1318531733175899446</td>\n",
       "      <td>41099</td>\n",
       "      <td>320</td>\n",
       "      <td>0.0</td>\n",
       "      <td>0.0</td>\n",
       "      <td>0.0</td>\n",
       "      <td>1.0</td>\n",
       "      <td>0.0</td>\n",
       "      <td>0.0</td>\n",
       "      <td>...</td>\n",
       "      <td>0.0</td>\n",
       "      <td>0.0</td>\n",
       "      <td>0.0</td>\n",
       "      <td>0.0</td>\n",
       "      <td>0.0</td>\n",
       "      <td>0.0</td>\n",
       "      <td>0.0</td>\n",
       "      <td>0.0</td>\n",
       "      <td>0.0</td>\n",
       "      <td>0.0</td>\n",
       "    </tr>\n",
       "    <tr>\n",
       "      <th>4</th>\n",
       "      <td>0</td>\n",
       "      <td>1343280729400051114</td>\n",
       "      <td>41099</td>\n",
       "      <td>320</td>\n",
       "      <td>0.0</td>\n",
       "      <td>0.0</td>\n",
       "      <td>0.0</td>\n",
       "      <td>1.0</td>\n",
       "      <td>0.0</td>\n",
       "      <td>0.0</td>\n",
       "      <td>...</td>\n",
       "      <td>0.0</td>\n",
       "      <td>0.0</td>\n",
       "      <td>0.0</td>\n",
       "      <td>0.0</td>\n",
       "      <td>0.0</td>\n",
       "      <td>0.0</td>\n",
       "      <td>0.0</td>\n",
       "      <td>0.0</td>\n",
       "      <td>0.0</td>\n",
       "      <td>0.0</td>\n",
       "    </tr>\n",
       "  </tbody>\n",
       "</table>\n",
       "<p>5 rows × 25 columns</p>\n",
       "</div>"
      ],
      "text/plain": [
       "  sponsored              json_id followers followees  category_Auto Dealers  \\\n",
       "0         1  1309041812857818435     41099       320                    0.0   \n",
       "1         0  1311846669234786866     41099       320                    0.0   \n",
       "2         0  1315560311952470229     41099       320                    0.0   \n",
       "3         0  1318531733175899446     41099       320                    0.0   \n",
       "4         0  1343280729400051114     41099       320                    0.0   \n",
       "\n",
       "   category_Business & Utility Services  category_Content & Apps  \\\n",
       "0                                   0.0                      0.0   \n",
       "1                                   0.0                      0.0   \n",
       "2                                   0.0                      0.0   \n",
       "3                                   0.0                      0.0   \n",
       "4                                   0.0                      0.0   \n",
       "\n",
       "   category_Creators & Celebrities  category_Entities  \\\n",
       "0                              1.0                0.0   \n",
       "1                              1.0                0.0   \n",
       "2                              1.0                0.0   \n",
       "3                              1.0                0.0   \n",
       "4                              1.0                0.0   \n",
       "\n",
       "   category_Food & Personal Goods  ...  category_Home Goods Stores  \\\n",
       "0                             0.0  ...                         0.0   \n",
       "1                             0.0  ...                         0.0   \n",
       "2                             0.0  ...                         0.0   \n",
       "3                             0.0  ...                         0.0   \n",
       "4                             0.0  ...                         0.0   \n",
       "\n",
       "   category_Home Services  category_Lifestyle Services  category_Local Events  \\\n",
       "0                     0.0                          0.0                    0.0   \n",
       "1                     0.0                          0.0                    0.0   \n",
       "2                     0.0                          0.0                    0.0   \n",
       "3                     0.0                          0.0                    0.0   \n",
       "4                     0.0                          0.0                    0.0   \n",
       "\n",
       "   category_Non-Profits & Religious Organizations  \\\n",
       "0                                             0.0   \n",
       "1                                             0.0   \n",
       "2                                             0.0   \n",
       "3                                             0.0   \n",
       "4                                             0.0   \n",
       "\n",
       "   category_Personal Goods & General Merchandise Stores  \\\n",
       "0                                                0.0      \n",
       "1                                                0.0      \n",
       "2                                                0.0      \n",
       "3                                                0.0      \n",
       "4                                                0.0      \n",
       "\n",
       "   category_Professional Services  category_Publishers  category_Restaurants  \\\n",
       "0                             0.0                  0.0                   0.0   \n",
       "1                             0.0                  0.0                   0.0   \n",
       "2                             0.0                  0.0                   0.0   \n",
       "3                             0.0                  0.0                   0.0   \n",
       "4                             0.0                  0.0                   0.0   \n",
       "\n",
       "   category_Transportation & Accomodation Services  \n",
       "0                                              0.0  \n",
       "1                                              0.0  \n",
       "2                                              0.0  \n",
       "3                                              0.0  \n",
       "4                                              0.0  \n",
       "\n",
       "[5 rows x 25 columns]"
      ]
     },
     "execution_count": 9,
     "metadata": {},
     "output_type": "execute_result"
    }
   ],
   "source": [
    "# define data\n",
    "posts_influ_df = posts_influ_df.loc[posts_influ_df[\"category\"] != \"NULL\"]\n",
    "categorical = posts_influ_df[[\"category\"]]\n",
    "for col in categorical:    \n",
    "    # define one hot encoding\n",
    "    encoder = OneHotEncoder(sparse=False)\n",
    "    # transform data\n",
    "    cat = np.array(categorical[col]).reshape(-1, 1)\n",
    "    onehot = encoder.fit_transform(cat)\n",
    "    onehot = pd.DataFrame(onehot)\n",
    "    onehot.columns = col + \"_\" + encoder.get_feature_names_out()\n",
    "    onehot.columns = [x.replace(r'_x0','') for x in onehot.columns]\n",
    "    posts_influ_df = pd.concat([posts_influ_df, onehot], axis=1, join='inner')\n",
    "    posts_influ_df = posts_influ_df.loc[:, posts_influ_df.columns != col]\n",
    "posts_influ_df.head()"
   ]
  },
  {
   "cell_type": "markdown",
   "id": "48ded84f",
   "metadata": {},
   "source": [
    "### Load information about posts"
   ]
  },
  {
   "cell_type": "code",
   "execution_count": 10,
   "id": "40ca9ce4",
   "metadata": {},
   "outputs": [
    {
     "data": {
      "text/html": [
       "<div>\n",
       "<style scoped>\n",
       "    .dataframe tbody tr th:only-of-type {\n",
       "        vertical-align: middle;\n",
       "    }\n",
       "\n",
       "    .dataframe tbody tr th {\n",
       "        vertical-align: top;\n",
       "    }\n",
       "\n",
       "    .dataframe thead th {\n",
       "        text-align: right;\n",
       "    }\n",
       "</style>\n",
       "<table border=\"1\" class=\"dataframe\">\n",
       "  <thead>\n",
       "    <tr style=\"text-align: right;\">\n",
       "      <th></th>\n",
       "      <th>Unnamed: 0.1</th>\n",
       "      <th>Unnamed: 0</th>\n",
       "      <th>id</th>\n",
       "      <th>Captions</th>\n",
       "    </tr>\n",
       "  </thead>\n",
       "  <tbody>\n",
       "    <tr>\n",
       "      <th>0</th>\n",
       "      <td>0</td>\n",
       "      <td>0</td>\n",
       "      <td>1000013365102810365</td>\n",
       "      <td>['#Regram from @lucavezil: \"You know why I lov...</td>\n",
       "    </tr>\n",
       "    <tr>\n",
       "      <th>1</th>\n",
       "      <td>1</td>\n",
       "      <td>1</td>\n",
       "      <td>1000043359370989848</td>\n",
       "      <td>['Our society today is so desensitized to porn...</td>\n",
       "    </tr>\n",
       "    <tr>\n",
       "      <th>2</th>\n",
       "      <td>2</td>\n",
       "      <td>2</td>\n",
       "      <td>1000055615134224232</td>\n",
       "      <td>['brought out my cute lil @benefitcosmetics pa...</td>\n",
       "    </tr>\n",
       "    <tr>\n",
       "      <th>3</th>\n",
       "      <td>3</td>\n",
       "      <td>3</td>\n",
       "      <td>1000084729422320243</td>\n",
       "      <td>['How about Sweet Potato Pear and Broccoli by ...</td>\n",
       "    </tr>\n",
       "    <tr>\n",
       "      <th>4</th>\n",
       "      <td>4</td>\n",
       "      <td>4</td>\n",
       "      <td>1000147795992383306</td>\n",
       "      <td>['In the end, we only regret the chances we di...</td>\n",
       "    </tr>\n",
       "  </tbody>\n",
       "</table>\n",
       "</div>"
      ],
      "text/plain": [
       "   Unnamed: 0.1  Unnamed: 0                   id  \\\n",
       "0             0           0  1000013365102810365   \n",
       "1             1           1  1000043359370989848   \n",
       "2             2           2  1000055615134224232   \n",
       "3             3           3  1000084729422320243   \n",
       "4             4           4  1000147795992383306   \n",
       "\n",
       "                                            Captions  \n",
       "0  ['#Regram from @lucavezil: \"You know why I lov...  \n",
       "1  ['Our society today is so desensitized to porn...  \n",
       "2  ['brought out my cute lil @benefitcosmetics pa...  \n",
       "3  ['How about Sweet Potato Pear and Broccoli by ...  \n",
       "4  ['In the end, we only regret the chances we di...  "
      ]
     },
     "execution_count": 10,
     "metadata": {},
     "output_type": "execute_result"
    }
   ],
   "source": [
    "#read data regarding captions of the posts\n",
    "#df1 = pd.read_excel('project_data/output_df1_first65000.xlsx')\n",
    "\n",
    "# load the cleaned Captions file, where the dictionaries are unpacked and the '/n' are removed.\n",
    "df1 = pd.read_csv(\"project_data/compiled_jsons_all_Captions_unnested_2.csv\")\n",
    "\n",
    "df1.head()"
   ]
  },
  {
   "cell_type": "code",
   "execution_count": 11,
   "id": "b5f6ccf9",
   "metadata": {},
   "outputs": [
    {
     "data": {
      "text/plain": [
       "(137579, 4)"
      ]
     },
     "execution_count": 11,
     "metadata": {},
     "output_type": "execute_result"
    }
   ],
   "source": [
    "# dataset is too big and we are going to sample 50% of it at random\n",
    "df1_sampled = df1.sample(math.floor(df1.shape[0] * 0.1), random_state = 0)\n",
    "df1_sampled.drop_duplicates(subset=['id'], inplace = True)\n",
    "df1_sampled.shape"
   ]
  },
  {
   "cell_type": "code",
   "execution_count": 12,
   "id": "b6ecc02d",
   "metadata": {},
   "outputs": [],
   "source": [
    "df1_sampled = df1_sampled.iloc[:,2:]\n",
    "df1_sampled = df1_sampled.rename(columns={\"id\": \"json_id\", \"Captions\": \"caption\"})\n",
    "df1_sampled = df1_sampled.loc[df1_sampled[\"caption\"].isnull() != True ]\n",
    "df1_sampled = df1_sampled.loc[df1_sampled[\"caption\"] != None]"
   ]
  },
  {
   "cell_type": "markdown",
   "id": "d5d7c72b",
   "metadata": {},
   "source": [
    "### Clean captions (stemming, lemmatization, stop words removal) for NLP analysis using TF-IDF"
   ]
  },
  {
   "cell_type": "markdown",
   "id": "2a3d1368",
   "metadata": {},
   "source": [
    "\n",
    "Bag-of-words model was used as a tool of feature generation for the captions. After transforming the text of captions into a bag-of-words, we performed the calculation of term frequency, which refers to the number of times a term appears in the text. Term frequency (TF) might not be the best representation of the text because the common words like ‘the’,’a’,’is’ are most likely to be the highest frequency terms. Thus, to address this problem, the term frequency was converted into term frequency-inverse document frequency (TF-IDF). The reason we need IDF is to minimize the weighting of common terms while making infrequent terms have a higher impact. Putting both together, the TF-IDF score tells how important and relevant a term is. \n",
    "\n",
    "Then, we performed sentiment analysis on the text of comments to tag the comments as “positive”, “neutral” and “negative”. This will add a useful feature of popularity in addition to the number of likes and comments a post garners. While we initially planned to create our own sentiment analysis model using the TF-IDF results and compare with some pre-trained models, the sheer volume of the data meant that we were unable to complete some steps because of the limitations of our systems’ computing power. \n"
   ]
  },
  {
   "cell_type": "code",
   "execution_count": 13,
   "id": "8c8a4392",
   "metadata": {},
   "outputs": [],
   "source": [
    "#clean the captions by removing punctuations, lower casing, and removing stop words\n",
    "df1_sampled[\"caption\"] = df1_sampled[\"caption\"].str.lower()\n",
    "df1_sampled[\"caption\"] = df1_sampled[\"caption\"].apply(lambda x: re.sub(r'@\\w+', \"\", x))\n",
    "df1_sampled[\"caption\"] = df1_sampled[\"caption\"].apply(remove_punctuations)\n",
    "\n",
    "stop = stopwords.words('english')\n",
    "df1_sampled[\"caption\"] = df1_sampled[\"caption\"].apply(lambda x: ' '.join([word for word in x.split() if word not in stop]))\n",
    "#df1[\"caption\"] = df1[\"caption\"].apply(lambda x: x.encode('ascii', 'ignore').decode('ascii'))"
   ]
  },
  {
   "cell_type": "code",
   "execution_count": 14,
   "id": "2400c9ab",
   "metadata": {},
   "outputs": [],
   "source": [
    "\n",
    "df1_sampled[\"caption\"]=df1_sampled[\"caption\"].apply(lambda x:contractions(x))\n",
    "df1_sampled[\"caption\"]=df1_sampled[\"caption\"].apply(lambda x: re.sub(' +', ' ', x))\n"
   ]
  },
  {
   "cell_type": "code",
   "execution_count": 15,
   "id": "90969fff",
   "metadata": {},
   "outputs": [],
   "source": [
    "#utilize the textblob package to edit wrong words\n",
    "#df1[\"caption\"] = df1[\"caption\"].apply(lambda x: TextBlob(x).correct())"
   ]
  },
  {
   "cell_type": "code",
   "execution_count": 16,
   "id": "662990f8",
   "metadata": {},
   "outputs": [],
   "source": [
    "df1_sampled = df1_sampled.loc[df1_sampled[\"caption\"].isnull() != True ]\n",
    "df1_sampled = df1_sampled.loc[df1_sampled[\"caption\"] != None]"
   ]
  },
  {
   "cell_type": "code",
   "execution_count": 17,
   "id": "7d91b863",
   "metadata": {},
   "outputs": [
    {
     "data": {
      "text/plain": [
       "814850     rientro casa spero di tornare presto nella bel...\n",
       "326085     guest room looking like modge podge it is walk...\n",
       "1021728    obsessed unicorn tee use discount code ‘chloe9...\n",
       "323065     ragazze vi ricordo di nuovo della promozione s...\n",
       "869097     friday vid shortly focusing around bare necess...\n",
       "Name: caption, dtype: object"
      ]
     },
     "execution_count": 17,
     "metadata": {},
     "output_type": "execute_result"
    }
   ],
   "source": [
    "#keep only the stem of every word\n",
    "lemmatizer = WordNetLemmatizer()\n",
    "df1_sampled[\"caption\"] = df1_sampled[\"caption\"].apply(lambda x: ' '.join([lemmatizer.lemmatize(word) for word in x.split()]))\n",
    "df1_sampled[\"caption\"].head()"
   ]
  },
  {
   "cell_type": "code",
   "execution_count": 18,
   "id": "b100f63e",
   "metadata": {},
   "outputs": [
    {
     "data": {
      "text/plain": [
       "814850                    di presto di un che mi ha di con e\n",
       "326085     guest room looking like podge it is walkable p...\n",
       "1021728    unicorn tee use discount code save teen unicor...\n",
       "323065     di di di la neon che di e sulla e link story n...\n",
       "869097                 shortly around bare necessity palette\n",
       "Name: caption, dtype: object"
      ]
     },
     "execution_count": 18,
     "metadata": {},
     "output_type": "execute_result"
    }
   ],
   "source": [
    "#remove non english words\n",
    "words = set(nltk.corpus.words.words())\n",
    "\n",
    "df1_sampled[\"caption\"] = df1_sampled[\"caption\"].apply(lambda x: \" \".join([word for word in x.split() \\\n",
    "         if word in words]))\n",
    "\n",
    "#df1[\"caption\"] = df1[\"caption\"].apply(lambda x: \" \".join(x.split()))\n",
    "    \n",
    "df1_sampled[\"caption\"].head()"
   ]
  },
  {
   "cell_type": "code",
   "execution_count": 19,
   "id": "94a437fd",
   "metadata": {},
   "outputs": [],
   "source": [
    "# analyze what language each caption is\n",
    "df1_sampled[\"lang\"] = df1_sampled[\"caption\"].apply(lambda x: langid.classify(x)[0])\n"
   ]
  },
  {
   "cell_type": "code",
   "execution_count": 20,
   "id": "dacb6e34",
   "metadata": {},
   "outputs": [
    {
     "data": {
      "text/html": [
       "<div>\n",
       "<style scoped>\n",
       "    .dataframe tbody tr th:only-of-type {\n",
       "        vertical-align: middle;\n",
       "    }\n",
       "\n",
       "    .dataframe tbody tr th {\n",
       "        vertical-align: top;\n",
       "    }\n",
       "\n",
       "    .dataframe thead th {\n",
       "        text-align: right;\n",
       "    }\n",
       "</style>\n",
       "<table border=\"1\" class=\"dataframe\">\n",
       "  <thead>\n",
       "    <tr style=\"text-align: right;\">\n",
       "      <th></th>\n",
       "      <th>json_id</th>\n",
       "      <th>caption</th>\n",
       "      <th>lang</th>\n",
       "    </tr>\n",
       "  </thead>\n",
       "  <tbody>\n",
       "    <tr>\n",
       "      <th>326085</th>\n",
       "      <td>1700130069736603012</td>\n",
       "      <td>guest room looking like podge it is walkable p...</td>\n",
       "      <td>en</td>\n",
       "    </tr>\n",
       "    <tr>\n",
       "      <th>1021728</th>\n",
       "      <td>1638662219070667027</td>\n",
       "      <td>unicorn tee use discount code save teen unicor...</td>\n",
       "      <td>en</td>\n",
       "    </tr>\n",
       "    <tr>\n",
       "      <th>869097</th>\n",
       "      <td>1462606516766142856</td>\n",
       "      <td>shortly around bare necessity palette</td>\n",
       "      <td>en</td>\n",
       "    </tr>\n",
       "    <tr>\n",
       "      <th>467336</th>\n",
       "      <td>1459009717292338546</td>\n",
       "      <td>past couple day fun much wish could fit one post</td>\n",
       "      <td>en</td>\n",
       "    </tr>\n",
       "    <tr>\n",
       "      <th>100785</th>\n",
       "      <td>1517839551120552138</td>\n",
       "      <td>best time chatting elle today lunch always gre...</td>\n",
       "      <td>en</td>\n",
       "    </tr>\n",
       "  </tbody>\n",
       "</table>\n",
       "</div>"
      ],
      "text/plain": [
       "                     json_id  \\\n",
       "326085   1700130069736603012   \n",
       "1021728  1638662219070667027   \n",
       "869097   1462606516766142856   \n",
       "467336   1459009717292338546   \n",
       "100785   1517839551120552138   \n",
       "\n",
       "                                                   caption lang  \n",
       "326085   guest room looking like podge it is walkable p...   en  \n",
       "1021728  unicorn tee use discount code save teen unicor...   en  \n",
       "869097               shortly around bare necessity palette   en  \n",
       "467336    past couple day fun much wish could fit one post   en  \n",
       "100785   best time chatting elle today lunch always gre...   en  "
      ]
     },
     "execution_count": 20,
     "metadata": {},
     "output_type": "execute_result"
    }
   ],
   "source": [
    "#remove captions that aren't english\n",
    "df1_sampled = df1_sampled.loc[df1_sampled[\"lang\"] == \"en\"]\n",
    "df1_sampled.head()"
   ]
  },
  {
   "cell_type": "code",
   "execution_count": 21,
   "id": "be82392b",
   "metadata": {},
   "outputs": [
    {
     "name": "stdout",
     "output_type": "stream",
     "text": [
      "(108128, 500)\n"
     ]
    },
    {
     "data": {
      "text/html": [
       "<div>\n",
       "<style scoped>\n",
       "    .dataframe tbody tr th:only-of-type {\n",
       "        vertical-align: middle;\n",
       "    }\n",
       "\n",
       "    .dataframe tbody tr th {\n",
       "        vertical-align: top;\n",
       "    }\n",
       "\n",
       "    .dataframe thead th {\n",
       "        text-align: right;\n",
       "    }\n",
       "</style>\n",
       "<table border=\"1\" class=\"dataframe\">\n",
       "  <thead>\n",
       "    <tr style=\"text-align: right;\">\n",
       "      <th></th>\n",
       "      <th>tfidf</th>\n",
       "    </tr>\n",
       "  </thead>\n",
       "  <tbody>\n",
       "    <tr>\n",
       "      <th>discount</th>\n",
       "      <td>0.714920</td>\n",
       "    </tr>\n",
       "    <tr>\n",
       "      <th>save</th>\n",
       "      <td>0.375638</td>\n",
       "    </tr>\n",
       "    <tr>\n",
       "      <th>model</th>\n",
       "      <td>0.350085</td>\n",
       "    </tr>\n",
       "    <tr>\n",
       "      <th>girl</th>\n",
       "      <td>0.302189</td>\n",
       "    </tr>\n",
       "    <tr>\n",
       "      <th>code</th>\n",
       "      <td>0.259631</td>\n",
       "    </tr>\n",
       "    <tr>\n",
       "      <th>...</th>\n",
       "      <td>...</td>\n",
       "    </tr>\n",
       "    <tr>\n",
       "      <th>flower</th>\n",
       "      <td>0.000000</td>\n",
       "    </tr>\n",
       "    <tr>\n",
       "      <th>flavor</th>\n",
       "      <td>0.000000</td>\n",
       "    </tr>\n",
       "    <tr>\n",
       "      <th>fitness</th>\n",
       "      <td>0.000000</td>\n",
       "    </tr>\n",
       "    <tr>\n",
       "      <th>fit</th>\n",
       "      <td>0.000000</td>\n",
       "    </tr>\n",
       "    <tr>\n",
       "      <th>yummy</th>\n",
       "      <td>0.000000</td>\n",
       "    </tr>\n",
       "  </tbody>\n",
       "</table>\n",
       "<p>500 rows × 1 columns</p>\n",
       "</div>"
      ],
      "text/plain": [
       "             tfidf\n",
       "discount  0.714920\n",
       "save      0.375638\n",
       "model     0.350085\n",
       "girl      0.302189\n",
       "code      0.259631\n",
       "...            ...\n",
       "flower    0.000000\n",
       "flavor    0.000000\n",
       "fitness   0.000000\n",
       "fit       0.000000\n",
       "yummy     0.000000\n",
       "\n",
       "[500 rows x 1 columns]"
      ]
     },
     "execution_count": 21,
     "metadata": {},
     "output_type": "execute_result"
    }
   ],
   "source": [
    "# TF-IDF\n",
    "\n",
    "#Convert a collection of text documents to a matrix of token counts (for each word)\n",
    "tfidfconverter = TfidfVectorizer(max_features = 500, min_df= 100, max_df=0.7, stop_words=stopwords.words('english'))  \n",
    "tf_idf_vector = tfidfconverter.fit_transform(df1_sampled[\"caption\"]).toarray()\n",
    "feature_names = tfidfconverter.get_feature_names_out()\n",
    "\n",
    "print(tf_idf_vector.shape)\n",
    "#show an example of the first document tf_idf breakdown\n",
    "first_document_vector=tf_idf_vector[1]\n",
    "df_tfifd= pd.DataFrame(first_document_vector, index=feature_names, columns=[\"tfidf\"])\n",
    "df_tfifd.sort_values(by=[\"tfidf\"],ascending=False)\n"
   ]
  },
  {
   "cell_type": "code",
   "execution_count": 22,
   "id": "f4713644",
   "metadata": {},
   "outputs": [
    {
     "data": {
      "text/html": [
       "<div>\n",
       "<style scoped>\n",
       "    .dataframe tbody tr th:only-of-type {\n",
       "        vertical-align: middle;\n",
       "    }\n",
       "\n",
       "    .dataframe tbody tr th {\n",
       "        vertical-align: top;\n",
       "    }\n",
       "\n",
       "    .dataframe thead th {\n",
       "        text-align: right;\n",
       "    }\n",
       "</style>\n",
       "<table border=\"1\" class=\"dataframe\">\n",
       "  <thead>\n",
       "    <tr style=\"text-align: right;\">\n",
       "      <th></th>\n",
       "      <th>json_id</th>\n",
       "      <th>able</th>\n",
       "      <th>absolutely</th>\n",
       "      <th>accessory</th>\n",
       "      <th>actually</th>\n",
       "      <th>ad</th>\n",
       "      <th>add</th>\n",
       "      <th>adventure</th>\n",
       "      <th>ago</th>\n",
       "      <th>almond</th>\n",
       "      <th>...</th>\n",
       "      <th>workout</th>\n",
       "      <th>world</th>\n",
       "      <th>worth</th>\n",
       "      <th>would</th>\n",
       "      <th>year</th>\n",
       "      <th>yes</th>\n",
       "      <th>yesterday</th>\n",
       "      <th>yet</th>\n",
       "      <th>yoga</th>\n",
       "      <th>yummy</th>\n",
       "    </tr>\n",
       "  </thead>\n",
       "  <tbody>\n",
       "    <tr>\n",
       "      <th>0</th>\n",
       "      <td>1700130069736603012</td>\n",
       "      <td>0.0</td>\n",
       "      <td>0.0</td>\n",
       "      <td>0.0</td>\n",
       "      <td>0.0</td>\n",
       "      <td>0.0</td>\n",
       "      <td>0.0</td>\n",
       "      <td>0.0</td>\n",
       "      <td>0.0</td>\n",
       "      <td>0.0</td>\n",
       "      <td>...</td>\n",
       "      <td>0.0</td>\n",
       "      <td>0.0</td>\n",
       "      <td>0.0</td>\n",
       "      <td>0.0</td>\n",
       "      <td>0.0</td>\n",
       "      <td>0.0</td>\n",
       "      <td>0.0</td>\n",
       "      <td>0.0</td>\n",
       "      <td>0.0</td>\n",
       "      <td>0.0</td>\n",
       "    </tr>\n",
       "    <tr>\n",
       "      <th>1</th>\n",
       "      <td>1638662219070667027</td>\n",
       "      <td>0.0</td>\n",
       "      <td>0.0</td>\n",
       "      <td>0.0</td>\n",
       "      <td>0.0</td>\n",
       "      <td>0.0</td>\n",
       "      <td>0.0</td>\n",
       "      <td>0.0</td>\n",
       "      <td>0.0</td>\n",
       "      <td>0.0</td>\n",
       "      <td>...</td>\n",
       "      <td>0.0</td>\n",
       "      <td>0.0</td>\n",
       "      <td>0.0</td>\n",
       "      <td>0.0</td>\n",
       "      <td>0.0</td>\n",
       "      <td>0.0</td>\n",
       "      <td>0.0</td>\n",
       "      <td>0.0</td>\n",
       "      <td>0.0</td>\n",
       "      <td>0.0</td>\n",
       "    </tr>\n",
       "    <tr>\n",
       "      <th>2</th>\n",
       "      <td>1462606516766142856</td>\n",
       "      <td>0.0</td>\n",
       "      <td>0.0</td>\n",
       "      <td>0.0</td>\n",
       "      <td>0.0</td>\n",
       "      <td>0.0</td>\n",
       "      <td>0.0</td>\n",
       "      <td>0.0</td>\n",
       "      <td>0.0</td>\n",
       "      <td>0.0</td>\n",
       "      <td>...</td>\n",
       "      <td>0.0</td>\n",
       "      <td>0.0</td>\n",
       "      <td>0.0</td>\n",
       "      <td>0.0</td>\n",
       "      <td>0.0</td>\n",
       "      <td>0.0</td>\n",
       "      <td>0.0</td>\n",
       "      <td>0.0</td>\n",
       "      <td>0.0</td>\n",
       "      <td>0.0</td>\n",
       "    </tr>\n",
       "    <tr>\n",
       "      <th>3</th>\n",
       "      <td>1459009717292338546</td>\n",
       "      <td>0.0</td>\n",
       "      <td>0.0</td>\n",
       "      <td>0.0</td>\n",
       "      <td>0.0</td>\n",
       "      <td>0.0</td>\n",
       "      <td>0.0</td>\n",
       "      <td>0.0</td>\n",
       "      <td>0.0</td>\n",
       "      <td>0.0</td>\n",
       "      <td>...</td>\n",
       "      <td>0.0</td>\n",
       "      <td>0.0</td>\n",
       "      <td>0.0</td>\n",
       "      <td>0.0</td>\n",
       "      <td>0.0</td>\n",
       "      <td>0.0</td>\n",
       "      <td>0.0</td>\n",
       "      <td>0.0</td>\n",
       "      <td>0.0</td>\n",
       "      <td>0.0</td>\n",
       "    </tr>\n",
       "    <tr>\n",
       "      <th>4</th>\n",
       "      <td>1517839551120552138</td>\n",
       "      <td>0.0</td>\n",
       "      <td>0.0</td>\n",
       "      <td>0.0</td>\n",
       "      <td>0.0</td>\n",
       "      <td>0.0</td>\n",
       "      <td>0.0</td>\n",
       "      <td>0.0</td>\n",
       "      <td>0.0</td>\n",
       "      <td>0.0</td>\n",
       "      <td>...</td>\n",
       "      <td>0.0</td>\n",
       "      <td>0.0</td>\n",
       "      <td>0.0</td>\n",
       "      <td>0.0</td>\n",
       "      <td>0.0</td>\n",
       "      <td>0.0</td>\n",
       "      <td>0.0</td>\n",
       "      <td>0.0</td>\n",
       "      <td>0.0</td>\n",
       "      <td>0.0</td>\n",
       "    </tr>\n",
       "  </tbody>\n",
       "</table>\n",
       "<p>5 rows × 501 columns</p>\n",
       "</div>"
      ],
      "text/plain": [
       "               json_id  able  absolutely  accessory  actually   ad  add  \\\n",
       "0  1700130069736603012   0.0         0.0        0.0       0.0  0.0  0.0   \n",
       "1  1638662219070667027   0.0         0.0        0.0       0.0  0.0  0.0   \n",
       "2  1462606516766142856   0.0         0.0        0.0       0.0  0.0  0.0   \n",
       "3  1459009717292338546   0.0         0.0        0.0       0.0  0.0  0.0   \n",
       "4  1517839551120552138   0.0         0.0        0.0       0.0  0.0  0.0   \n",
       "\n",
       "   adventure  ago  almond  ...  workout  world  worth  would  year  yes  \\\n",
       "0        0.0  0.0     0.0  ...      0.0    0.0    0.0    0.0   0.0  0.0   \n",
       "1        0.0  0.0     0.0  ...      0.0    0.0    0.0    0.0   0.0  0.0   \n",
       "2        0.0  0.0     0.0  ...      0.0    0.0    0.0    0.0   0.0  0.0   \n",
       "3        0.0  0.0     0.0  ...      0.0    0.0    0.0    0.0   0.0  0.0   \n",
       "4        0.0  0.0     0.0  ...      0.0    0.0    0.0    0.0   0.0  0.0   \n",
       "\n",
       "   yesterday  yet  yoga  yummy  \n",
       "0        0.0  0.0   0.0    0.0  \n",
       "1        0.0  0.0   0.0    0.0  \n",
       "2        0.0  0.0   0.0    0.0  \n",
       "3        0.0  0.0   0.0    0.0  \n",
       "4        0.0  0.0   0.0    0.0  \n",
       "\n",
       "[5 rows x 501 columns]"
      ]
     },
     "execution_count": 22,
     "metadata": {},
     "output_type": "execute_result"
    }
   ],
   "source": [
    "#tf_idf = TfidfVectorizer()\n",
    "#word_vectors = tf_idf.fit_transform(df1_sampled[\"caption\"])\n",
    "df1_sampled.reset_index(drop=True, inplace=True)\n",
    "word_vectors = pd.DataFrame(tf_idf_vector, columns = feature_names)\n",
    "final_data = pd.concat([df1_sampled[\"json_id\"], word_vectors], axis=1)\n",
    "\n",
    "final_data.head()"
   ]
  },
  {
   "cell_type": "code",
   "execution_count": 23,
   "id": "f454703a",
   "metadata": {},
   "outputs": [
    {
     "data": {
      "text/html": [
       "<div>\n",
       "<style scoped>\n",
       "    .dataframe tbody tr th:only-of-type {\n",
       "        vertical-align: middle;\n",
       "    }\n",
       "\n",
       "    .dataframe tbody tr th {\n",
       "        vertical-align: top;\n",
       "    }\n",
       "\n",
       "    .dataframe thead th {\n",
       "        text-align: right;\n",
       "    }\n",
       "</style>\n",
       "<table border=\"1\" class=\"dataframe\">\n",
       "  <thead>\n",
       "    <tr style=\"text-align: right;\">\n",
       "      <th></th>\n",
       "      <th>json_id</th>\n",
       "      <th>able</th>\n",
       "      <th>absolutely</th>\n",
       "      <th>accessory</th>\n",
       "      <th>actually</th>\n",
       "      <th>ad</th>\n",
       "      <th>add</th>\n",
       "      <th>adventure</th>\n",
       "      <th>ago</th>\n",
       "      <th>almond</th>\n",
       "      <th>...</th>\n",
       "      <th>category_Home Goods Stores</th>\n",
       "      <th>category_Home Services</th>\n",
       "      <th>category_Lifestyle Services</th>\n",
       "      <th>category_Local Events</th>\n",
       "      <th>category_Non-Profits &amp; Religious Organizations</th>\n",
       "      <th>category_Personal Goods &amp; General Merchandise Stores</th>\n",
       "      <th>category_Professional Services</th>\n",
       "      <th>category_Publishers</th>\n",
       "      <th>category_Restaurants</th>\n",
       "      <th>category_Transportation &amp; Accomodation Services</th>\n",
       "    </tr>\n",
       "  </thead>\n",
       "  <tbody>\n",
       "    <tr>\n",
       "      <th>0</th>\n",
       "      <td>1700130069736603012</td>\n",
       "      <td>0.0</td>\n",
       "      <td>0.0</td>\n",
       "      <td>0.0</td>\n",
       "      <td>0.0</td>\n",
       "      <td>0.0</td>\n",
       "      <td>0.0</td>\n",
       "      <td>0.0</td>\n",
       "      <td>0.0</td>\n",
       "      <td>0.0</td>\n",
       "      <td>...</td>\n",
       "      <td>0.0</td>\n",
       "      <td>0.0</td>\n",
       "      <td>0.0</td>\n",
       "      <td>0.0</td>\n",
       "      <td>0.0</td>\n",
       "      <td>0.0</td>\n",
       "      <td>0.0</td>\n",
       "      <td>0.0</td>\n",
       "      <td>0.0</td>\n",
       "      <td>0.0</td>\n",
       "    </tr>\n",
       "    <tr>\n",
       "      <th>1</th>\n",
       "      <td>1638662219070667027</td>\n",
       "      <td>0.0</td>\n",
       "      <td>0.0</td>\n",
       "      <td>0.0</td>\n",
       "      <td>0.0</td>\n",
       "      <td>0.0</td>\n",
       "      <td>0.0</td>\n",
       "      <td>0.0</td>\n",
       "      <td>0.0</td>\n",
       "      <td>0.0</td>\n",
       "      <td>...</td>\n",
       "      <td>0.0</td>\n",
       "      <td>0.0</td>\n",
       "      <td>0.0</td>\n",
       "      <td>0.0</td>\n",
       "      <td>0.0</td>\n",
       "      <td>0.0</td>\n",
       "      <td>0.0</td>\n",
       "      <td>0.0</td>\n",
       "      <td>0.0</td>\n",
       "      <td>0.0</td>\n",
       "    </tr>\n",
       "    <tr>\n",
       "      <th>2</th>\n",
       "      <td>1462606516766142856</td>\n",
       "      <td>0.0</td>\n",
       "      <td>0.0</td>\n",
       "      <td>0.0</td>\n",
       "      <td>0.0</td>\n",
       "      <td>0.0</td>\n",
       "      <td>0.0</td>\n",
       "      <td>0.0</td>\n",
       "      <td>0.0</td>\n",
       "      <td>0.0</td>\n",
       "      <td>...</td>\n",
       "      <td>0.0</td>\n",
       "      <td>0.0</td>\n",
       "      <td>0.0</td>\n",
       "      <td>0.0</td>\n",
       "      <td>0.0</td>\n",
       "      <td>0.0</td>\n",
       "      <td>0.0</td>\n",
       "      <td>0.0</td>\n",
       "      <td>0.0</td>\n",
       "      <td>0.0</td>\n",
       "    </tr>\n",
       "    <tr>\n",
       "      <th>3</th>\n",
       "      <td>1459009717292338546</td>\n",
       "      <td>0.0</td>\n",
       "      <td>0.0</td>\n",
       "      <td>0.0</td>\n",
       "      <td>0.0</td>\n",
       "      <td>0.0</td>\n",
       "      <td>0.0</td>\n",
       "      <td>0.0</td>\n",
       "      <td>0.0</td>\n",
       "      <td>0.0</td>\n",
       "      <td>...</td>\n",
       "      <td>0.0</td>\n",
       "      <td>0.0</td>\n",
       "      <td>0.0</td>\n",
       "      <td>0.0</td>\n",
       "      <td>0.0</td>\n",
       "      <td>1.0</td>\n",
       "      <td>0.0</td>\n",
       "      <td>0.0</td>\n",
       "      <td>0.0</td>\n",
       "      <td>0.0</td>\n",
       "    </tr>\n",
       "    <tr>\n",
       "      <th>4</th>\n",
       "      <td>1517839551120552138</td>\n",
       "      <td>0.0</td>\n",
       "      <td>0.0</td>\n",
       "      <td>0.0</td>\n",
       "      <td>0.0</td>\n",
       "      <td>0.0</td>\n",
       "      <td>0.0</td>\n",
       "      <td>0.0</td>\n",
       "      <td>0.0</td>\n",
       "      <td>0.0</td>\n",
       "      <td>...</td>\n",
       "      <td>0.0</td>\n",
       "      <td>0.0</td>\n",
       "      <td>0.0</td>\n",
       "      <td>0.0</td>\n",
       "      <td>0.0</td>\n",
       "      <td>0.0</td>\n",
       "      <td>0.0</td>\n",
       "      <td>0.0</td>\n",
       "      <td>0.0</td>\n",
       "      <td>0.0</td>\n",
       "    </tr>\n",
       "  </tbody>\n",
       "</table>\n",
       "<p>5 rows × 525 columns</p>\n",
       "</div>"
      ],
      "text/plain": [
       "               json_id  able  absolutely  accessory  actually   ad  add  \\\n",
       "0  1700130069736603012   0.0         0.0        0.0       0.0  0.0  0.0   \n",
       "1  1638662219070667027   0.0         0.0        0.0       0.0  0.0  0.0   \n",
       "2  1462606516766142856   0.0         0.0        0.0       0.0  0.0  0.0   \n",
       "3  1459009717292338546   0.0         0.0        0.0       0.0  0.0  0.0   \n",
       "4  1517839551120552138   0.0         0.0        0.0       0.0  0.0  0.0   \n",
       "\n",
       "   adventure  ago  almond  ...  category_Home Goods Stores  \\\n",
       "0        0.0  0.0     0.0  ...                         0.0   \n",
       "1        0.0  0.0     0.0  ...                         0.0   \n",
       "2        0.0  0.0     0.0  ...                         0.0   \n",
       "3        0.0  0.0     0.0  ...                         0.0   \n",
       "4        0.0  0.0     0.0  ...                         0.0   \n",
       "\n",
       "   category_Home Services  category_Lifestyle Services  category_Local Events  \\\n",
       "0                     0.0                          0.0                    0.0   \n",
       "1                     0.0                          0.0                    0.0   \n",
       "2                     0.0                          0.0                    0.0   \n",
       "3                     0.0                          0.0                    0.0   \n",
       "4                     0.0                          0.0                    0.0   \n",
       "\n",
       "   category_Non-Profits & Religious Organizations  \\\n",
       "0                                             0.0   \n",
       "1                                             0.0   \n",
       "2                                             0.0   \n",
       "3                                             0.0   \n",
       "4                                             0.0   \n",
       "\n",
       "   category_Personal Goods & General Merchandise Stores  \\\n",
       "0                                                0.0      \n",
       "1                                                0.0      \n",
       "2                                                0.0      \n",
       "3                                                1.0      \n",
       "4                                                0.0      \n",
       "\n",
       "   category_Professional Services  category_Publishers  category_Restaurants  \\\n",
       "0                             0.0                  0.0                   0.0   \n",
       "1                             0.0                  0.0                   0.0   \n",
       "2                             0.0                  0.0                   0.0   \n",
       "3                             0.0                  0.0                   0.0   \n",
       "4                             0.0                  0.0                   0.0   \n",
       "\n",
       "   category_Transportation & Accomodation Services  \n",
       "0                                              0.0  \n",
       "1                                              0.0  \n",
       "2                                              0.0  \n",
       "3                                              0.0  \n",
       "4                                              0.0  \n",
       "\n",
       "[5 rows x 525 columns]"
      ]
     },
     "execution_count": 23,
     "metadata": {},
     "output_type": "execute_result"
    }
   ],
   "source": [
    "#df1_sampled.rename(columns={ df1_sampled.columns[0]: \"json_id\" }, inplace = True)\n",
    "\n",
    "final_data = final_data.merge(posts_influ_df, how='inner', on= \"json_id\")\n",
    "final_data.head()"
   ]
  },
  {
   "cell_type": "code",
   "execution_count": 24,
   "id": "13c69d77",
   "metadata": {},
   "outputs": [
    {
     "data": {
      "text/plain": [
       "(83189, 525)"
      ]
     },
     "execution_count": 24,
     "metadata": {},
     "output_type": "execute_result"
    }
   ],
   "source": [
    "final_data.shape"
   ]
  },
  {
   "cell_type": "code",
   "execution_count": 25,
   "id": "e0649f5e",
   "metadata": {},
   "outputs": [
    {
     "name": "stderr",
     "output_type": "stream",
     "text": [
      "/var/folders/b3/2c5nrf8s3k3f2z_yxv6vpz340000gn/T/ipykernel_5934/1567730900.py:1: DtypeWarning: Columns (8,9,10,11,12,13,14,15,16,17,18,19,20,21) have mixed types. Specify dtype option on import or set low_memory=False.\n",
      "  first = pd.read_csv(\"project_data/compiled_jsons_0_400000_trimmed.csv\")\n",
      "/var/folders/b3/2c5nrf8s3k3f2z_yxv6vpz340000gn/T/ipykernel_5934/1567730900.py:4: DtypeWarning: Columns (22,23,24,25) have mixed types. Specify dtype option on import or set low_memory=False.\n",
      "  fourth = pd.read_csv(\"project_data/compiled_jsons_1200001_1601074_trimmed.csv\")\n"
     ]
    },
    {
     "data": {
      "text/html": [
       "<div>\n",
       "<style scoped>\n",
       "    .dataframe tbody tr th:only-of-type {\n",
       "        vertical-align: middle;\n",
       "    }\n",
       "\n",
       "    .dataframe tbody tr th {\n",
       "        vertical-align: top;\n",
       "    }\n",
       "\n",
       "    .dataframe thead th {\n",
       "        text-align: right;\n",
       "    }\n",
       "</style>\n",
       "<table border=\"1\" class=\"dataframe\">\n",
       "  <thead>\n",
       "    <tr style=\"text-align: right;\">\n",
       "      <th></th>\n",
       "      <th>Unnamed: 0</th>\n",
       "      <th>id</th>\n",
       "      <th>is_video</th>\n",
       "      <th>taken_at_timestamp</th>\n",
       "      <th>edge_media_preview_like_count</th>\n",
       "      <th>edge_media_to_caption_edges</th>\n",
       "      <th>edge_media_to_comment_count</th>\n",
       "      <th>owner_id</th>\n",
       "      <th>is_ad</th>\n",
       "      <th>viewer_can_reshare</th>\n",
       "      <th>...</th>\n",
       "      <th>viewer_has_saved_to_collection</th>\n",
       "      <th>viewer_in_photo_of_you</th>\n",
       "      <th>edge_media_preview_like_edges</th>\n",
       "      <th>edge_media_to_comment_edges</th>\n",
       "      <th>edge_media_to_comment_page_info_end_cursor</th>\n",
       "      <th>edge_media_to_comment_page_info_has_next_page</th>\n",
       "      <th>edge_media_to_sponsor_user_edges</th>\n",
       "      <th>edge_media_to_tagged_user_edges</th>\n",
       "      <th>edge_web_media_to_related_media_edges</th>\n",
       "      <th>owner_username</th>\n",
       "    </tr>\n",
       "  </thead>\n",
       "  <tbody>\n",
       "    <tr>\n",
       "      <th>0</th>\n",
       "      <td>0</td>\n",
       "      <td>1000013365102810365</td>\n",
       "      <td>False</td>\n",
       "      <td>1433430904</td>\n",
       "      <td>3390</td>\n",
       "      <td>[{'node': {'text': '#Regram from @lucavezil: \"...</td>\n",
       "      <td>26</td>\n",
       "      <td>222106572</td>\n",
       "      <td>NaN</td>\n",
       "      <td>NaN</td>\n",
       "      <td>...</td>\n",
       "      <td>NaN</td>\n",
       "      <td>NaN</td>\n",
       "      <td>NaN</td>\n",
       "      <td>NaN</td>\n",
       "      <td>NaN</td>\n",
       "      <td>NaN</td>\n",
       "      <td>NaN</td>\n",
       "      <td>NaN</td>\n",
       "      <td>NaN</td>\n",
       "      <td>NaN</td>\n",
       "    </tr>\n",
       "    <tr>\n",
       "      <th>1</th>\n",
       "      <td>1</td>\n",
       "      <td>1000043359370989848</td>\n",
       "      <td>False</td>\n",
       "      <td>1433434480</td>\n",
       "      <td>125</td>\n",
       "      <td>[{'node': {'text': 'Our society today is so de...</td>\n",
       "      <td>5</td>\n",
       "      <td>237634851</td>\n",
       "      <td>NaN</td>\n",
       "      <td>NaN</td>\n",
       "      <td>...</td>\n",
       "      <td>NaN</td>\n",
       "      <td>NaN</td>\n",
       "      <td>NaN</td>\n",
       "      <td>NaN</td>\n",
       "      <td>NaN</td>\n",
       "      <td>NaN</td>\n",
       "      <td>NaN</td>\n",
       "      <td>NaN</td>\n",
       "      <td>NaN</td>\n",
       "      <td>NaN</td>\n",
       "    </tr>\n",
       "    <tr>\n",
       "      <th>2</th>\n",
       "      <td>2</td>\n",
       "      <td>1000055615134224232</td>\n",
       "      <td>False</td>\n",
       "      <td>1433435941</td>\n",
       "      <td>22652</td>\n",
       "      <td>[{'node': {'text': 'brought out my cute lil @b...</td>\n",
       "      <td>62</td>\n",
       "      <td>19538442</td>\n",
       "      <td>NaN</td>\n",
       "      <td>NaN</td>\n",
       "      <td>...</td>\n",
       "      <td>NaN</td>\n",
       "      <td>NaN</td>\n",
       "      <td>NaN</td>\n",
       "      <td>NaN</td>\n",
       "      <td>NaN</td>\n",
       "      <td>NaN</td>\n",
       "      <td>NaN</td>\n",
       "      <td>NaN</td>\n",
       "      <td>NaN</td>\n",
       "      <td>NaN</td>\n",
       "    </tr>\n",
       "    <tr>\n",
       "      <th>3</th>\n",
       "      <td>3</td>\n",
       "      <td>1000084729422320243</td>\n",
       "      <td>False</td>\n",
       "      <td>1433439411</td>\n",
       "      <td>272</td>\n",
       "      <td>[{'node': {'text': 'How about Sweet Potato Pea...</td>\n",
       "      <td>28</td>\n",
       "      <td>1431250163</td>\n",
       "      <td>NaN</td>\n",
       "      <td>NaN</td>\n",
       "      <td>...</td>\n",
       "      <td>NaN</td>\n",
       "      <td>NaN</td>\n",
       "      <td>NaN</td>\n",
       "      <td>NaN</td>\n",
       "      <td>NaN</td>\n",
       "      <td>NaN</td>\n",
       "      <td>NaN</td>\n",
       "      <td>NaN</td>\n",
       "      <td>NaN</td>\n",
       "      <td>NaN</td>\n",
       "    </tr>\n",
       "    <tr>\n",
       "      <th>4</th>\n",
       "      <td>4</td>\n",
       "      <td>1000147795992383306</td>\n",
       "      <td>False</td>\n",
       "      <td>1433446929</td>\n",
       "      <td>7407</td>\n",
       "      <td>[{'node': {'text': \"In the end, we only regret...</td>\n",
       "      <td>33</td>\n",
       "      <td>258280258</td>\n",
       "      <td>NaN</td>\n",
       "      <td>NaN</td>\n",
       "      <td>...</td>\n",
       "      <td>NaN</td>\n",
       "      <td>NaN</td>\n",
       "      <td>NaN</td>\n",
       "      <td>NaN</td>\n",
       "      <td>NaN</td>\n",
       "      <td>NaN</td>\n",
       "      <td>NaN</td>\n",
       "      <td>NaN</td>\n",
       "      <td>NaN</td>\n",
       "      <td>NaN</td>\n",
       "    </tr>\n",
       "  </tbody>\n",
       "</table>\n",
       "<p>5 rows × 22 columns</p>\n",
       "</div>"
      ],
      "text/plain": [
       "   Unnamed: 0                   id  is_video  taken_at_timestamp  \\\n",
       "0           0  1000013365102810365     False          1433430904   \n",
       "1           1  1000043359370989848     False          1433434480   \n",
       "2           2  1000055615134224232     False          1433435941   \n",
       "3           3  1000084729422320243     False          1433439411   \n",
       "4           4  1000147795992383306     False          1433446929   \n",
       "\n",
       "   edge_media_preview_like_count  \\\n",
       "0                           3390   \n",
       "1                            125   \n",
       "2                          22652   \n",
       "3                            272   \n",
       "4                           7407   \n",
       "\n",
       "                         edge_media_to_caption_edges  \\\n",
       "0  [{'node': {'text': '#Regram from @lucavezil: \"...   \n",
       "1  [{'node': {'text': 'Our society today is so de...   \n",
       "2  [{'node': {'text': 'brought out my cute lil @b...   \n",
       "3  [{'node': {'text': 'How about Sweet Potato Pea...   \n",
       "4  [{'node': {'text': \"In the end, we only regret...   \n",
       "\n",
       "   edge_media_to_comment_count    owner_id is_ad viewer_can_reshare  ...  \\\n",
       "0                           26   222106572   NaN                NaN  ...   \n",
       "1                            5   237634851   NaN                NaN  ...   \n",
       "2                           62    19538442   NaN                NaN  ...   \n",
       "3                           28  1431250163   NaN                NaN  ...   \n",
       "4                           33   258280258   NaN                NaN  ...   \n",
       "\n",
       "  viewer_has_saved_to_collection viewer_in_photo_of_you  \\\n",
       "0                            NaN                    NaN   \n",
       "1                            NaN                    NaN   \n",
       "2                            NaN                    NaN   \n",
       "3                            NaN                    NaN   \n",
       "4                            NaN                    NaN   \n",
       "\n",
       "  edge_media_preview_like_edges edge_media_to_comment_edges  \\\n",
       "0                           NaN                         NaN   \n",
       "1                           NaN                         NaN   \n",
       "2                           NaN                         NaN   \n",
       "3                           NaN                         NaN   \n",
       "4                           NaN                         NaN   \n",
       "\n",
       "  edge_media_to_comment_page_info_end_cursor  \\\n",
       "0                                        NaN   \n",
       "1                                        NaN   \n",
       "2                                        NaN   \n",
       "3                                        NaN   \n",
       "4                                        NaN   \n",
       "\n",
       "  edge_media_to_comment_page_info_has_next_page  \\\n",
       "0                                           NaN   \n",
       "1                                           NaN   \n",
       "2                                           NaN   \n",
       "3                                           NaN   \n",
       "4                                           NaN   \n",
       "\n",
       "  edge_media_to_sponsor_user_edges edge_media_to_tagged_user_edges  \\\n",
       "0                              NaN                             NaN   \n",
       "1                              NaN                             NaN   \n",
       "2                              NaN                             NaN   \n",
       "3                              NaN                             NaN   \n",
       "4                              NaN                             NaN   \n",
       "\n",
       "  edge_web_media_to_related_media_edges owner_username  \n",
       "0                                   NaN            NaN  \n",
       "1                                   NaN            NaN  \n",
       "2                                   NaN            NaN  \n",
       "3                                   NaN            NaN  \n",
       "4                                   NaN            NaN  \n",
       "\n",
       "[5 rows x 22 columns]"
      ]
     },
     "execution_count": 25,
     "metadata": {},
     "output_type": "execute_result"
    }
   ],
   "source": [
    "first = pd.read_csv(\"project_data/compiled_jsons_0_400000_trimmed.csv\")\n",
    "second = pd.read_csv(\"project_data/compiled_jsons_400000_800000_trimmed.csv\")\n",
    "third = pd.read_csv(\"project_data/compiled_jsons_800000_1200000_trimmed.csv\")\n",
    "fourth = pd.read_csv(\"project_data/compiled_jsons_1200001_1601074_trimmed.csv\")\n",
    "first.head()"
   ]
  },
  {
   "cell_type": "code",
   "execution_count": 26,
   "id": "8dd4ceec",
   "metadata": {},
   "outputs": [],
   "source": [
    "first = first[[\"id\", \"edge_media_preview_like_count\"]]\n",
    "second = second[[\"id\", \"edge_media_preview_like_count\"]]\n",
    "third = third[[\"id\", \"edge_media_preview_like_count\"]]\n",
    "fourth = fourth[[\"id\", \"edge_media_preview_like_count\"]]\n",
    "\n",
    "likes = pd.concat([first, second, third, fourth], axis = 0)\n",
    "likes = likes.rename(columns={\"id\": \"json_id\", \"edge_media_preview_like_count\": \"likes_per_follower\"})"
   ]
  },
  {
   "cell_type": "code",
   "execution_count": 27,
   "id": "6c2d59d9",
   "metadata": {},
   "outputs": [
    {
     "data": {
      "text/html": [
       "<div>\n",
       "<style scoped>\n",
       "    .dataframe tbody tr th:only-of-type {\n",
       "        vertical-align: middle;\n",
       "    }\n",
       "\n",
       "    .dataframe tbody tr th {\n",
       "        vertical-align: top;\n",
       "    }\n",
       "\n",
       "    .dataframe thead th {\n",
       "        text-align: right;\n",
       "    }\n",
       "</style>\n",
       "<table border=\"1\" class=\"dataframe\">\n",
       "  <thead>\n",
       "    <tr style=\"text-align: right;\">\n",
       "      <th></th>\n",
       "      <th>json_id</th>\n",
       "      <th>able</th>\n",
       "      <th>absolutely</th>\n",
       "      <th>accessory</th>\n",
       "      <th>actually</th>\n",
       "      <th>ad</th>\n",
       "      <th>add</th>\n",
       "      <th>adventure</th>\n",
       "      <th>ago</th>\n",
       "      <th>almond</th>\n",
       "      <th>...</th>\n",
       "      <th>category_Home Services</th>\n",
       "      <th>category_Lifestyle Services</th>\n",
       "      <th>category_Local Events</th>\n",
       "      <th>category_Non-Profits &amp; Religious Organizations</th>\n",
       "      <th>category_Personal Goods &amp; General Merchandise Stores</th>\n",
       "      <th>category_Professional Services</th>\n",
       "      <th>category_Publishers</th>\n",
       "      <th>category_Restaurants</th>\n",
       "      <th>category_Transportation &amp; Accomodation Services</th>\n",
       "      <th>likes_per_follower</th>\n",
       "    </tr>\n",
       "  </thead>\n",
       "  <tbody>\n",
       "    <tr>\n",
       "      <th>0</th>\n",
       "      <td>1700130069736603012</td>\n",
       "      <td>0.0</td>\n",
       "      <td>0.0</td>\n",
       "      <td>0.0</td>\n",
       "      <td>0.0</td>\n",
       "      <td>0.0</td>\n",
       "      <td>0.0</td>\n",
       "      <td>0.0</td>\n",
       "      <td>0.0</td>\n",
       "      <td>0.0</td>\n",
       "      <td>...</td>\n",
       "      <td>0.0</td>\n",
       "      <td>0.0</td>\n",
       "      <td>0.0</td>\n",
       "      <td>0.0</td>\n",
       "      <td>0.0</td>\n",
       "      <td>0.0</td>\n",
       "      <td>0.0</td>\n",
       "      <td>0.0</td>\n",
       "      <td>0.0</td>\n",
       "      <td>0.046147</td>\n",
       "    </tr>\n",
       "    <tr>\n",
       "      <th>1</th>\n",
       "      <td>1638662219070667027</td>\n",
       "      <td>0.0</td>\n",
       "      <td>0.0</td>\n",
       "      <td>0.0</td>\n",
       "      <td>0.0</td>\n",
       "      <td>0.0</td>\n",
       "      <td>0.0</td>\n",
       "      <td>0.0</td>\n",
       "      <td>0.0</td>\n",
       "      <td>0.0</td>\n",
       "      <td>...</td>\n",
       "      <td>0.0</td>\n",
       "      <td>0.0</td>\n",
       "      <td>0.0</td>\n",
       "      <td>0.0</td>\n",
       "      <td>0.0</td>\n",
       "      <td>0.0</td>\n",
       "      <td>0.0</td>\n",
       "      <td>0.0</td>\n",
       "      <td>0.0</td>\n",
       "      <td>0.101312</td>\n",
       "    </tr>\n",
       "    <tr>\n",
       "      <th>2</th>\n",
       "      <td>1462606516766142856</td>\n",
       "      <td>0.0</td>\n",
       "      <td>0.0</td>\n",
       "      <td>0.0</td>\n",
       "      <td>0.0</td>\n",
       "      <td>0.0</td>\n",
       "      <td>0.0</td>\n",
       "      <td>0.0</td>\n",
       "      <td>0.0</td>\n",
       "      <td>0.0</td>\n",
       "      <td>...</td>\n",
       "      <td>0.0</td>\n",
       "      <td>0.0</td>\n",
       "      <td>0.0</td>\n",
       "      <td>0.0</td>\n",
       "      <td>0.0</td>\n",
       "      <td>0.0</td>\n",
       "      <td>0.0</td>\n",
       "      <td>0.0</td>\n",
       "      <td>0.0</td>\n",
       "      <td>0.036242</td>\n",
       "    </tr>\n",
       "    <tr>\n",
       "      <th>3</th>\n",
       "      <td>1459009717292338546</td>\n",
       "      <td>0.0</td>\n",
       "      <td>0.0</td>\n",
       "      <td>0.0</td>\n",
       "      <td>0.0</td>\n",
       "      <td>0.0</td>\n",
       "      <td>0.0</td>\n",
       "      <td>0.0</td>\n",
       "      <td>0.0</td>\n",
       "      <td>0.0</td>\n",
       "      <td>...</td>\n",
       "      <td>0.0</td>\n",
       "      <td>0.0</td>\n",
       "      <td>0.0</td>\n",
       "      <td>0.0</td>\n",
       "      <td>1.0</td>\n",
       "      <td>0.0</td>\n",
       "      <td>0.0</td>\n",
       "      <td>0.0</td>\n",
       "      <td>0.0</td>\n",
       "      <td>0.012755</td>\n",
       "    </tr>\n",
       "    <tr>\n",
       "      <th>4</th>\n",
       "      <td>1517839551120552138</td>\n",
       "      <td>0.0</td>\n",
       "      <td>0.0</td>\n",
       "      <td>0.0</td>\n",
       "      <td>0.0</td>\n",
       "      <td>0.0</td>\n",
       "      <td>0.0</td>\n",
       "      <td>0.0</td>\n",
       "      <td>0.0</td>\n",
       "      <td>0.0</td>\n",
       "      <td>...</td>\n",
       "      <td>0.0</td>\n",
       "      <td>0.0</td>\n",
       "      <td>0.0</td>\n",
       "      <td>0.0</td>\n",
       "      <td>0.0</td>\n",
       "      <td>0.0</td>\n",
       "      <td>0.0</td>\n",
       "      <td>0.0</td>\n",
       "      <td>0.0</td>\n",
       "      <td>0.008871</td>\n",
       "    </tr>\n",
       "  </tbody>\n",
       "</table>\n",
       "<p>5 rows × 526 columns</p>\n",
       "</div>"
      ],
      "text/plain": [
       "               json_id  able  absolutely  accessory  actually   ad  add  \\\n",
       "0  1700130069736603012   0.0         0.0        0.0       0.0  0.0  0.0   \n",
       "1  1638662219070667027   0.0         0.0        0.0       0.0  0.0  0.0   \n",
       "2  1462606516766142856   0.0         0.0        0.0       0.0  0.0  0.0   \n",
       "3  1459009717292338546   0.0         0.0        0.0       0.0  0.0  0.0   \n",
       "4  1517839551120552138   0.0         0.0        0.0       0.0  0.0  0.0   \n",
       "\n",
       "   adventure  ago  almond  ...  category_Home Services  \\\n",
       "0        0.0  0.0     0.0  ...                     0.0   \n",
       "1        0.0  0.0     0.0  ...                     0.0   \n",
       "2        0.0  0.0     0.0  ...                     0.0   \n",
       "3        0.0  0.0     0.0  ...                     0.0   \n",
       "4        0.0  0.0     0.0  ...                     0.0   \n",
       "\n",
       "   category_Lifestyle Services  category_Local Events  \\\n",
       "0                          0.0                    0.0   \n",
       "1                          0.0                    0.0   \n",
       "2                          0.0                    0.0   \n",
       "3                          0.0                    0.0   \n",
       "4                          0.0                    0.0   \n",
       "\n",
       "   category_Non-Profits & Religious Organizations  \\\n",
       "0                                             0.0   \n",
       "1                                             0.0   \n",
       "2                                             0.0   \n",
       "3                                             0.0   \n",
       "4                                             0.0   \n",
       "\n",
       "   category_Personal Goods & General Merchandise Stores  \\\n",
       "0                                                0.0      \n",
       "1                                                0.0      \n",
       "2                                                0.0      \n",
       "3                                                1.0      \n",
       "4                                                0.0      \n",
       "\n",
       "   category_Professional Services  category_Publishers  category_Restaurants  \\\n",
       "0                             0.0                  0.0                   0.0   \n",
       "1                             0.0                  0.0                   0.0   \n",
       "2                             0.0                  0.0                   0.0   \n",
       "3                             0.0                  0.0                   0.0   \n",
       "4                             0.0                  0.0                   0.0   \n",
       "\n",
       "   category_Transportation & Accomodation Services  likes_per_follower  \n",
       "0                                              0.0            0.046147  \n",
       "1                                              0.0            0.101312  \n",
       "2                                              0.0            0.036242  \n",
       "3                                              0.0            0.012755  \n",
       "4                                              0.0            0.008871  \n",
       "\n",
       "[5 rows x 526 columns]"
      ]
     },
     "execution_count": 27,
     "metadata": {},
     "output_type": "execute_result"
    }
   ],
   "source": [
    "final_data = final_data.merge(likes, how = \"left\", on= \"json_id\")\n",
    "final_data[\"followers\"] = final_data[\"followers\"].astype(int)\n",
    "final_data[\"likes_per_follower\"] = final_data[\"likes_per_follower\"]/final_data[\"followers\"]\n",
    "final_data.head()"
   ]
  },
  {
   "cell_type": "code",
   "execution_count": 28,
   "id": "ba7c3871",
   "metadata": {},
   "outputs": [
    {
     "data": {
      "text/plain": [
       "[<matplotlib.lines.Line2D at 0x7fcca99e96d0>]"
      ]
     },
     "execution_count": 28,
     "metadata": {},
     "output_type": "execute_result"
    },
    {
     "data": {
      "image/png": "[encoded data removed]",
      "text/plain": [
       "<Figure size 432x288 with 1 Axes>"
      ]
     },
     "metadata": {
      "needs_background": "light"
     },
     "output_type": "display_data"
    }
   ],
   "source": [
    "plt.plot(final_data[\"likes_per_follower\"])"
   ]
  },
  {
   "cell_type": "code",
   "execution_count": 29,
   "id": "f943c338",
   "metadata": {},
   "outputs": [],
   "source": [
    "final_data = final_data.drop([\"json_id\",\"followers\", \"followees\"], axis = 1)"
   ]
  },
  {
   "cell_type": "markdown",
   "id": "00f5ad3a",
   "metadata": {},
   "source": [
    "# Model Building"
   ]
  },
  {
   "cell_type": "markdown",
   "id": "3d117191",
   "metadata": {},
   "source": [
    "### Linear Regression"
   ]
  },
  {
   "cell_type": "code",
   "execution_count": 30,
   "id": "0bc90333",
   "metadata": {},
   "outputs": [
    {
     "data": {
      "text/plain": [
       "0.03163805716780055"
      ]
     },
     "execution_count": 30,
     "metadata": {},
     "output_type": "execute_result"
    }
   ],
   "source": [
    "\n",
    "X = final_data.loc[:, final_data.columns != \"likes_per_follower\"]\n",
    "Y = final_data[\"likes_per_follower\"]\n",
    "\n",
    "\n",
    "X_train, X_test, Y_train, Y_test = train_test_split(X, Y, test_size = .30, random_state = 0)\n",
    "cv = KFold(n_splits=5, random_state=0, shuffle=True)\n",
    "\n",
    "reg = LinearRegression().fit(X_train, Y_train)\n",
    "reg.score(X_train, Y_train)"
   ]
  },
  {
   "cell_type": "code",
   "execution_count": 31,
   "id": "12b1daea",
   "metadata": {},
   "outputs": [],
   "source": [
    "y_pred=reg.predict(X_train)"
   ]
  },
  {
   "cell_type": "code",
   "execution_count": 32,
   "id": "81c84b81",
   "metadata": {},
   "outputs": [
    {
     "name": "stdout",
     "output_type": "stream",
     "text": [
      "Training RMSE of the model is 0.0360\n"
     ]
    }
   ],
   "source": [
    "rmse = math.sqrt(mean_squared_error(Y_train, y_pred))\n",
    "print(\"Training RMSE of the model is %.4f\" %rmse)"
   ]
  },
  {
   "cell_type": "code",
   "execution_count": 33,
   "id": "6c36c633",
   "metadata": {},
   "outputs": [
    {
     "name": "stdout",
     "output_type": "stream",
     "text": [
      "Validation RMSE of the model is 56622376.7727\n"
     ]
    }
   ],
   "source": [
    "scores = cross_val_score(reg, X_train, Y_train, scoring='neg_root_mean_squared_error',\n",
    "                         cv=cv, n_jobs=-1)\n",
    "\n",
    "print(\"Validation RMSE of the model is %.4f\" %np.mean(np.absolute(scores)))"
   ]
  },
  {
   "cell_type": "code",
   "execution_count": 34,
   "id": "455a48ba",
   "metadata": {},
   "outputs": [
    {
     "name": "stdout",
     "output_type": "stream",
     "text": [
      "[3.05618013e-06 9.34418606e-06 4.75133425e-07 ... 6.86075525e-06\n",
      " 1.09126231e-05 7.89666446e-06]\n"
     ]
    },
    {
     "name": "stderr",
     "output_type": "stream",
     "text": [
      "/Users/chouche7/opt/anaconda3/lib/python3.9/site-packages/statsmodels/stats/outliers_influence.py:696: RuntimeWarning: invalid value encountered in sqrt\n",
      "  return self.resid / sigma / np.sqrt(1 - hii)\n"
     ]
    }
   ],
   "source": [
    "#add constant to predictor variables\n",
    "x = sm.add_constant(X_train)\n",
    "\n",
    "#fit linear regression model\n",
    "model = sm.OLS(np.asarray(Y_train, dtype=float), np.asarray(x, dtype=float)).fit() \n",
    "\n",
    "#create instance of influence\n",
    "influence = model.get_influence()\n",
    "\n",
    "#obtain Cook's distance for each observation\n",
    "cooks = influence.cooks_distance[0]\n",
    "\n",
    "#display Cook's distances\n",
    "print(cooks)"
   ]
  },
  {
   "cell_type": "code",
   "execution_count": 35,
   "id": "667cdb74",
   "metadata": {},
   "outputs": [],
   "source": [
    "X_train_cooks = X_train.loc[cooks < (4/len(cooks))]\n",
    "y_train_cooks = Y_train.loc[cooks < (4/len(cooks))]"
   ]
  },
  {
   "cell_type": "code",
   "execution_count": 36,
   "id": "98f9872a",
   "metadata": {},
   "outputs": [
    {
     "data": {
      "text/plain": [
       "0.04671430217744965"
      ]
     },
     "execution_count": 36,
     "metadata": {},
     "output_type": "execute_result"
    }
   ],
   "source": [
    "reg = LinearRegression().fit(X_train_cooks, y_train_cooks)\n",
    "reg.score(X_train_cooks, y_train_cooks)"
   ]
  },
  {
   "cell_type": "code",
   "execution_count": 37,
   "id": "e06ace14",
   "metadata": {},
   "outputs": [],
   "source": [
    "y_pred=reg.predict(X_train_cooks)"
   ]
  },
  {
   "cell_type": "code",
   "execution_count": 38,
   "id": "4b0de8a9",
   "metadata": {},
   "outputs": [
    {
     "name": "stdout",
     "output_type": "stream",
     "text": [
      "Training RMSE of the model is 0.0231\n"
     ]
    }
   ],
   "source": [
    "rmse = math.sqrt(mean_squared_error(y_train_cooks, y_pred))\n",
    "print(\"Training RMSE of the model is %.4f\" %rmse)"
   ]
  },
  {
   "cell_type": "code",
   "execution_count": 39,
   "id": "6a1fe2ab",
   "metadata": {},
   "outputs": [
    {
     "name": "stdout",
     "output_type": "stream",
     "text": [
      "Validation RMSE of the model is 0.0233\n"
     ]
    }
   ],
   "source": [
    "scores = cross_val_score(reg, X_train_cooks, y_train_cooks, scoring='neg_root_mean_squared_error',\n",
    "                         cv=cv, n_jobs=-1)\n",
    "\n",
    "#view RMSE (validation error)\n",
    "print(\"Validation RMSE of the model is %.4f\" %np.mean(np.absolute(scores)))"
   ]
  },
  {
   "cell_type": "markdown",
   "id": "24dce35c",
   "metadata": {},
   "source": [
    "### LASSO"
   ]
  },
  {
   "cell_type": "markdown",
   "id": "b7d11923",
   "metadata": {},
   "source": [
    "The LASSO penalization model is used because we have over 100 predictors (due to the bag of words creating new features for each word) and LASSO is known to penalize the model for unnecessary features which will help us narrow down the important factors. Not only does it control model complexity and variable selection, it also encourages sparsity in solution\n"
   ]
  },
  {
   "cell_type": "code",
   "execution_count": 40,
   "id": "bbdea5f0",
   "metadata": {},
   "outputs": [],
   "source": [
    "lasso = LassoCV(cv=5, random_state=0).fit(X_train_cooks, y_train_cooks)"
   ]
  },
  {
   "cell_type": "code",
   "execution_count": 41,
   "id": "a4fa6b39",
   "metadata": {},
   "outputs": [],
   "source": [
    "lasso_features = lasso.feature_names_in_[lasso.coef_ != 0]"
   ]
  },
  {
   "cell_type": "code",
   "execution_count": 42,
   "id": "f3616bf2",
   "metadata": {},
   "outputs": [
    {
     "data": {
      "text/plain": [
       "(399,)"
      ]
     },
     "execution_count": 42,
     "metadata": {},
     "output_type": "execute_result"
    }
   ],
   "source": [
    "lasso_features.shape"
   ]
  },
  {
   "cell_type": "code",
   "execution_count": 43,
   "id": "8d2f19f5",
   "metadata": {},
   "outputs": [
    {
     "data": {
      "text/plain": [
       "0.04642132830608614"
      ]
     },
     "execution_count": 43,
     "metadata": {},
     "output_type": "execute_result"
    }
   ],
   "source": [
    "X = X_train_cooks.loc[:, X_train_cooks.columns.isin(lasso_features)]\n",
    "#Y = final_data[\"likes_per_follower\"]\n",
    "\n",
    "\n",
    "#X_train, X_test, Y_train, Y_test = train_test_split(X, Y, test_size = .30, random_state = 0)\n",
    "lasso = LinearRegression().fit(X, y_train_cooks)\n",
    "lasso.score(X, y_train_cooks)"
   ]
  },
  {
   "cell_type": "code",
   "execution_count": 44,
   "id": "9bdd7314",
   "metadata": {},
   "outputs": [
    {
     "name": "stdout",
     "output_type": "stream",
     "text": [
      "Training RMSE of the model is 0.0231\n"
     ]
    }
   ],
   "source": [
    "y_pred=lasso.predict(X)\n",
    "\n",
    "rmse = math.sqrt(mean_squared_error(y_train_cooks, y_pred))\n",
    "print(\"Training RMSE of the model is %.4f\" %rmse)"
   ]
  },
  {
   "cell_type": "code",
   "execution_count": 45,
   "id": "8a40a82c",
   "metadata": {},
   "outputs": [
    {
     "name": "stdout",
     "output_type": "stream",
     "text": [
      "Validation RMSE of the model is 0.0232\n"
     ]
    }
   ],
   "source": [
    "scores = cross_val_score(lasso, X, y_train_cooks, scoring='neg_root_mean_squared_error',\n",
    "                         cv=cv, n_jobs=-1)\n",
    "\n",
    "print(\"Validation RMSE of the model is %.4f\" %np.mean(np.absolute(scores)))"
   ]
  },
  {
   "cell_type": "markdown",
   "id": "a8c3dd34",
   "metadata": {},
   "source": [
    "### AdaBoost"
   ]
  },
  {
   "cell_type": "markdown",
   "id": "2d042e45",
   "metadata": {},
   "source": [
    "The AdaBoost model builds on top of the previous models’ error in order to create one effective model. Boosting is generally better than bagging (random forest) when the classifier is stable and simple (high bias) whereas bagging is better when there is high variance (overfitting).\n",
    "\n",
    "One thing to note is that boosting algorithms are extremely sensitive to outliers. This is because every classifier works off of the errors of its predecessors, so every model is forced to learn even the “bad” data. To prevent this from occurring, we made our best attempt in removing outliers by applying Cook’s Distance first to a multiple linear regression model. Cook’s Distance is measured by the difference in fitted values when the specific datum point is removed from the model; hence, data that shift our output values greatly will have a large distance (to be removed). Usually, this method only applies to the least-squares method, but due to time constraints, we used it to look for highly influential points for both the LASSO and AdaBoost models."
   ]
  },
  {
   "cell_type": "code",
   "execution_count": 46,
   "id": "721ef62b",
   "metadata": {},
   "outputs": [
    {
     "name": "stdout",
     "output_type": "stream",
     "text": [
      "3 0.023568819509251066\n",
      "4 0.023557848408126046\n",
      "5 0.023564325294690706\n",
      "6 0.023555867026240077\n",
      "7 0.02358850321988025\n",
      "8 0.023613974999732966\n",
      "9 0.023643904690984336\n"
     ]
    }
   ],
   "source": [
    "for depth in range (3,10):\n",
    "    tree_classifier=tree.DecisionTreeRegressor(max_depth=depth,random_state=0)\n",
    "    tree_classifier.fit(X, y_train_cooks)\n",
    "    score=np.mean(np.absolute(cross_val_score(tree_classifier,X, y_train_cooks,scoring='neg_root_mean_squared_error', cv=cv, n_jobs=-1)))\n",
    "    print(depth, score)"
   ]
  },
  {
   "cell_type": "code",
   "execution_count": 47,
   "id": "0e2de5c4",
   "metadata": {},
   "outputs": [],
   "source": [
    "#HYPER-PARAMETER TUNING for number of trees and learning rate\n",
    "#this takes a couple hours to run\n",
    "#don't run this unless the data has changed\n",
    "\n",
    "#ada=AdaBoostRegressor(base_estimator=tree.DecisionTreeRegressor(max_depth=6,random_state=0))\n",
    "#search_grid={'n_estimators':[100,300,500],'learning_rate':[.01,0.1,1]}\n",
    "#ada_clf=GridSearchCV(estimator=ada,param_grid=search_grid,scoring='neg_root_mean_squared_error', cv=cv, return_train_score = True)\n",
    "#ada_clf.fit(X, y_train_cooks)\n",
    "#ada_clf.best_params_"
   ]
  },
  {
   "cell_type": "code",
   "execution_count": 48,
   "id": "f6977ff5",
   "metadata": {},
   "outputs": [
    {
     "name": "stdout",
     "output_type": "stream",
     "text": [
      "Training RMSE of the model is 0.0235\n"
     ]
    }
   ],
   "source": [
    "ada_clf=AdaBoostRegressor(base_estimator=tree.DecisionTreeRegressor(max_depth=6,random_state=0), n_estimators = 100, learning_rate = 0.01, random_state=0)\n",
    "ada_clf.fit(X, y_train_cooks)\n",
    "\n",
    "y_pred=ada_clf.predict(X)\n",
    "\n",
    "rmse = math.sqrt(mean_squared_error(y_train_cooks, y_pred))\n",
    "print(\"Training RMSE of the model is %.4f\" %rmse)"
   ]
  },
  {
   "cell_type": "code",
   "execution_count": 49,
   "id": "02a63f92",
   "metadata": {},
   "outputs": [
    {
     "name": "stdout",
     "output_type": "stream",
     "text": [
      "Validation RMSE of the model is 0.0235\n"
     ]
    }
   ],
   "source": [
    "#print(\"Validation RMSE of the model is %.4f\" %np.mean(np.absolute(ada_clf.best_score_)))\n",
    "scores = cross_val_score(ada_clf, X, y_train_cooks, scoring='neg_root_mean_squared_error',\n",
    "                         cv=cv, n_jobs=-1)\n",
    "\n",
    "print(\"Validation RMSE of the model is %.4f\" %np.mean(np.absolute(scores)))"
   ]
  },
  {
   "cell_type": "markdown",
   "id": "61f3522a",
   "metadata": {},
   "source": [
    "# Model Valuation on Testing Data (based on the lowest validation error)"
   ]
  },
  {
   "cell_type": "code",
   "execution_count": 50,
   "id": "664f6441",
   "metadata": {},
   "outputs": [],
   "source": [
    "X_test_reduced = X_test.loc[:, X_test.columns.isin(lasso_features)]"
   ]
  },
  {
   "cell_type": "code",
   "execution_count": 51,
   "id": "79864051",
   "metadata": {},
   "outputs": [
    {
     "name": "stdout",
     "output_type": "stream",
     "text": [
      "Test RMSE of the LASSO model is 0.035264\n"
     ]
    }
   ],
   "source": [
    "y_pred = lasso.predict(X_test_reduced)\n",
    "\n",
    "rmse = np.sqrt(mean_squared_error(Y_test,y_pred))\n",
    "print(\"Test RMSE of the LASSO model is %.6f\" %rmse)\n"
   ]
  },
  {
   "cell_type": "code",
   "execution_count": 52,
   "id": "b3f2ec82",
   "metadata": {},
   "outputs": [
    {
     "name": "stdout",
     "output_type": "stream",
     "text": [
      "Test RMSE of the AdaBoost model is 0.035387\n"
     ]
    }
   ],
   "source": [
    "y_pred = ada_clf.predict(X_test_reduced)\n",
    "\n",
    "rmse = np.sqrt(mean_squared_error(Y_test,y_pred))\n",
    "print(\"Test RMSE of the AdaBoost model is %.6f\" %rmse)\n"
   ]
  },
  {
   "cell_type": "markdown",
   "id": "849fbebe",
   "metadata": {},
   "source": [
    "Through the results, it is clear that both the multiple linear regression with LASSO feature selection and AdaBoost perform similarly. According to the top 10 largest positive coefficients based on LASSO feature selection for linear regression, the word \"topped\" improves likes the most. As a stand alone word, it seems like \"topped\" doesn't really mean a whole lot; however, if we look at the posts using this word, we can understand that it is commonly used in posts related to foods.\n",
    "\n",
    "Similarly, words such as ‘concealer’ and 'glass' standout in particular as they seem to describe posts about makeup and female beauty which have a positive coefficient, implying an increase in likes per follower. On the other hand, people seem to dislike government agency pages and people who repost other contents since they negatively impact the popularity of the post. \n"
   ]
  },
  {
   "cell_type": "code",
   "execution_count": 53,
   "id": "1c49244f",
   "metadata": {},
   "outputs": [
    {
     "data": {
      "text/plain": [
       "array(['category_Government Agencies', 'topped', 'repost', 'via', 'spray',\n",
       "       'goody', 'available', 'code', 'along', 'care'], dtype=object)"
      ]
     },
     "execution_count": 53,
     "metadata": {},
     "output_type": "execute_result"
    }
   ],
   "source": [
    "# show all the words that have the most impact both negative and positive\n",
    "lasso.feature_names_in_[np.argsort(np.absolute(lasso.coef_))[::-1]][:10]"
   ]
  },
  {
   "cell_type": "code",
   "execution_count": 54,
   "id": "a76f8b52",
   "metadata": {},
   "outputs": [
    {
     "data": {
      "text/plain": [
       "array([-0.02401311,  0.01895701, -0.01768584, -0.01483679, -0.01295867,\n",
       "       -0.01295056, -0.01250657,  0.01199496, -0.01170395, -0.01164219])"
      ]
     },
     "execution_count": 54,
     "metadata": {},
     "output_type": "execute_result"
    }
   ],
   "source": [
    "# their coefficients\n",
    "lasso.coef_[np.argsort(np.absolute(lasso.coef_))[::-1]][:10]"
   ]
  },
  {
   "cell_type": "code",
   "execution_count": 55,
   "id": "6a23393a",
   "metadata": {},
   "outputs": [
    {
     "data": {
      "text/plain": [
       "array(['topped', 'code', 'concealer', 'inspiration', 'adventure', 'gloss',\n",
       "       'also', 'might', 'outfit', 'city'], dtype=object)"
      ]
     },
     "execution_count": 55,
     "metadata": {},
     "output_type": "execute_result"
    }
   ],
   "source": [
    "# show only the words that have a positive impacts on likes\n",
    "lasso.feature_names_in_[np.argsort(lasso.coef_)[::-1]][:10]"
   ]
  },
  {
   "cell_type": "code",
   "execution_count": 56,
   "id": "2bb751d1",
   "metadata": {},
   "outputs": [
    {
     "data": {
      "text/plain": [
       "array([0.01895701, 0.01199496, 0.01117251, 0.00945354, 0.00925197,\n",
       "       0.00917202, 0.0090462 , 0.00891303, 0.00816344, 0.00812252])"
      ]
     },
     "execution_count": 56,
     "metadata": {},
     "output_type": "execute_result"
    }
   ],
   "source": [
    "# their coefficients\n",
    "lasso.coef_[np.argsort(lasso.coef_)[::-1]][:10]"
   ]
  },
  {
   "cell_type": "code",
   "execution_count": 57,
   "id": "6c9d1422",
   "metadata": {},
   "outputs": [
    {
     "data": {
      "text/plain": [
       "\"['*advertisement For me watchin @originaldiaries and eating some delicious waffles is the perfekt start in the day ❤️ ❔What is your perfekt start in the day❔  I topped my waffles with some fresh strawberries 🍓 , mango 🍈 and a ', 'little bit', ' nutella 🍫😅 Ingredients for 2 LOW CARB WAFFLES 🍓🍓: 1⃣ 2 beaten egg whites (2 steif geschlagene Eiweiße) 🍳 2⃣ 1 egg yolk (1 Eigelb) 🍳 3⃣ 60g protein powder (Ich habe @fitnessguru ', 's OnePancake verwendet) 🌾 4⃣ 30g almond flour (30g Mandelmehl) 4⃣ 7g baking powder (7g Backpulver) 5⃣ 50 - 100ml milk of your choice (50 - 100ml Milch nach Wahl) 🍼 6⃣ 1 teaspoon coconut- or other healthy oil (1 Teelöffel Kokosnuss- oder anderes gesunde Öl)  Directions (Anleitung): 1⃣ Combine all ingredients in a bowl and mix them well (Vermische alle Zutaten gut in einer Schüssel) 🍶 2⃣ Grease waffle iron with a tiny bit oil and turn it on (Waffeleisen etwas einölen und einschalten) 3⃣ Bake waffle until done (Waffel backen bis sie fertig ist) 💜 {the recipe is from lovely @pilotmadeleine 🌺} #waffleoverdose #pilotmadeleinerecipe #fitnessguru #theoriginals']\""
      ]
     },
     "execution_count": 57,
     "metadata": {},
     "output_type": "execute_result"
    }
   ],
   "source": [
    "topped = df1[\"Captions\"].loc[df1[\"Captions\"].str.contains(\" topped \") & ~df1[\"Captions\"].isnull()]\n",
    "topped.iloc[0]"
   ]
  },
  {
   "cell_type": "code",
   "execution_count": 58,
   "id": "a514a4bf",
   "metadata": {
    "scrolled": true
   },
   "outputs": [
    {
     "data": {
      "text/plain": [
       "\"['Perfect banana pancakes topped with @fiveamorganics Greek yogurt and berries galore. Happy Thursday everyone ❤️ #wakeupbeamazing']\""
      ]
     },
     "execution_count": 58,
     "metadata": {},
     "output_type": "execute_result"
    }
   ],
   "source": [
    "topped.iloc[3]"
   ]
  },
  {
   "cell_type": "code",
   "execution_count": 59,
   "id": "d25ec680",
   "metadata": {},
   "outputs": [
    {
     "data": {
      "text/plain": [
       "\"['🌿 mixed my @diginn into one bowl for a tasty broccoli/roasted garlic + roasted sweet potato brown rice bowl topped with fresh guac!']\""
      ]
     },
     "execution_count": 59,
     "metadata": {},
     "output_type": "execute_result"
    }
   ],
   "source": [
    "topped.iloc[5]"
   ]
  },
  {
   "cell_type": "code",
   "execution_count": 60,
   "id": "bbe3fa59",
   "metadata": {},
   "outputs": [],
   "source": [
    "index = np.where(ada_clf.feature_importances_ != 0)"
   ]
  },
  {
   "cell_type": "code",
   "execution_count": 61,
   "id": "045775a0",
   "metadata": {},
   "outputs": [
    {
     "data": {
      "text/plain": [
       "array(['able', 'ad', 'add', 'adventure', 'ago', 'also', 'always',\n",
       "       'amazing', 'anything', 'art', 'available', 'away', 'awesome',\n",
       "       'baby', 'bag', 'banana', 'bar', 'beach', 'beauty', 'believe',\n",
       "       'best', 'big', 'birthday', 'black', 'blue', 'blush', 'book',\n",
       "       'boot', 'bowl', 'box', 'break', 'breakfast', 'bring', 'brow',\n",
       "       'brown', 'brush', 'butter', 'care', 'celebrate', 'chance',\n",
       "       'change', 'check', 'cheese', 'chicken', 'chocolate', 'city',\n",
       "       'classic', 'clean', 'coat', 'coconut', 'code', 'coffee', 'cold',\n",
       "       'collection', 'color', 'come', 'coming', 'comment', 'concealer',\n",
       "       'contest', 'cool', 'cosmetic', 'could', 'course', 'cozy', 'cream',\n",
       "       'cup', 'currently', 'daily', 'dark', 'date', 'day', 'delicious',\n",
       "       'design', 'detail', 'dip', 'dog', 'done', 'dress', 'early', 'easy',\n",
       "       'eat', 'else', 'end', 'enough', 'enter', 'especially', 'event',\n",
       "       'ever', 'every', 'everyone', 'everything', 'excited', 'eye',\n",
       "       'face', 'fall', 'family', 'fashion', 'favorite', 'feel', 'feeling',\n",
       "       'finally', 'find', 'first', 'fit', 'fitness', 'flavor', 'flower',\n",
       "       'food', 'foundation', 'free', 'friend', 'full', 'fun', 'gel',\n",
       "       'getting', 'gift', 'girl', 'give', 'giveaway', 'giving', 'glam',\n",
       "       'glitter', 'gloss', 'glow', 'go', 'going', 'gold', 'good', 'goody',\n",
       "       'gorgeous', 'got', 'great', 'guy', 'gym', 'hair', 'happy', 'head',\n",
       "       'healthy', 'heart', 'help', 'hey', 'high', 'highlight', 'hit',\n",
       "       'holiday', 'home', 'hope', 'hot', 'house', 'ice', 'incredible',\n",
       "       'influencer', 'inspiration', 'jacket', 'keep', 'kit', 'know', 'la',\n",
       "       'lady', 'lash', 'last', 'latest', 'let', 'life', 'like', 'liner',\n",
       "       'link', 'lip', 'lipstick', 'live', 'local', 'look', 'looking',\n",
       "       'lot', 'love', 'lovely', 'loving', 'lunch', 'made', 'make',\n",
       "       'making', 'matte', 'may', 'meal', 'mean', 'might', 'milk',\n",
       "       'minute', 'miss', 'moment', 'much', 'must', 'need', 'new', 'next',\n",
       "       'nice', 'night', 'oh', 'oil', 'one', 'open', 'order', 'outfit',\n",
       "       'page', 'pair', 'palette', 'pant', 'party', 'pencil', 'perfect',\n",
       "       'photo', 'photography', 'pick', 'picture', 'pink', 'please', 'pop',\n",
       "       'post', 'powder', 'pretty', 'product', 'profile', 'protein',\n",
       "       'purchase', 'put', 'quick', 'read', 'really', 'recipe', 'repost',\n",
       "       'right', 'rose', 'running', 'sale', 'save', 'say', 'school', 'see',\n",
       "       'seen', 'seriously', 'shade', 'shadow', 'shirt', 'shoe', 'shop',\n",
       "       'shopping', 'short', 'shot', 'show', 'side', 'simple', 'size',\n",
       "       'skin', 'small', 'smile', 'snack', 'snow', 'soft', 'something',\n",
       "       'soon', 'special', 'spray', 'stay', 'step', 'still', 'story',\n",
       "       'stuff', 'style', 'summer', 'sun', 'super', 'sure', 'sweater',\n",
       "       'sweet', 'swipe', 'take', 'talk', 'taste', 'tea', 'team', 'tell',\n",
       "       'thanks', 'thing', 'though', 'thought', 'three', 'time', 'today',\n",
       "       'tomorrow', 'tonight', 'took', 'top', 'topped', 'travel', 'treat',\n",
       "       'trip', 'true', 'try', 'trying', 'tutorial', 'two', 'use',\n",
       "       'valentine', 'via', 'video', 'view', 'visit', 'wait', 'want',\n",
       "       'watch', 'water', 'way', 'wear', 'wearing', 'weather', 'weekend',\n",
       "       'well', 'white', 'winner', 'winter', 'wish', 'without', 'work',\n",
       "       'working', 'workout', 'worth', 'would', 'year', 'yes', 'yesterday',\n",
       "       'yet', 'yummy', 'sponsored', 'category_General Interest',\n",
       "       'category_Home Goods Stores', 'category_Home Services',\n",
       "       'category_Lifestyle Services',\n",
       "       'category_Personal Goods & General Merchandise Stores',\n",
       "       'category_Professional Services', 'category_Publishers',\n",
       "       'category_Transportation & Accomodation Services'], dtype=object)"
      ]
     },
     "execution_count": 61,
     "metadata": {},
     "output_type": "execute_result"
    }
   ],
   "source": [
    "tree_importance = ada_clf.feature_names_in_[index]\n",
    "tree_importance"
   ]
  },
  {
   "cell_type": "markdown",
   "id": "354e40ba",
   "metadata": {},
   "source": [
    "Feature importance is calculated in regression trees based on the total reduction of a criterion (squared error) brought by that feature. Words like ‘new’, ‘link’, ‘code’, and ‘profile’ are all common terms that influencers use when they want to sell you certain items with their affiliate code or link. These tend to work well with the instagram audience which is why sponsors are always looking for new influencers to help them promote their products via this method, while terms like “recipe”, “outfit”, and “vacation” tend to be more about influencers just expressing themselves such as what they are cook, wearing or where they are traveling to. It is also not surprising to see that the category of creators and celebrities has the highest impact out of all categories as it is the most popular. \n",
    "\n",
    "If we can compare the words between LASSO and AdaBoost, we see that the two overlapping words are code and outfit which clearly shows the importance of discounts when promoting items for brands. These affiliate codes and links seem to draw people into whatever content the influencer is posting especially topics related to fashion and dressing up. "
   ]
  },
  {
   "cell_type": "code",
   "execution_count": 62,
   "id": "f3c3b3ce",
   "metadata": {
    "scrolled": true
   },
   "outputs": [
    {
     "data": {
      "image/png": "[encoded data removed]",
      "text/plain": [
       "<Figure size 432x288 with 1 Axes>"
      ]
     },
     "metadata": {
      "needs_background": "light"
     },
     "output_type": "display_data"
    }
   ],
   "source": [
    "# The higher, the more important the feature. \n",
    "# The importance of a feature is computed as the (normalized) \n",
    "# total reduction of the criterion (squared error) brought by that feature. \n",
    "mse_decrease = ada_clf.feature_importances_[index][np.argsort(ada_clf.feature_importances_[index])[::-1]][:10]\n",
    "forest_importances = pd.Series(mse_decrease, index=ada_clf.feature_names_in_[index][np.argsort(ada_clf.feature_importances_[index])[::-1]][:10])\n",
    "\n",
    "fig, ax = plt.subplots()\n",
    "forest_importances.plot.bar(ax=ax)\n",
    "ax.set_title(\"Feature importances in AdaBoost\")\n",
    "ax.set_ylabel(\"Mean decrease in squared error\")\n",
    "fig.tight_layout()\n"
   ]
  },
  {
   "cell_type": "code",
   "execution_count": 64,
   "id": "a6108730",
   "metadata": {},
   "outputs": [
    {
     "data": {
      "text/plain": [
       "array([0.06035044, 0.06029693, 0.06028445, 0.06061092, 0.06092264,\n",
       "       0.06064923, 0.06089854, 0.06086269, 0.06091294, 0.06097958,\n",
       "       0.06124679, 0.06141657, 0.06130026, 0.06137198, 0.06157587,\n",
       "       0.06147531, 0.06159308, 0.06165732, 0.06163478, 0.06210695,\n",
       "       0.06215735, 0.06226424, 0.06216779, 0.06237525, 0.06243034,\n",
       "       0.06238229, 0.06237173, 0.06276915, 0.06288014, 0.06303206,\n",
       "       0.06302879, 0.06322112, 0.06317143, 0.0632118 , 0.06349389,\n",
       "       0.06341445, 0.06348203, 0.06371329, 0.06353856, 0.06378691,\n",
       "       0.06380726, 0.06408535, 0.06417211, 0.06439591, 0.06425317,\n",
       "       0.06451321, 0.06478981, 0.06450151, 0.06462852, 0.0647791 ,\n",
       "       0.06476649, 0.0650247 , 0.06491211, 0.06513345, 0.06554105,\n",
       "       0.06522073, 0.0655232 , 0.06553835, 0.06568853, 0.06545682,\n",
       "       0.06561291, 0.06613428, 0.06611781, 0.06589113, 0.06612081,\n",
       "       0.06642567, 0.06668298, 0.06656787, 0.06632128, 0.06678802,\n",
       "       0.06670051, 0.06701908, 0.06695441, 0.0672713 , 0.06742931,\n",
       "       0.06738882, 0.06739727, 0.06766491, 0.0673476 , 0.06777818,\n",
       "       0.06792924, 0.06771974, 0.06847048, 0.06827129, 0.06826835,\n",
       "       0.06836123, 0.06818809, 0.0688561 , 0.06841286, 0.06877164,\n",
       "       0.06897194, 0.06894594, 0.06926981, 0.06926765, 0.06921626,\n",
       "       0.06949882, 0.06987547, 0.06980134, 0.06991631, 0.07001614])"
      ]
     },
     "execution_count": 64,
     "metadata": {},
     "output_type": "execute_result"
    }
   ],
   "source": [
    "ada_clf.estimator_errors_"
   ]
  },
  {
   "cell_type": "code",
   "execution_count": 65,
   "id": "ac445123",
   "metadata": {},
   "outputs": [],
   "source": [
    "#look at some captions with the top words\n",
    "codes = df1[\"Captions\"].loc[df1[\"Captions\"].str.contains(\"code\") & ~df1[\"Captions\"].isnull()]\n",
    "profile = df1[\"Captions\"].loc[df1[\"Captions\"].str.contains(\"profile\") & ~df1[\"Captions\"].isnull()]\n",
    "outfit = df1[\"Captions\"].loc[df1[\"Captions\"].str.contains(\"outfit\") & ~df1[\"Captions\"].isnull()]"
   ]
  },
  {
   "cell_type": "code",
   "execution_count": 66,
   "id": "9e4465ac",
   "metadata": {},
   "outputs": [
    {
     "data": {
      "text/plain": [
       "\"['incredibly excited to announce my partnership with @rocksbox this summer! start your summer off right and use promo code gracearagonxoxo to get 1 month free and enjoy your own beautiful, designer jewelry! #RBItGirl #Rocksbox']\""
      ]
     },
     "execution_count": 66,
     "metadata": {},
     "output_type": "execute_result"
    }
   ],
   "source": [
    "codes.iloc[0]"
   ]
  },
  {
   "cell_type": "code",
   "execution_count": 67,
   "id": "fd84d3ad",
   "metadata": {},
   "outputs": [
    {
     "data": {
      "text/plain": [
       "\"['Everything you need to make cornmeal and spelt pancakes and rhubarb whipped cream! Find the recipe and 🌟🌟enter to win a @rudehealth Ultimate Breakfast Hamper! 🌟🌟 .  On the blog, www.theworktop.com, link in profile. . #feedfeed #breakfast #foodporn #pancakes #giveaway #rhubarb #instafood #healthy #spelt #f52grams #foodie #pancake #competition #sunday #delicious #speltflour #homemade #foodphotography #eatclean #vscocam #cleaneating']\""
      ]
     },
     "execution_count": 67,
     "metadata": {},
     "output_type": "execute_result"
    }
   ],
   "source": [
    "profile.iloc[0]"
   ]
  },
  {
   "cell_type": "code",
   "execution_count": 68,
   "id": "0baa5715",
   "metadata": {},
   "outputs": [
    {
     "data": {
      "text/plain": [
       "\"['I feel aroused in me an interior decorator soul. Planted in the decor, for @dockerseurope contest, here is my outfit. With a blue chino alpha khaki and grey jacket from @dockerskhakis . Don', 't forget to add me on Snapchat for more live events #dockersonthego']\""
      ]
     },
     "execution_count": 68,
     "metadata": {},
     "output_type": "execute_result"
    }
   ],
   "source": [
    "outfit.iloc[0]"
   ]
  },
  {
   "cell_type": "markdown",
   "id": "13e5e6a1",
   "metadata": {},
   "source": [
    "# Conclusion"
   ]
  },
  {
   "cell_type": "markdown",
   "id": "c35be926",
   "metadata": {},
   "source": [
    "In summary, we have successfully used NLP analysis of a huge dataset of captions as a feature in predicting popularity of influencers. Certain words increase the popularity of the post and provide more traction to the influencer while other contents could prove to be detrimental. \n",
    "\n",
    "For future work and given more resources for processing huge datasets, it will be insightful to also analyze the contents of comments elicited as a possible predictor (or indicator) of popularity. Although the TF-IDF scores on the captions have proven to be somewhat lackluster in terms of prediction strength, it has helped explain some of the most prominent words used on Instagram. More NLP models should be considered in the future especially those that can provide semantic understanding of text.\n",
    "\n",
    "Given the scarcity of Instagram-trained models for captions or comments, I also believe that it will be helpful to contribute to the field by creating our own instagram-trained model and compare to other existing Twitter or general purpose models, so that more businesses and social media users can benefit from our research.\n"
   ]
  }
 ],
 "metadata": {
  "kernelspec": {
   "display_name": "Python 3 (ipykernel)",
   "language": "python",
   "name": "python3"
  },
  "language_info": {
   "codemirror_mode": {
    "name": "ipython",
    "version": 3
   },
   "file_extension": ".py",
   "mimetype": "text/x-python",
   "name": "python",
   "nbconvert_exporter": "python",
   "pygments_lexer": "ipython3",
   "version": "3.9.12"
  }
 },
 "nbformat": 4,
 "nbformat_minor": 5
}
